{
  "nbformat": 4,
  "nbformat_minor": 0,
  "metadata": {
    "colab": {
      "provenance": [],
      "authorship_tag": "ABX9TyNYoemTZ3uO7tKg24V7Quyd",
      "include_colab_link": true
    },
    "kernelspec": {
      "name": "python3",
      "display_name": "Python 3"
    },
    "language_info": {
      "name": "python"
    }
  },
  "cells": [
    {
      "cell_type": "markdown",
      "metadata": {
        "id": "view-in-github",
        "colab_type": "text"
      },
      "source": [
        "<a href=\"https://colab.research.google.com/github/anujthapamagar/FEDS/blob/main/Challenge.ipynb\" target=\"_parent\"><img src=\"https://colab.research.google.com/assets/colab-badge.svg\" alt=\"Open In Colab\"/></a>"
      ]
    },
    {
      "cell_type": "markdown",
      "source": [
        "## Creating int variables"
      ],
      "metadata": {
        "id": "saHHbNXF7Oo7"
      }
    },
    {
      "cell_type": "code",
      "source": [
        "x = 25\n",
        "y = 5"
      ],
      "metadata": {
        "id": "qlbD_5BE7Thp"
      },
      "execution_count": 1,
      "outputs": []
    },
    {
      "cell_type": "code",
      "source": [
        "type(x)"
      ],
      "metadata": {
        "colab": {
          "base_uri": "https://localhost:8080/"
        },
        "id": "PE1sLfb97ccL",
        "outputId": "21e48b4c-83cc-4eb2-8876-c57667235b0f"
      },
      "execution_count": 2,
      "outputs": [
        {
          "output_type": "execute_result",
          "data": {
            "text/plain": [
              "int"
            ]
          },
          "metadata": {},
          "execution_count": 2
        }
      ]
    },
    {
      "cell_type": "code",
      "source": [
        "type(x), type(y)"
      ],
      "metadata": {
        "colab": {
          "base_uri": "https://localhost:8080/"
        },
        "id": "i94SE_-g7fWg",
        "outputId": "e45cf21a-5f75-487a-f0a0-1779abc93f43"
      },
      "execution_count": 4,
      "outputs": [
        {
          "output_type": "execute_result",
          "data": {
            "text/plain": [
              "(int, int)"
            ]
          },
          "metadata": {},
          "execution_count": 4
        }
      ]
    },
    {
      "cell_type": "code",
      "source": [
        "product = x * y\n",
        "\n",
        "print(f\"The product is :{product}\")"
      ],
      "metadata": {
        "colab": {
          "base_uri": "https://localhost:8080/"
        },
        "id": "-yZZmB2-7hGv",
        "outputId": "5f5e1e7f-4c19-470d-845c-1db6aa2b3d62"
      },
      "execution_count": 5,
      "outputs": [
        {
          "output_type": "stream",
          "name": "stdout",
          "text": [
            "The product is :125\n"
          ]
        }
      ]
    },
    {
      "cell_type": "code",
      "source": [
        "division = x / y\n",
        "\n",
        "print(f\"The division is :{division}\")\n"
      ],
      "metadata": {
        "colab": {
          "base_uri": "https://localhost:8080/"
        },
        "id": "DfFboxlg7x3d",
        "outputId": "56c31097-3284-41a1-a371-a96a53ae7290"
      },
      "execution_count": 6,
      "outputs": [
        {
          "output_type": "stream",
          "name": "stdout",
          "text": [
            "The division is :5.0\n"
          ]
        }
      ]
    },
    {
      "cell_type": "code",
      "source": [
        "random = [1,2,3,4,5,6,7]\n",
        "\n",
        "type(random)"
      ],
      "metadata": {
        "colab": {
          "base_uri": "https://localhost:8080/"
        },
        "id": "fCrBKwB_8B9T",
        "outputId": "fbddebd2-c29e-4ee0-abe4-e8cd0e85c7a5"
      },
      "execution_count": 7,
      "outputs": [
        {
          "output_type": "execute_result",
          "data": {
            "text/plain": [
              "list"
            ]
          },
          "metadata": {},
          "execution_count": 7
        }
      ]
    },
    {
      "cell_type": "code",
      "source": [
        "set = {1,2,3,4,5}\n",
        "type(set)"
      ],
      "metadata": {
        "colab": {
          "base_uri": "https://localhost:8080/"
        },
        "id": "vXpJgh3i8OaJ",
        "outputId": "6d9a5697-4dea-4b16-bd07-6657bb7f5fd5"
      },
      "execution_count": 9,
      "outputs": [
        {
          "output_type": "execute_result",
          "data": {
            "text/plain": [
              "set"
            ]
          },
          "metadata": {},
          "execution_count": 9
        }
      ]
    },
    {
      "cell_type": "code",
      "source": [],
      "metadata": {
        "id": "f9tr7FC48YSw"
      },
      "execution_count": null,
      "outputs": []
    }
  ]
}