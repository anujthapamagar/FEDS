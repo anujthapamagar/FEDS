{
  "nbformat": 4,
  "nbformat_minor": 0,
  "metadata": {
    "colab": {
      "provenance": [],
      "authorship_tag": "ABX9TyPFRoIy/cuYWVi9A7EXkp5k",
      "include_colab_link": true
    },
    "kernelspec": {
      "name": "python3",
      "display_name": "Python 3"
    },
    "language_info": {
      "name": "python"
    }
  },
  "cells": [
    {
      "cell_type": "markdown",
      "metadata": {
        "id": "view-in-github",
        "colab_type": "text"
      },
      "source": [
        "<a href=\"https://colab.research.google.com/github/anujthapamagar/FEDS/blob/main/17_april_lecture.ipynb\" target=\"_parent\"><img src=\"https://colab.research.google.com/assets/colab-badge.svg\" alt=\"Open In Colab\"/></a>"
      ]
    },
    {
      "cell_type": "markdown",
      "source": [
        "# Python classes"
      ],
      "metadata": {
        "id": "WDU5F5UoYBRF"
      }
    },
    {
      "cell_type": "markdown",
      "source": [
        "## 1 What are classes?\n",
        "\n",
        "Objects have attributes (data structures) and behaviour (methods = functions)"
      ],
      "metadata": {
        "id": "Y3CGsSvZZVYz"
      }
    },
    {
      "cell_type": "markdown",
      "source": [
        "### 1.1 Create a simple class\n",
        "\n",
        "We create a class called `Person`\n",
        "- attribute first name\n",
        "- attrubute last name\n",
        "\n",
        "- behaviour tell us the name of the Person"
      ],
      "metadata": {
        "id": "konULVX5Zqri"
      }
    },
    {
      "cell_type": "code",
      "source": [
        "class Person:\n",
        "  # setting the attributes\n",
        "  def __init__(self, fname, lname):\n",
        "    self.firstname = fname\n",
        "    self.lastname = lname\n",
        "\n",
        "  # implement the behaviour\n",
        "  def printName(self):\n",
        "    print(self.firstname, self.lastname)\n",
        "\n",
        "  "
      ],
      "metadata": {
        "id": "GnmisFFmaqK8"
      },
      "execution_count": 2,
      "outputs": []
    },
    {
      "cell_type": "code",
      "source": [
        "me = Person(\"Anuj\", \"Thapa Magar\")\n",
        "me.printName()"
      ],
      "metadata": {
        "colab": {
          "base_uri": "https://localhost:8080/"
        },
        "id": "T8cdme8sbb3f",
        "outputId": "0b8c540f-f372-4aa5-e578-58234242c269"
      },
      "execution_count": 3,
      "outputs": [
        {
          "output_type": "stream",
          "name": "stdout",
          "text": [
            "Anuj Thapa Magar\n"
          ]
        }
      ]
    },
    {
      "cell_type": "markdown",
      "source": [
        "### 1.2 Inheritance\n",
        "\n",
        "We can use a class to \"inherit\" the attributes and the behaviour from a **parent** class to a **child** class"
      ],
      "metadata": {
        "id": "qQJ0KVRAbnoZ"
      }
    },
    {
      "cell_type": "code",
      "source": [
        "# just inherit everything without change\n",
        "\n",
        "class Student(Person):\n",
        "  pass\n",
        "\n",
        "newStudent = Student(\"Qwert\", \"Yuiop\")\n",
        "newStudent.printName()"
      ],
      "metadata": {
        "colab": {
          "base_uri": "https://localhost:8080/"
        },
        "id": "ne2FWeA_ci0q",
        "outputId": "848b190b-0940-4c43-beca-33c1be672bcc"
      },
      "execution_count": 4,
      "outputs": [
        {
          "output_type": "stream",
          "name": "stdout",
          "text": [
            "Qwert Yuiop\n"
          ]
        }
      ]
    },
    {
      "cell_type": "markdown",
      "source": [
        "#### 1.2.1 Inherit from parent and add some attribute and new behaviour"
      ],
      "metadata": {
        "id": "pqUioP9Wc-iL"
      }
    },
    {
      "cell_type": "code",
      "source": [
        "class Student(Person):\n",
        "  # set the new attribute and call the parent initialiser (constructor)\n",
        "  def __init__(self, fname, lname, year):\n",
        "    super().__init__(fname, lname)\n",
        "    self.entryYear = year\n",
        "\n",
        "\n",
        "  # set the new behaviour\n",
        "  def welcome(self):\n",
        "    print(f\"Welcome {self.firstname} {self.lastname} to the class of {self.entryYear}.\")"
      ],
      "metadata": {
        "id": "6-cStHkYdOTQ"
      },
      "execution_count": 5,
      "outputs": []
    },
    {
      "cell_type": "code",
      "source": [
        "newStudent = Student(\"John\", \"Doe\", 2023)\n",
        "newStudent.welcome()\n"
      ],
      "metadata": {
        "colab": {
          "base_uri": "https://localhost:8080/"
        },
        "id": "YdnnIJTHeV7L",
        "outputId": "f7184405-9932-4d4f-9263-d308563d7c19"
      },
      "execution_count": 6,
      "outputs": [
        {
          "output_type": "stream",
          "name": "stdout",
          "text": [
            "Welcome John Doe to the class of 2023.\n"
          ]
        }
      ]
    },
    {
      "cell_type": "code",
      "source": [
        "newStudent.printName()"
      ],
      "metadata": {
        "colab": {
          "base_uri": "https://localhost:8080/"
        },
        "id": "SRcYCINfeoUI",
        "outputId": "4f7c8ab0-02ba-435f-85e5-b44ab8658daa"
      },
      "execution_count": 7,
      "outputs": [
        {
          "output_type": "stream",
          "name": "stdout",
          "text": [
            "John Doe\n"
          ]
        }
      ]
    },
    {
      "cell_type": "code",
      "source": [
        "import pandas as pd\n",
        "\n",
        "df = pd.DataFrame([[1,2],[3,4]], columns=[\"A\",\"B\"])\n",
        "df"
      ],
      "metadata": {
        "colab": {
          "base_uri": "https://localhost:8080/",
          "height": 112
        },
        "id": "lAbUg2kofMpD",
        "outputId": "2ecc6d35-18ca-41ca-e821-9e5e9e0fb40c"
      },
      "execution_count": 8,
      "outputs": [
        {
          "output_type": "execute_result",
          "data": {
            "text/plain": [
              "   A  B\n",
              "0  1  2\n",
              "1  3  4"
            ],
            "text/html": [
              "\n",
              "  <div id=\"df-44865983-083b-47c3-8067-2c68993e4f84\">\n",
              "    <div class=\"colab-df-container\">\n",
              "      <div>\n",
              "<style scoped>\n",
              "    .dataframe tbody tr th:only-of-type {\n",
              "        vertical-align: middle;\n",
              "    }\n",
              "\n",
              "    .dataframe tbody tr th {\n",
              "        vertical-align: top;\n",
              "    }\n",
              "\n",
              "    .dataframe thead th {\n",
              "        text-align: right;\n",
              "    }\n",
              "</style>\n",
              "<table border=\"1\" class=\"dataframe\">\n",
              "  <thead>\n",
              "    <tr style=\"text-align: right;\">\n",
              "      <th></th>\n",
              "      <th>A</th>\n",
              "      <th>B</th>\n",
              "    </tr>\n",
              "  </thead>\n",
              "  <tbody>\n",
              "    <tr>\n",
              "      <th>0</th>\n",
              "      <td>1</td>\n",
              "      <td>2</td>\n",
              "    </tr>\n",
              "    <tr>\n",
              "      <th>1</th>\n",
              "      <td>3</td>\n",
              "      <td>4</td>\n",
              "    </tr>\n",
              "  </tbody>\n",
              "</table>\n",
              "</div>\n",
              "      <button class=\"colab-df-convert\" onclick=\"convertToInteractive('df-44865983-083b-47c3-8067-2c68993e4f84')\"\n",
              "              title=\"Convert this dataframe to an interactive table.\"\n",
              "              style=\"display:none;\">\n",
              "        \n",
              "  <svg xmlns=\"http://www.w3.org/2000/svg\" height=\"24px\"viewBox=\"0 0 24 24\"\n",
              "       width=\"24px\">\n",
              "    <path d=\"M0 0h24v24H0V0z\" fill=\"none\"/>\n",
              "    <path d=\"M18.56 5.44l.94 2.06.94-2.06 2.06-.94-2.06-.94-.94-2.06-.94 2.06-2.06.94zm-11 1L8.5 8.5l.94-2.06 2.06-.94-2.06-.94L8.5 2.5l-.94 2.06-2.06.94zm10 10l.94 2.06.94-2.06 2.06-.94-2.06-.94-.94-2.06-.94 2.06-2.06.94z\"/><path d=\"M17.41 7.96l-1.37-1.37c-.4-.4-.92-.59-1.43-.59-.52 0-1.04.2-1.43.59L10.3 9.45l-7.72 7.72c-.78.78-.78 2.05 0 2.83L4 21.41c.39.39.9.59 1.41.59.51 0 1.02-.2 1.41-.59l7.78-7.78 2.81-2.81c.8-.78.8-2.07 0-2.86zM5.41 20L4 18.59l7.72-7.72 1.47 1.35L5.41 20z\"/>\n",
              "  </svg>\n",
              "      </button>\n",
              "      \n",
              "  <style>\n",
              "    .colab-df-container {\n",
              "      display:flex;\n",
              "      flex-wrap:wrap;\n",
              "      gap: 12px;\n",
              "    }\n",
              "\n",
              "    .colab-df-convert {\n",
              "      background-color: #E8F0FE;\n",
              "      border: none;\n",
              "      border-radius: 50%;\n",
              "      cursor: pointer;\n",
              "      display: none;\n",
              "      fill: #1967D2;\n",
              "      height: 32px;\n",
              "      padding: 0 0 0 0;\n",
              "      width: 32px;\n",
              "    }\n",
              "\n",
              "    .colab-df-convert:hover {\n",
              "      background-color: #E2EBFA;\n",
              "      box-shadow: 0px 1px 2px rgba(60, 64, 67, 0.3), 0px 1px 3px 1px rgba(60, 64, 67, 0.15);\n",
              "      fill: #174EA6;\n",
              "    }\n",
              "\n",
              "    [theme=dark] .colab-df-convert {\n",
              "      background-color: #3B4455;\n",
              "      fill: #D2E3FC;\n",
              "    }\n",
              "\n",
              "    [theme=dark] .colab-df-convert:hover {\n",
              "      background-color: #434B5C;\n",
              "      box-shadow: 0px 1px 3px 1px rgba(0, 0, 0, 0.15);\n",
              "      filter: drop-shadow(0px 1px 2px rgba(0, 0, 0, 0.3));\n",
              "      fill: #FFFFFF;\n",
              "    }\n",
              "  </style>\n",
              "\n",
              "      <script>\n",
              "        const buttonEl =\n",
              "          document.querySelector('#df-44865983-083b-47c3-8067-2c68993e4f84 button.colab-df-convert');\n",
              "        buttonEl.style.display =\n",
              "          google.colab.kernel.accessAllowed ? 'block' : 'none';\n",
              "\n",
              "        async function convertToInteractive(key) {\n",
              "          const element = document.querySelector('#df-44865983-083b-47c3-8067-2c68993e4f84');\n",
              "          const dataTable =\n",
              "            await google.colab.kernel.invokeFunction('convertToInteractive',\n",
              "                                                     [key], {});\n",
              "          if (!dataTable) return;\n",
              "\n",
              "          const docLinkHtml = 'Like what you see? Visit the ' +\n",
              "            '<a target=\"_blank\" href=https://colab.research.google.com/notebooks/data_table.ipynb>data table notebook</a>'\n",
              "            + ' to learn more about interactive tables.';\n",
              "          element.innerHTML = '';\n",
              "          dataTable['output_type'] = 'display_data';\n",
              "          await google.colab.output.renderOutput(dataTable, element);\n",
              "          const docLink = document.createElement('div');\n",
              "          docLink.innerHTML = docLinkHtml;\n",
              "          element.appendChild(docLink);\n",
              "        }\n",
              "      </script>\n",
              "    </div>\n",
              "  </div>\n",
              "  "
            ]
          },
          "metadata": {},
          "execution_count": 8
        }
      ]
    },
    {
      "cell_type": "code",
      "source": [
        "df.A.values"
      ],
      "metadata": {
        "colab": {
          "base_uri": "https://localhost:8080/"
        },
        "id": "6gpYTpJNfoKf",
        "outputId": "3b2e5d64-d453-41de-8057-80e413b150bf"
      },
      "execution_count": 9,
      "outputs": [
        {
          "output_type": "execute_result",
          "data": {
            "text/plain": [
              "array([1, 3])"
            ]
          },
          "metadata": {},
          "execution_count": 9
        }
      ]
    },
    {
      "cell_type": "markdown",
      "source": [
        "### 1.3 Chaining -- Use classes to make operations easier to read"
      ],
      "metadata": {
        "id": "HiXVKrzofrAJ"
      }
    },
    {
      "cell_type": "code",
      "source": [
        "# class to add numbers\n",
        "\n",
        "class Adder:\n",
        "  def __init__(self,number):\n",
        "    self.number = number\n",
        "\n",
        "  # add always two to the number\n",
        "  def add_two(self):\n",
        "    self.number += 2\n",
        "    return self # make chaining possible\n",
        "\n",
        "  # return the result \n",
        "  def result(self):\n",
        "    return self.number\n"
      ],
      "metadata": {
        "id": "VeH6zD7egW2E"
      },
      "execution_count": 10,
      "outputs": []
    },
    {
      "cell_type": "code",
      "source": [
        "# Create an instance of the adder object\n",
        "\n",
        "x = Adder(15)\n",
        "\n",
        "# now use chaining to create the addition the result\n",
        "x.add_two().result() \n",
        "\n",
        "# Step 1: call add_two from the object x\n",
        "# Step 2: call result from x\n",
        "# object x knows from itself because of the keyword \"self\""
      ],
      "metadata": {
        "colab": {
          "base_uri": "https://localhost:8080/"
        },
        "id": "MfoJuaskhFB7",
        "outputId": "080019e3-b83e-4cf5-d80c-edd6a7a21308"
      },
      "execution_count": 11,
      "outputs": [
        {
          "output_type": "execute_result",
          "data": {
            "text/plain": [
              "17"
            ]
          },
          "metadata": {},
          "execution_count": 11
        }
      ]
    },
    {
      "cell_type": "code",
      "source": [
        "Adder(12).add_two().result()"
      ],
      "metadata": {
        "colab": {
          "base_uri": "https://localhost:8080/"
        },
        "id": "lKCVj0gFhofK",
        "outputId": "b63dfe61-66a0-401c-b0f3-2a05af5484e4"
      },
      "execution_count": 12,
      "outputs": [
        {
          "output_type": "execute_result",
          "data": {
            "text/plain": [
              "14"
            ]
          },
          "metadata": {},
          "execution_count": 12
        }
      ]
    },
    {
      "cell_type": "markdown",
      "source": [
        "#### 1.3.1 Change `add_two` into a property of the class object\n",
        "\n",
        "For that we can use so called decorators. decorators use the `@` notation.\n",
        "\n",
        "`@property` to make a method a property that can be udes without @"
      ],
      "metadata": {
        "id": "_9XtAj1xihaU"
      }
    },
    {
      "cell_type": "code",
      "source": [
        "# class to add numbers\n",
        "\n",
        "class Adder:\n",
        "  def __init__(self,number):\n",
        "    self.number = number\n",
        "\n",
        "  # add always two to the number\n",
        "  def add_two(self):\n",
        "    self.number += 2\n",
        "    return self # make chaining possible\n",
        "\n",
        "  # return the result \n",
        "  def result(self):\n",
        "    return self.number"
      ],
      "metadata": {
        "id": "Q2PKl6Ghj9u9"
      },
      "execution_count": 21,
      "outputs": []
    },
    {
      "cell_type": "code",
      "source": [
        "x = Adder(15)\n",
        "x.add_two.result()"
      ],
      "metadata": {
        "colab": {
          "base_uri": "https://localhost:8080/",
          "height": 183
        },
        "id": "7XeBmLNckBgF",
        "outputId": "1d419fcd-24d0-4061-b433-1a04d3425466"
      },
      "execution_count": 22,
      "outputs": [
        {
          "output_type": "error",
          "ename": "AttributeError",
          "evalue": "ignored",
          "traceback": [
            "\u001b[0;31m---------------------------------------------------------------------------\u001b[0m",
            "\u001b[0;31mAttributeError\u001b[0m                            Traceback (most recent call last)",
            "\u001b[0;32m<ipython-input-22-27d843c91393>\u001b[0m in \u001b[0;36m<cell line: 2>\u001b[0;34m()\u001b[0m\n\u001b[1;32m      1\u001b[0m \u001b[0mx\u001b[0m \u001b[0;34m=\u001b[0m \u001b[0mAdder\u001b[0m\u001b[0;34m(\u001b[0m\u001b[0;36m15\u001b[0m\u001b[0;34m)\u001b[0m\u001b[0;34m\u001b[0m\u001b[0;34m\u001b[0m\u001b[0m\n\u001b[0;32m----> 2\u001b[0;31m \u001b[0mx\u001b[0m\u001b[0;34m.\u001b[0m\u001b[0madd_two\u001b[0m\u001b[0;34m.\u001b[0m\u001b[0mresult\u001b[0m\u001b[0;34m(\u001b[0m\u001b[0;34m)\u001b[0m\u001b[0;34m\u001b[0m\u001b[0;34m\u001b[0m\u001b[0m\n\u001b[0m",
            "\u001b[0;31mAttributeError\u001b[0m: 'function' object has no attribute 'result'"
          ]
        }
      ]
    },
    {
      "cell_type": "markdown",
      "source": [
        "#### 1.3.2 Create a set decorator\n",
        "\n",
        "The set decorator os of the form `name.setter`"
      ],
      "metadata": {
        "id": "hAo78ZkekPtU"
      }
    },
    {
      "cell_type": "code",
      "source": [
        "# class to add numbers\n",
        "\n",
        "class Adder:\n",
        "  def __init__(self,number):\n",
        "    self.number = number\n",
        "    self.addme = 0\n",
        "\n",
        "  # add always two to the number\n",
        "  def add_two(self):\n",
        "    self.number += 2\n",
        "    return self # make chaining possible\n",
        "\n",
        "\n",
        "  # new property add will add the addme attribute to the number attribute \n",
        "  @property\n",
        "  def add(self):\n",
        "    self.number += self.addme\n",
        "    return self\n",
        "\n",
        "  # new add method that allows to set the addme\n",
        "  @add.setter\n",
        "  def add(self, addme):\n",
        "    self.addme = addme\n",
        "    return self\n",
        "\n",
        "  \n",
        "  # return the result \n",
        "  def result(self):\n",
        "    return self.number"
      ],
      "metadata": {
        "id": "fFD_EhYxkwt_"
      },
      "execution_count": 19,
      "outputs": []
    },
    {
      "cell_type": "code",
      "source": [
        "x = Adder(15)\n",
        "\n",
        "# set vua the add setter the number to be added\n",
        "\n",
        "x.add = 5\n",
        "\n",
        "# use the add property\n",
        "x.add.result()"
      ],
      "metadata": {
        "colab": {
          "base_uri": "https://localhost:8080/",
          "height": 201
        },
        "id": "KeoHpMVtlsQH",
        "outputId": "a53c7376-179a-4efe-8601-e1537cf5254f"
      },
      "execution_count": 27,
      "outputs": [
        {
          "output_type": "error",
          "ename": "AttributeError",
          "evalue": "ignored",
          "traceback": [
            "\u001b[0;31m---------------------------------------------------------------------------\u001b[0m",
            "\u001b[0;31mAttributeError\u001b[0m                            Traceback (most recent call last)",
            "\u001b[0;32m<ipython-input-27-8211b0a2bb60>\u001b[0m in \u001b[0;36m<cell line: 8>\u001b[0;34m()\u001b[0m\n\u001b[1;32m      6\u001b[0m \u001b[0;34m\u001b[0m\u001b[0m\n\u001b[1;32m      7\u001b[0m \u001b[0;31m# use the add property\u001b[0m\u001b[0;34m\u001b[0m\u001b[0;34m\u001b[0m\u001b[0m\n\u001b[0;32m----> 8\u001b[0;31m \u001b[0mx\u001b[0m\u001b[0;34m.\u001b[0m\u001b[0madd\u001b[0m\u001b[0;34m.\u001b[0m\u001b[0mresult\u001b[0m\u001b[0;34m(\u001b[0m\u001b[0;34m)\u001b[0m\u001b[0;34m\u001b[0m\u001b[0;34m\u001b[0m\u001b[0m\n\u001b[0m",
            "\u001b[0;31mAttributeError\u001b[0m: 'int' object has no attribute 'result'"
          ]
        }
      ]
    },
    {
      "cell_type": "code",
      "source": [
        "# Object always allow to set the attribute by just using it as left hand side of the equation\n",
        "\n",
        "x.addme = 10\n",
        "x.add.result()"
      ],
      "metadata": {
        "colab": {
          "base_uri": "https://localhost:8080/",
          "height": 201
        },
        "id": "6rRfwWzgl6Yx",
        "outputId": "466b9bbd-468b-443c-cedd-a91d64f58a03"
      },
      "execution_count": 28,
      "outputs": [
        {
          "output_type": "error",
          "ename": "AttributeError",
          "evalue": "ignored",
          "traceback": [
            "\u001b[0;31m---------------------------------------------------------------------------\u001b[0m",
            "\u001b[0;31mAttributeError\u001b[0m                            Traceback (most recent call last)",
            "\u001b[0;32m<ipython-input-28-76a20724e31e>\u001b[0m in \u001b[0;36m<cell line: 4>\u001b[0;34m()\u001b[0m\n\u001b[1;32m      2\u001b[0m \u001b[0;34m\u001b[0m\u001b[0m\n\u001b[1;32m      3\u001b[0m \u001b[0mx\u001b[0m\u001b[0;34m.\u001b[0m\u001b[0maddme\u001b[0m \u001b[0;34m=\u001b[0m \u001b[0;36m10\u001b[0m\u001b[0;34m\u001b[0m\u001b[0;34m\u001b[0m\u001b[0m\n\u001b[0;32m----> 4\u001b[0;31m \u001b[0mx\u001b[0m\u001b[0;34m.\u001b[0m\u001b[0madd\u001b[0m\u001b[0;34m.\u001b[0m\u001b[0mresult\u001b[0m\u001b[0;34m(\u001b[0m\u001b[0;34m)\u001b[0m\u001b[0;34m\u001b[0m\u001b[0;34m\u001b[0m\u001b[0m\n\u001b[0m",
            "\u001b[0;31mAttributeError\u001b[0m: 'int' object has no attribute 'result'"
          ]
        }
      ]
    },
    {
      "cell_type": "markdown",
      "source": [
        "### 1.4 make a class to create random data\n"
      ],
      "metadata": {
        "id": "bP2WF-ANmjrG"
      }
    },
    {
      "cell_type": "code",
      "source": [
        "import numpy as np\n",
        "import pandas as pd\n",
        "import seaborn as sns\n",
        "\n",
        "class randomData:\n",
        "  # set attributes to initial values\n",
        "  def __init__(self):\n",
        "    self._fct = lambda x, e=0: x\n",
        "    self._length = 100\n",
        "    self._seed = 42\n",
        "    self._df = None\n",
        "    self._scale = 10\n",
        "\n",
        "# Method to create the random data\n",
        "  @property\n",
        "  def create(self):\n",
        "    rng = np.random.default_rng(self._seed)\n",
        "    rng2 = np.random.default_rng(self._seed+1)\n",
        "\n",
        "  # Create the x,y and epsilon\n",
        "    x = rng.random(size=self._length)*50\n",
        "    eps = rng2.normal(loc=0, scale=self._scale, size=len(x))\n",
        "    y = self._fct(x, e=eps)\n",
        "\n",
        "    df = pd.DataFrame({\n",
        "      \"x\": x,\n",
        "      \"y\": y,\n",
        "      \"e\": eps\n",
        "    })\n",
        "\n",
        "    self._df = df\n",
        "    return self\n",
        "\n",
        "  # Return the dataframe after it is created\n",
        "  @property\n",
        "  def df(self) -> pd.DataFrame:\n",
        "    return self._df\n",
        "\n",
        "  # Method to get the current finction\n",
        "  @property\n",
        "  def fct(self) -> pd.DataFrame:\n",
        "    return self._df\n",
        "\n",
        "  # Method to set the function\n",
        "  @fct.setter\n",
        "  def fct(self, fct):\n",
        "    self._fct = fct\n",
        "\n",
        "  # Method to see the state of the class\n",
        "  def getStateDict(self):\n",
        "    dc = {\n",
        "        \"function\": self._fct,\n",
        "        \"Length\": self._length,\n",
        "        \"Seed\": self._seed,\n",
        "        \"Scale\": self._scale\n",
        "    }\n",
        "\n",
        "    return dc"
      ],
      "metadata": {
        "id": "OU3TFV0eoAee"
      },
      "execution_count": 43,
      "outputs": []
    },
    {
      "cell_type": "code",
      "source": [
        "newRandomData = randomData()\n",
        "newRandomData.getStateDict()"
      ],
      "metadata": {
        "colab": {
          "base_uri": "https://localhost:8080/"
        },
        "id": "YUe84MOosavP",
        "outputId": "f8e29ecb-4476-48c3-a569-358ab2f29cb3"
      },
      "execution_count": 45,
      "outputs": [
        {
          "output_type": "execute_result",
          "data": {
            "text/plain": [
              "{'function': <function __main__.randomData.__init__.<locals>.<lambda>(x, e=0)>,\n",
              " 'Length': 100,\n",
              " 'Seed': 42,\n",
              " 'Scale': 10}"
            ]
          },
          "metadata": {},
          "execution_count": 45
        }
      ]
    },
    {
      "cell_type": "code",
      "source": [
        "newRandomData = randomData()\n",
        "newRandomData.create.df"
      ],
      "metadata": {
        "colab": {
          "base_uri": "https://localhost:8080/",
          "height": 423
        },
        "id": "umfH4KimqaPI",
        "outputId": "72e10207-d97a-4a2b-a55a-d688ba557957"
      },
      "execution_count": 46,
      "outputs": [
        {
          "output_type": "execute_result",
          "data": {
            "text/plain": [
              "            x          y          e\n",
              "0   38.697802  38.697802   2.442295\n",
              "1   21.943922  21.943922   6.781783\n",
              "2   42.929896  42.929896  -5.855294\n",
              "3   34.868401  34.868401  -9.086731\n",
              "4    4.708867   4.708867 -19.918382\n",
              "..        ...        ...        ...\n",
              "95  31.514130  31.514130  -5.622586\n",
              "96  18.090631  18.090631   0.423771\n",
              "97   4.382496   4.382496 -23.575166\n",
              "98   5.900295   5.900295  -5.203630\n",
              "99  48.094883  48.094883   7.882663\n",
              "\n",
              "[100 rows x 3 columns]"
            ],
            "text/html": [
              "\n",
              "  <div id=\"df-f43f2dbe-4dc7-4ab3-b586-ac47b6dd89b5\">\n",
              "    <div class=\"colab-df-container\">\n",
              "      <div>\n",
              "<style scoped>\n",
              "    .dataframe tbody tr th:only-of-type {\n",
              "        vertical-align: middle;\n",
              "    }\n",
              "\n",
              "    .dataframe tbody tr th {\n",
              "        vertical-align: top;\n",
              "    }\n",
              "\n",
              "    .dataframe thead th {\n",
              "        text-align: right;\n",
              "    }\n",
              "</style>\n",
              "<table border=\"1\" class=\"dataframe\">\n",
              "  <thead>\n",
              "    <tr style=\"text-align: right;\">\n",
              "      <th></th>\n",
              "      <th>x</th>\n",
              "      <th>y</th>\n",
              "      <th>e</th>\n",
              "    </tr>\n",
              "  </thead>\n",
              "  <tbody>\n",
              "    <tr>\n",
              "      <th>0</th>\n",
              "      <td>38.697802</td>\n",
              "      <td>38.697802</td>\n",
              "      <td>2.442295</td>\n",
              "    </tr>\n",
              "    <tr>\n",
              "      <th>1</th>\n",
              "      <td>21.943922</td>\n",
              "      <td>21.943922</td>\n",
              "      <td>6.781783</td>\n",
              "    </tr>\n",
              "    <tr>\n",
              "      <th>2</th>\n",
              "      <td>42.929896</td>\n",
              "      <td>42.929896</td>\n",
              "      <td>-5.855294</td>\n",
              "    </tr>\n",
              "    <tr>\n",
              "      <th>3</th>\n",
              "      <td>34.868401</td>\n",
              "      <td>34.868401</td>\n",
              "      <td>-9.086731</td>\n",
              "    </tr>\n",
              "    <tr>\n",
              "      <th>4</th>\n",
              "      <td>4.708867</td>\n",
              "      <td>4.708867</td>\n",
              "      <td>-19.918382</td>\n",
              "    </tr>\n",
              "    <tr>\n",
              "      <th>...</th>\n",
              "      <td>...</td>\n",
              "      <td>...</td>\n",
              "      <td>...</td>\n",
              "    </tr>\n",
              "    <tr>\n",
              "      <th>95</th>\n",
              "      <td>31.514130</td>\n",
              "      <td>31.514130</td>\n",
              "      <td>-5.622586</td>\n",
              "    </tr>\n",
              "    <tr>\n",
              "      <th>96</th>\n",
              "      <td>18.090631</td>\n",
              "      <td>18.090631</td>\n",
              "      <td>0.423771</td>\n",
              "    </tr>\n",
              "    <tr>\n",
              "      <th>97</th>\n",
              "      <td>4.382496</td>\n",
              "      <td>4.382496</td>\n",
              "      <td>-23.575166</td>\n",
              "    </tr>\n",
              "    <tr>\n",
              "      <th>98</th>\n",
              "      <td>5.900295</td>\n",
              "      <td>5.900295</td>\n",
              "      <td>-5.203630</td>\n",
              "    </tr>\n",
              "    <tr>\n",
              "      <th>99</th>\n",
              "      <td>48.094883</td>\n",
              "      <td>48.094883</td>\n",
              "      <td>7.882663</td>\n",
              "    </tr>\n",
              "  </tbody>\n",
              "</table>\n",
              "<p>100 rows × 3 columns</p>\n",
              "</div>\n",
              "      <button class=\"colab-df-convert\" onclick=\"convertToInteractive('df-f43f2dbe-4dc7-4ab3-b586-ac47b6dd89b5')\"\n",
              "              title=\"Convert this dataframe to an interactive table.\"\n",
              "              style=\"display:none;\">\n",
              "        \n",
              "  <svg xmlns=\"http://www.w3.org/2000/svg\" height=\"24px\"viewBox=\"0 0 24 24\"\n",
              "       width=\"24px\">\n",
              "    <path d=\"M0 0h24v24H0V0z\" fill=\"none\"/>\n",
              "    <path d=\"M18.56 5.44l.94 2.06.94-2.06 2.06-.94-2.06-.94-.94-2.06-.94 2.06-2.06.94zm-11 1L8.5 8.5l.94-2.06 2.06-.94-2.06-.94L8.5 2.5l-.94 2.06-2.06.94zm10 10l.94 2.06.94-2.06 2.06-.94-2.06-.94-.94-2.06-.94 2.06-2.06.94z\"/><path d=\"M17.41 7.96l-1.37-1.37c-.4-.4-.92-.59-1.43-.59-.52 0-1.04.2-1.43.59L10.3 9.45l-7.72 7.72c-.78.78-.78 2.05 0 2.83L4 21.41c.39.39.9.59 1.41.59.51 0 1.02-.2 1.41-.59l7.78-7.78 2.81-2.81c.8-.78.8-2.07 0-2.86zM5.41 20L4 18.59l7.72-7.72 1.47 1.35L5.41 20z\"/>\n",
              "  </svg>\n",
              "      </button>\n",
              "      \n",
              "  <style>\n",
              "    .colab-df-container {\n",
              "      display:flex;\n",
              "      flex-wrap:wrap;\n",
              "      gap: 12px;\n",
              "    }\n",
              "\n",
              "    .colab-df-convert {\n",
              "      background-color: #E8F0FE;\n",
              "      border: none;\n",
              "      border-radius: 50%;\n",
              "      cursor: pointer;\n",
              "      display: none;\n",
              "      fill: #1967D2;\n",
              "      height: 32px;\n",
              "      padding: 0 0 0 0;\n",
              "      width: 32px;\n",
              "    }\n",
              "\n",
              "    .colab-df-convert:hover {\n",
              "      background-color: #E2EBFA;\n",
              "      box-shadow: 0px 1px 2px rgba(60, 64, 67, 0.3), 0px 1px 3px 1px rgba(60, 64, 67, 0.15);\n",
              "      fill: #174EA6;\n",
              "    }\n",
              "\n",
              "    [theme=dark] .colab-df-convert {\n",
              "      background-color: #3B4455;\n",
              "      fill: #D2E3FC;\n",
              "    }\n",
              "\n",
              "    [theme=dark] .colab-df-convert:hover {\n",
              "      background-color: #434B5C;\n",
              "      box-shadow: 0px 1px 3px 1px rgba(0, 0, 0, 0.15);\n",
              "      filter: drop-shadow(0px 1px 2px rgba(0, 0, 0, 0.3));\n",
              "      fill: #FFFFFF;\n",
              "    }\n",
              "  </style>\n",
              "\n",
              "      <script>\n",
              "        const buttonEl =\n",
              "          document.querySelector('#df-f43f2dbe-4dc7-4ab3-b586-ac47b6dd89b5 button.colab-df-convert');\n",
              "        buttonEl.style.display =\n",
              "          google.colab.kernel.accessAllowed ? 'block' : 'none';\n",
              "\n",
              "        async function convertToInteractive(key) {\n",
              "          const element = document.querySelector('#df-f43f2dbe-4dc7-4ab3-b586-ac47b6dd89b5');\n",
              "          const dataTable =\n",
              "            await google.colab.kernel.invokeFunction('convertToInteractive',\n",
              "                                                     [key], {});\n",
              "          if (!dataTable) return;\n",
              "\n",
              "          const docLinkHtml = 'Like what you see? Visit the ' +\n",
              "            '<a target=\"_blank\" href=https://colab.research.google.com/notebooks/data_table.ipynb>data table notebook</a>'\n",
              "            + ' to learn more about interactive tables.';\n",
              "          element.innerHTML = '';\n",
              "          dataTable['output_type'] = 'display_data';\n",
              "          await google.colab.output.renderOutput(dataTable, element);\n",
              "          const docLink = document.createElement('div');\n",
              "          docLink.innerHTML = docLinkHtml;\n",
              "          element.appendChild(docLink);\n",
              "        }\n",
              "      </script>\n",
              "    </div>\n",
              "  </div>\n",
              "  "
            ]
          },
          "metadata": {},
          "execution_count": 46
        }
      ]
    },
    {
      "cell_type": "code",
      "source": [
        "df = newRandomData.create.df\n",
        "\n",
        "sns.regplot(x=\"x\", y = \"y\", data = df)"
      ],
      "metadata": {
        "colab": {
          "base_uri": "https://localhost:8080/",
          "height": 466
        },
        "id": "KMo-8vV5rmXF",
        "outputId": "c64715ca-420e-4804-db78-316d0a2291a9"
      },
      "execution_count": 42,
      "outputs": [
        {
          "output_type": "execute_result",
          "data": {
            "text/plain": [
              "<Axes: xlabel='x', ylabel='y'>"
            ]
          },
          "metadata": {},
          "execution_count": 42
        },
        {
          "output_type": "display_data",
          "data": {
            "text/plain": [
              "<Figure size 640x480 with 1 Axes>"
            ],
            "image/png": "[encoded data removed]"
          },
          "metadata": {}
        }
      ]
    },
    {
      "cell_type": "code",
      "source": [
        "newRandomData.fct = lambda x, m=4, b=20, e= 0: m*x + b + e\n",
        "newRandomData.getStateDict()"
      ],
      "metadata": {
        "colab": {
          "base_uri": "https://localhost:8080/"
        },
        "id": "aUReMa5ouHvb",
        "outputId": "bc9987c6-dc4f-4776-a72e-5e3e461b311f"
      },
      "execution_count": 47,
      "outputs": [
        {
          "output_type": "execute_result",
          "data": {
            "text/plain": [
              "{'function': <function __main__.<lambda>(x, m=4, b=20, e=0)>,\n",
              " 'Length': 100,\n",
              " 'Seed': 42,\n",
              " 'Scale': 10}"
            ]
          },
          "metadata": {},
          "execution_count": 47
        }
      ]
    },
    {
      "cell_type": "code",
      "source": [
        "newRandomData.create.df"
      ],
      "metadata": {
        "colab": {
          "base_uri": "https://localhost:8080/",
          "height": 423
        },
        "id": "ujAZFyDGwG52",
        "outputId": "ce366b8d-7500-4a43-9db8-28abcaef2add"
      },
      "execution_count": 48,
      "outputs": [
        {
          "output_type": "execute_result",
          "data": {
            "text/plain": [
              "            x           y          e\n",
              "0   38.697802  177.233505   2.442295\n",
              "1   21.943922  114.557471   6.781783\n",
              "2   42.929896  185.864290  -5.855294\n",
              "3   34.868401  150.386875  -9.086731\n",
              "4    4.708867   18.917087 -19.918382\n",
              "..        ...         ...        ...\n",
              "95  31.514130  140.433932  -5.622586\n",
              "96  18.090631   92.786293   0.423771\n",
              "97   4.382496   13.954818 -23.575166\n",
              "98   5.900295   38.397550  -5.203630\n",
              "99  48.094883  220.262195   7.882663\n",
              "\n",
              "[100 rows x 3 columns]"
            ],
            "text/html": [
              "\n",
              "  <div id=\"df-a34ff121-d641-428a-a5e1-d33c28722bac\">\n",
              "    <div class=\"colab-df-container\">\n",
              "      <div>\n",
              "<style scoped>\n",
              "    .dataframe tbody tr th:only-of-type {\n",
              "        vertical-align: middle;\n",
              "    }\n",
              "\n",
              "    .dataframe tbody tr th {\n",
              "        vertical-align: top;\n",
              "    }\n",
              "\n",
              "    .dataframe thead th {\n",
              "        text-align: right;\n",
              "    }\n",
              "</style>\n",
              "<table border=\"1\" class=\"dataframe\">\n",
              "  <thead>\n",
              "    <tr style=\"text-align: right;\">\n",
              "      <th></th>\n",
              "      <th>x</th>\n",
              "      <th>y</th>\n",
              "      <th>e</th>\n",
              "    </tr>\n",
              "  </thead>\n",
              "  <tbody>\n",
              "    <tr>\n",
              "      <th>0</th>\n",
              "      <td>38.697802</td>\n",
              "      <td>177.233505</td>\n",
              "      <td>2.442295</td>\n",
              "    </tr>\n",
              "    <tr>\n",
              "      <th>1</th>\n",
              "      <td>21.943922</td>\n",
              "      <td>114.557471</td>\n",
              "      <td>6.781783</td>\n",
              "    </tr>\n",
              "    <tr>\n",
              "      <th>2</th>\n",
              "      <td>42.929896</td>\n",
              "      <td>185.864290</td>\n",
              "      <td>-5.855294</td>\n",
              "    </tr>\n",
              "    <tr>\n",
              "      <th>3</th>\n",
              "      <td>34.868401</td>\n",
              "      <td>150.386875</td>\n",
              "      <td>-9.086731</td>\n",
              "    </tr>\n",
              "    <tr>\n",
              "      <th>4</th>\n",
              "      <td>4.708867</td>\n",
              "      <td>18.917087</td>\n",
              "      <td>-19.918382</td>\n",
              "    </tr>\n",
              "    <tr>\n",
              "      <th>...</th>\n",
              "      <td>...</td>\n",
              "      <td>...</td>\n",
              "      <td>...</td>\n",
              "    </tr>\n",
              "    <tr>\n",
              "      <th>95</th>\n",
              "      <td>31.514130</td>\n",
              "      <td>140.433932</td>\n",
              "      <td>-5.622586</td>\n",
              "    </tr>\n",
              "    <tr>\n",
              "      <th>96</th>\n",
              "      <td>18.090631</td>\n",
              "      <td>92.786293</td>\n",
              "      <td>0.423771</td>\n",
              "    </tr>\n",
              "    <tr>\n",
              "      <th>97</th>\n",
              "      <td>4.382496</td>\n",
              "      <td>13.954818</td>\n",
              "      <td>-23.575166</td>\n",
              "    </tr>\n",
              "    <tr>\n",
              "      <th>98</th>\n",
              "      <td>5.900295</td>\n",
              "      <td>38.397550</td>\n",
              "      <td>-5.203630</td>\n",
              "    </tr>\n",
              "    <tr>\n",
              "      <th>99</th>\n",
              "      <td>48.094883</td>\n",
              "      <td>220.262195</td>\n",
              "      <td>7.882663</td>\n",
              "    </tr>\n",
              "  </tbody>\n",
              "</table>\n",
              "<p>100 rows × 3 columns</p>\n",
              "</div>\n",
              "      <button class=\"colab-df-convert\" onclick=\"convertToInteractive('df-a34ff121-d641-428a-a5e1-d33c28722bac')\"\n",
              "              title=\"Convert this dataframe to an interactive table.\"\n",
              "              style=\"display:none;\">\n",
              "        \n",
              "  <svg xmlns=\"http://www.w3.org/2000/svg\" height=\"24px\"viewBox=\"0 0 24 24\"\n",
              "       width=\"24px\">\n",
              "    <path d=\"M0 0h24v24H0V0z\" fill=\"none\"/>\n",
              "    <path d=\"M18.56 5.44l.94 2.06.94-2.06 2.06-.94-2.06-.94-.94-2.06-.94 2.06-2.06.94zm-11 1L8.5 8.5l.94-2.06 2.06-.94-2.06-.94L8.5 2.5l-.94 2.06-2.06.94zm10 10l.94 2.06.94-2.06 2.06-.94-2.06-.94-.94-2.06-.94 2.06-2.06.94z\"/><path d=\"M17.41 7.96l-1.37-1.37c-.4-.4-.92-.59-1.43-.59-.52 0-1.04.2-1.43.59L10.3 9.45l-7.72 7.72c-.78.78-.78 2.05 0 2.83L4 21.41c.39.39.9.59 1.41.59.51 0 1.02-.2 1.41-.59l7.78-7.78 2.81-2.81c.8-.78.8-2.07 0-2.86zM5.41 20L4 18.59l7.72-7.72 1.47 1.35L5.41 20z\"/>\n",
              "  </svg>\n",
              "      </button>\n",
              "      \n",
              "  <style>\n",
              "    .colab-df-container {\n",
              "      display:flex;\n",
              "      flex-wrap:wrap;\n",
              "      gap: 12px;\n",
              "    }\n",
              "\n",
              "    .colab-df-convert {\n",
              "      background-color: #E8F0FE;\n",
              "      border: none;\n",
              "      border-radius: 50%;\n",
              "      cursor: pointer;\n",
              "      display: none;\n",
              "      fill: #1967D2;\n",
              "      height: 32px;\n",
              "      padding: 0 0 0 0;\n",
              "      width: 32px;\n",
              "    }\n",
              "\n",
              "    .colab-df-convert:hover {\n",
              "      background-color: #E2EBFA;\n",
              "      box-shadow: 0px 1px 2px rgba(60, 64, 67, 0.3), 0px 1px 3px 1px rgba(60, 64, 67, 0.15);\n",
              "      fill: #174EA6;\n",
              "    }\n",
              "\n",
              "    [theme=dark] .colab-df-convert {\n",
              "      background-color: #3B4455;\n",
              "      fill: #D2E3FC;\n",
              "    }\n",
              "\n",
              "    [theme=dark] .colab-df-convert:hover {\n",
              "      background-color: #434B5C;\n",
              "      box-shadow: 0px 1px 3px 1px rgba(0, 0, 0, 0.15);\n",
              "      filter: drop-shadow(0px 1px 2px rgba(0, 0, 0, 0.3));\n",
              "      fill: #FFFFFF;\n",
              "    }\n",
              "  </style>\n",
              "\n",
              "      <script>\n",
              "        const buttonEl =\n",
              "          document.querySelector('#df-a34ff121-d641-428a-a5e1-d33c28722bac button.colab-df-convert');\n",
              "        buttonEl.style.display =\n",
              "          google.colab.kernel.accessAllowed ? 'block' : 'none';\n",
              "\n",
              "        async function convertToInteractive(key) {\n",
              "          const element = document.querySelector('#df-a34ff121-d641-428a-a5e1-d33c28722bac');\n",
              "          const dataTable =\n",
              "            await google.colab.kernel.invokeFunction('convertToInteractive',\n",
              "                                                     [key], {});\n",
              "          if (!dataTable) return;\n",
              "\n",
              "          const docLinkHtml = 'Like what you see? Visit the ' +\n",
              "            '<a target=\"_blank\" href=https://colab.research.google.com/notebooks/data_table.ipynb>data table notebook</a>'\n",
              "            + ' to learn more about interactive tables.';\n",
              "          element.innerHTML = '';\n",
              "          dataTable['output_type'] = 'display_data';\n",
              "          await google.colab.output.renderOutput(dataTable, element);\n",
              "          const docLink = document.createElement('div');\n",
              "          docLink.innerHTML = docLinkHtml;\n",
              "          element.appendChild(docLink);\n",
              "        }\n",
              "      </script>\n",
              "    </div>\n",
              "  </div>\n",
              "  "
            ]
          },
          "metadata": {},
          "execution_count": 48
        }
      ]
    },
    {
      "cell_type": "code",
      "source": [
        "df = newRandomData.create.df\n",
        "\n",
        "sns.regplot(x=\"x\", y = \"y\", data = df)"
      ],
      "metadata": {
        "colab": {
          "base_uri": "https://localhost:8080/",
          "height": 466
        },
        "id": "FWYeqXnHwLaj",
        "outputId": "b78a8af5-4938-4948-8df6-bb49995717bd"
      },
      "execution_count": 49,
      "outputs": [
        {
          "output_type": "execute_result",
          "data": {
            "text/plain": [
              "<Axes: xlabel='x', ylabel='y'>"
            ]
          },
          "metadata": {},
          "execution_count": 49
        },
        {
          "output_type": "display_data",
          "data": {
            "text/plain": [
              "<Figure size 640x480 with 1 Axes>"
            ],
            "image/png": "[encoded data removed]"
          },
          "metadata": {}
        }
      ]
    },
    {
      "cell_type": "code",
      "source": [],
      "metadata": {
        "id": "iGYHYnElwSVK"
      },
      "execution_count": null,
      "outputs": []
    }
  ]
}