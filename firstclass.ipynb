{
  "nbformat": 4,
  "nbformat_minor": 0,
  "metadata": {
    "colab": {
      "provenance": [],
      "toc_visible": true,
      "authorship_tag": "ABX9TyPV3wQ/4UhwecjDcUMHlTbK",
      "include_colab_link": true
    },
    "kernelspec": {
      "name": "python3",
      "display_name": "Python 3"
    },
    "language_info": {
      "name": "python"
    }
  },
  "cells": [
    {
      "cell_type": "markdown",
      "metadata": {
        "id": "view-in-github",
        "colab_type": "text"
      },
      "source": [
        "<a href=\"https://colab.research.google.com/github/anujthapamagar/FEDS/blob/main/firstclass.ipynb\" target=\"_parent\"><img src=\"https://colab.research.google.com/assets/colab-badge.svg\" alt=\"Open In Colab\"/></a>"
      ]
    },
    {
      "cell_type": "markdown",
      "source": [
        "# My very first notebook in google collab"
      ],
      "metadata": {
        "id": "M0ApEWPVuEe2"
      }
    },
    {
      "cell_type": "markdown",
      "source": [
        "## 1. The hello world program"
      ],
      "metadata": {
        "id": "r_CZDPvvvrAO"
      }
    },
    {
      "cell_type": "code",
      "execution_count": 2,
      "metadata": {
        "colab": {
          "base_uri": "https://localhost:8080/"
        },
        "id": "fFfwXS7Ptxii",
        "outputId": "5c303e14-38fc-44ec-d63b-93c333f3de09"
      },
      "outputs": [
        {
          "output_type": "stream",
          "name": "stdout",
          "text": [
            "Hello world\n"
          ]
        }
      ],
      "source": [
        "print(\"Hello world\")"
      ]
    },
    {
      "cell_type": "markdown",
      "source": [
        "```python\n",
        "print(\"a\")\n",
        "```\n"
      ],
      "metadata": {
        "id": "Ka4o8erRvm0f"
      }
    },
    {
      "cell_type": "markdown",
      "source": [
        "$y=x^2$   ## equations are written between $ signs"
      ],
      "metadata": {
        "id": "z_BUyYxkwnlJ"
      }
    },
    {
      "cell_type": "markdown",
      "source": [
        "$y=m*x + b + e$"
      ],
      "metadata": {
        "id": "DF7Q740gxjqV"
      }
    },
    {
      "cell_type": "markdown",
      "source": [
        "##2. Basic data types\n",
        "\n",
        "Note: info is here https://docs.python.org/3/library/stdtypes.html#numeric-types-int-float-complex\n",
        " "
      ],
      "metadata": {
        "id": "rWiDDNKsxynX"
      }
    },
    {
      "cell_type": "code",
      "source": [
        "# lets create some integer variables\n",
        "a = 3\n",
        "b = 7\n",
        "print(a,b)"
      ],
      "metadata": {
        "colab": {
          "base_uri": "https://localhost:8080/"
        },
        "id": "frOwe6UZzUOM",
        "outputId": "f1742c0a-c176-4c49-b9e1-467edc2797e4"
      },
      "execution_count": 9,
      "outputs": [
        {
          "output_type": "stream",
          "name": "stdout",
          "text": [
            "3 7\n"
          ]
        }
      ]
    },
    {
      "cell_type": "code",
      "source": [
        "a"
      ],
      "metadata": {
        "colab": {
          "base_uri": "https://localhost:8080/"
        },
        "id": "4l_li81Ozr5v",
        "outputId": "53c4b4e4-b913-4bf0-e61b-8123c3f5130b"
      },
      "execution_count": 10,
      "outputs": [
        {
          "output_type": "execute_result",
          "data": {
            "text/plain": [
              "3"
            ]
          },
          "metadata": {},
          "execution_count": 10
        }
      ]
    },
    {
      "cell_type": "code",
      "source": [
        "a,b"
      ],
      "metadata": {
        "colab": {
          "base_uri": "https://localhost:8080/"
        },
        "id": "57iNQbmK0Kom",
        "outputId": "667455e4-0f26-444b-8552-e2e33770bfe7"
      },
      "execution_count": 11,
      "outputs": [
        {
          "output_type": "execute_result",
          "data": {
            "text/plain": [
              "(3, 7)"
            ]
          },
          "metadata": {},
          "execution_count": 11
        }
      ]
    },
    {
      "cell_type": "code",
      "source": [
        "# Lets calculate simple things\n",
        "c = a + b\n",
        "c"
      ],
      "metadata": {
        "colab": {
          "base_uri": "https://localhost:8080/"
        },
        "id": "8eRMWkNR0MNd",
        "outputId": "92ebb4e5-ba4a-4e1b-c3b6-8967e9f179a9"
      },
      "execution_count": 12,
      "outputs": [
        {
          "output_type": "execute_result",
          "data": {
            "text/plain": [
              "10"
            ]
          },
          "metadata": {},
          "execution_count": 12
        }
      ]
    },
    {
      "cell_type": "code",
      "source": [
        "d = a / b\n",
        "d"
      ],
      "metadata": {
        "colab": {
          "base_uri": "https://localhost:8080/"
        },
        "id": "iMplJUDM0cXA",
        "outputId": "d17c468c-129f-4b84-e35c-00e5a66b2f6d"
      },
      "execution_count": 14,
      "outputs": [
        {
          "output_type": "execute_result",
          "data": {
            "text/plain": [
              "0.42857142857142855"
            ]
          },
          "metadata": {},
          "execution_count": 14
        }
      ]
    },
    {
      "cell_type": "markdown",
      "source": [
        "## 3. Loading modules or librariies"
      ],
      "metadata": {
        "id": "YwWzjR4e3abF"
      }
    },
    {
      "cell_type": "code",
      "source": [
        "# loading the zen of python\n",
        "\n",
        "import this"
      ],
      "metadata": {
        "id": "Svy-sSt70qCk"
      },
      "execution_count": 20,
      "outputs": []
    },
    {
      "cell_type": "code",
      "source": [
        "# get to know something about your python version\n",
        "import sys\n",
        "\n",
        "# using imported functionality by namespacing\n",
        "sys.version"
      ],
      "metadata": {
        "colab": {
          "base_uri": "https://localhost:8080/",
          "height": 36
        },
        "id": "mv-mf3DV3tWO",
        "outputId": "423f5619-9f77-4c34-9dbd-ffe97eadb76b"
      },
      "execution_count": 21,
      "outputs": [
        {
          "output_type": "execute_result",
          "data": {
            "text/plain": [
              "'3.9.16 (main, Dec  7 2022, 01:11:51) \\n[GCC 9.4.0]'"
            ],
            "application/vnd.google.colaboratory.intrinsic+json": {
              "type": "string"
            }
          },
          "metadata": {},
          "execution_count": 21
        }
      ]
    },
    {
      "cell_type": "code",
      "source": [
        "import numpy as np"
      ],
      "metadata": {
        "id": "xNNnWvYo4E8e"
      },
      "execution_count": 24,
      "outputs": []
    },
    {
      "cell_type": "code",
      "source": [],
      "metadata": {
        "id": "YGzg3oRd5SvW"
      },
      "execution_count": 25,
      "outputs": []
    },
    {
      "cell_type": "code",
      "source": [],
      "metadata": {
        "id": "pRWBhiyY5fC2"
      },
      "execution_count": null,
      "outputs": []
    }
  ]
}