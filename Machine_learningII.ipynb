{
  "nbformat": 4,
  "nbformat_minor": 0,
  "metadata": {
    "colab": {
      "provenance": [],
      "authorship_tag": "ABX9TyPKnP3Ao+DVFg4u72AtL9Nr",
      "include_colab_link": true
    },
    "kernelspec": {
      "name": "python3",
      "display_name": "Python 3"
    },
    "language_info": {
      "name": "python"
    }
  },
  "cells": [
    {
      "cell_type": "markdown",
      "metadata": {
        "id": "view-in-github",
        "colab_type": "text"
      },
      "source": [
        "<a href=\"https://colab.research.google.com/github/anujthapamagar/FEDS/blob/main/Machine_learningII.ipynb\" target=\"_parent\"><img src=\"https://colab.research.google.com/assets/colab-badge.svg\" alt=\"Open In Colab\"/></a>"
      ]
    },
    {
      "cell_type": "markdown",
      "source": [
        "## Machine Learning"
      ],
      "metadata": {
        "id": "jvSTW1oMiRfV"
      }
    },
    {
      "cell_type": "markdown",
      "source": [
        "## 1 Get the data"
      ],
      "metadata": {
        "id": "s-rK93GEl1Mq"
      }
    },
    {
      "cell_type": "code",
      "source": [
        "import requests\n",
        "from pathlib import Path\n",
        "\n",
        "# storage for data in collab environment\n",
        "data_path = Path(\"data/\")\n",
        "\n",
        "# If the data folder doesn't exist, download it and prepare it..\n",
        "if data_path.is_dir():\n",
        "  print(f\"{data_path} directory already exists... skipping creation\")\n",
        "else:\n",
        "  print(f\"{data_path} does not exist, creating one...\")\n",
        "  data_path.mkdir(parents=True, exist_ok=True)\n",
        "\n",
        "# Download temp data\n",
        "with open(data_path / \"music.csv\", \"wb\") as f:\n",
        "  request = requests.get(\"https://raw.githubusercontent.com/stenoe/FEDS/main/data/music.csv\")\n",
        "  print(\"Downloading data...\")\n",
        "  f.write(request.content)"
      ],
      "metadata": {
        "colab": {
          "base_uri": "https://localhost:8080/"
        },
        "id": "QilroLs4m7wb",
        "outputId": "3b80931c-3269-4cf2-fa2a-b8b4e6d554e3"
      },
      "execution_count": 1,
      "outputs": [
        {
          "output_type": "stream",
          "name": "stdout",
          "text": [
            "data does not exist, creating one...\n",
            "Downloading data...\n"
          ]
        }
      ]
    },
    {
      "cell_type": "markdown",
      "source": [
        "## 2 Train a DecisionTree Model\n",
        "**We learn** how to make the computer predict and make decisions\n",
        "We need to import from `sklearn` the decision Tree package, the model selection package and some metrics package"
      ],
      "metadata": {
        "id": "mGjtSrOknO71"
      }
    },
    {
      "cell_type": "markdown",
      "source": [
        "## The music recommender"
      ],
      "metadata": {
        "id": "F-W9UvvCn2fB"
      }
    },
    {
      "cell_type": "code",
      "source": [
        "import pandas as pd\n",
        "import numpy as np\n",
        "\n",
        "## use ML libs from sklearn\n",
        "from sklearn.tree import DecisionTreeClassifier\n",
        "from sklearn.model_selection import train_test_split\n",
        "from sklearn.metrics import accuracy_score"
      ],
      "metadata": {
        "id": "aw4vfHWLoVMd"
      },
      "execution_count": 2,
      "outputs": []
    },
    {
      "cell_type": "code",
      "source": [
        "df = pd.read_csv(\"data/music.csv\")\n",
        "df.head(2)"
      ],
      "metadata": {
        "colab": {
          "base_uri": "https://localhost:8080/",
          "height": 112
        },
        "id": "xQY24FDYowcg",
        "outputId": "a600ec2e-abc6-498b-d9f3-5cccbcf5d3b5"
      },
      "execution_count": 3,
      "outputs": [
        {
          "output_type": "execute_result",
          "data": {
            "text/plain": [
              "   age  gender   genre\n",
              "0   20       1  HipHop\n",
              "1   23       1  HipHop"
            ],
            "text/html": [
              "\n",
              "  <div id=\"df-f78b3e9e-4554-4695-8461-cc7120839131\">\n",
              "    <div class=\"colab-df-container\">\n",
              "      <div>\n",
              "<style scoped>\n",
              "    .dataframe tbody tr th:only-of-type {\n",
              "        vertical-align: middle;\n",
              "    }\n",
              "\n",
              "    .dataframe tbody tr th {\n",
              "        vertical-align: top;\n",
              "    }\n",
              "\n",
              "    .dataframe thead th {\n",
              "        text-align: right;\n",
              "    }\n",
              "</style>\n",
              "<table border=\"1\" class=\"dataframe\">\n",
              "  <thead>\n",
              "    <tr style=\"text-align: right;\">\n",
              "      <th></th>\n",
              "      <th>age</th>\n",
              "      <th>gender</th>\n",
              "      <th>genre</th>\n",
              "    </tr>\n",
              "  </thead>\n",
              "  <tbody>\n",
              "    <tr>\n",
              "      <th>0</th>\n",
              "      <td>20</td>\n",
              "      <td>1</td>\n",
              "      <td>HipHop</td>\n",
              "    </tr>\n",
              "    <tr>\n",
              "      <th>1</th>\n",
              "      <td>23</td>\n",
              "      <td>1</td>\n",
              "      <td>HipHop</td>\n",
              "    </tr>\n",
              "  </tbody>\n",
              "</table>\n",
              "</div>\n",
              "      <button class=\"colab-df-convert\" onclick=\"convertToInteractive('df-f78b3e9e-4554-4695-8461-cc7120839131')\"\n",
              "              title=\"Convert this dataframe to an interactive table.\"\n",
              "              style=\"display:none;\">\n",
              "        \n",
              "  <svg xmlns=\"http://www.w3.org/2000/svg\" height=\"24px\"viewBox=\"0 0 24 24\"\n",
              "       width=\"24px\">\n",
              "    <path d=\"M0 0h24v24H0V0z\" fill=\"none\"/>\n",
              "    <path d=\"M18.56 5.44l.94 2.06.94-2.06 2.06-.94-2.06-.94-.94-2.06-.94 2.06-2.06.94zm-11 1L8.5 8.5l.94-2.06 2.06-.94-2.06-.94L8.5 2.5l-.94 2.06-2.06.94zm10 10l.94 2.06.94-2.06 2.06-.94-2.06-.94-.94-2.06-.94 2.06-2.06.94z\"/><path d=\"M17.41 7.96l-1.37-1.37c-.4-.4-.92-.59-1.43-.59-.52 0-1.04.2-1.43.59L10.3 9.45l-7.72 7.72c-.78.78-.78 2.05 0 2.83L4 21.41c.39.39.9.59 1.41.59.51 0 1.02-.2 1.41-.59l7.78-7.78 2.81-2.81c.8-.78.8-2.07 0-2.86zM5.41 20L4 18.59l7.72-7.72 1.47 1.35L5.41 20z\"/>\n",
              "  </svg>\n",
              "      </button>\n",
              "      \n",
              "  <style>\n",
              "    .colab-df-container {\n",
              "      display:flex;\n",
              "      flex-wrap:wrap;\n",
              "      gap: 12px;\n",
              "    }\n",
              "\n",
              "    .colab-df-convert {\n",
              "      background-color: #E8F0FE;\n",
              "      border: none;\n",
              "      border-radius: 50%;\n",
              "      cursor: pointer;\n",
              "      display: none;\n",
              "      fill: #1967D2;\n",
              "      height: 32px;\n",
              "      padding: 0 0 0 0;\n",
              "      width: 32px;\n",
              "    }\n",
              "\n",
              "    .colab-df-convert:hover {\n",
              "      background-color: #E2EBFA;\n",
              "      box-shadow: 0px 1px 2px rgba(60, 64, 67, 0.3), 0px 1px 3px 1px rgba(60, 64, 67, 0.15);\n",
              "      fill: #174EA6;\n",
              "    }\n",
              "\n",
              "    [theme=dark] .colab-df-convert {\n",
              "      background-color: #3B4455;\n",
              "      fill: #D2E3FC;\n",
              "    }\n",
              "\n",
              "    [theme=dark] .colab-df-convert:hover {\n",
              "      background-color: #434B5C;\n",
              "      box-shadow: 0px 1px 3px 1px rgba(0, 0, 0, 0.15);\n",
              "      filter: drop-shadow(0px 1px 2px rgba(0, 0, 0, 0.3));\n",
              "      fill: #FFFFFF;\n",
              "    }\n",
              "  </style>\n",
              "\n",
              "      <script>\n",
              "        const buttonEl =\n",
              "          document.querySelector('#df-f78b3e9e-4554-4695-8461-cc7120839131 button.colab-df-convert');\n",
              "        buttonEl.style.display =\n",
              "          google.colab.kernel.accessAllowed ? 'block' : 'none';\n",
              "\n",
              "        async function convertToInteractive(key) {\n",
              "          const element = document.querySelector('#df-f78b3e9e-4554-4695-8461-cc7120839131');\n",
              "          const dataTable =\n",
              "            await google.colab.kernel.invokeFunction('convertToInteractive',\n",
              "                                                     [key], {});\n",
              "          if (!dataTable) return;\n",
              "\n",
              "          const docLinkHtml = 'Like what you see? Visit the ' +\n",
              "            '<a target=\"_blank\" href=https://colab.research.google.com/notebooks/data_table.ipynb>data table notebook</a>'\n",
              "            + ' to learn more about interactive tables.';\n",
              "          element.innerHTML = '';\n",
              "          dataTable['output_type'] = 'display_data';\n",
              "          await google.colab.output.renderOutput(dataTable, element);\n",
              "          const docLink = document.createElement('div');\n",
              "          docLink.innerHTML = docLinkHtml;\n",
              "          element.appendChild(docLink);\n",
              "        }\n",
              "      </script>\n",
              "    </div>\n",
              "  </div>\n",
              "  "
            ]
          },
          "metadata": {},
          "execution_count": 3
        }
      ]
    },
    {
      "cell_type": "markdown",
      "source": [
        "## 2.2 Split data into feature and the labels\n",
        "We have the age and the gender as features and the music genre as label"
      ],
      "metadata": {
        "id": "Z4h7RZbuo73S"
      }
    },
    {
      "cell_type": "code",
      "source": [
        "X = df.drop(columns=[\"genre\"]).values\n",
        "X"
      ],
      "metadata": {
        "colab": {
          "base_uri": "https://localhost:8080/"
        },
        "id": "q3dJQdqLp7HC",
        "outputId": "7d1df949-73d6-49de-d1bc-8877a44f41ba"
      },
      "execution_count": 4,
      "outputs": [
        {
          "output_type": "execute_result",
          "data": {
            "text/plain": [
              "array([[20,  1],\n",
              "       [23,  1],\n",
              "       [25,  1],\n",
              "       [26,  1],\n",
              "       [29,  1],\n",
              "       [30,  1],\n",
              "       [31,  1],\n",
              "       [33,  1],\n",
              "       [37,  1],\n",
              "       [20,  0],\n",
              "       [21,  0],\n",
              "       [25,  0],\n",
              "       [26,  0],\n",
              "       [27,  0],\n",
              "       [30,  0],\n",
              "       [31,  0],\n",
              "       [34,  0],\n",
              "       [35,  0]])"
            ]
          },
          "metadata": {},
          "execution_count": 4
        }
      ]
    },
    {
      "cell_type": "code",
      "source": [
        "y = df[\"genre\"].values\n",
        "y"
      ],
      "metadata": {
        "colab": {
          "base_uri": "https://localhost:8080/"
        },
        "id": "7v1SSsRMqR1P",
        "outputId": "0f8d33ec-5e23-435f-c96e-7e717549c958"
      },
      "execution_count": 5,
      "outputs": [
        {
          "output_type": "execute_result",
          "data": {
            "text/plain": [
              "array(['HipHop', 'HipHop', 'HipHop', 'Jazz', 'Jazz', 'Jazz', 'Classical',\n",
              "       'Classical', 'Classical', 'Dance', 'Dance', 'Dance', 'Acoustic',\n",
              "       'Acoustic', 'Acoustic', 'Classical', 'Classical', 'Classical'],\n",
              "      dtype=object)"
            ]
          },
          "metadata": {},
          "execution_count": 5
        }
      ]
    },
    {
      "cell_type": "markdown",
      "source": [
        "### 2.3 Fit all the data"
      ],
      "metadata": {
        "id": "KpXufGNcqlMp"
      }
    },
    {
      "cell_type": "code",
      "source": [
        "model = DecisionTreeClassifier()\n",
        "model.fit(X,y)"
      ],
      "metadata": {
        "colab": {
          "base_uri": "https://localhost:8080/",
          "height": 75
        },
        "id": "UW1xp-IGpday",
        "outputId": "78e24d61-9988-4fb9-e544-3fe19c78d9ad"
      },
      "execution_count": 6,
      "outputs": [
        {
          "output_type": "execute_result",
          "data": {
            "text/plain": [
              "DecisionTreeClassifier()"
            ],
            "text/html": [
              "<style>#sk-container-id-1 {color: black;background-color: white;}#sk-container-id-1 pre{padding: 0;}#sk-container-id-1 div.sk-toggleable {background-color: white;}#sk-container-id-1 label.sk-toggleable__label {cursor: pointer;display: block;width: 100%;margin-bottom: 0;padding: 0.3em;box-sizing: border-box;text-align: center;}#sk-container-id-1 label.sk-toggleable__label-arrow:before {content: \"▸\";float: left;margin-right: 0.25em;color: #696969;}#sk-container-id-1 label.sk-toggleable__label-arrow:hover:before {color: black;}#sk-container-id-1 div.sk-estimator:hover label.sk-toggleable__label-arrow:before {color: black;}#sk-container-id-1 div.sk-toggleable__content {max-height: 0;max-width: 0;overflow: hidden;text-align: left;background-color: #f0f8ff;}#sk-container-id-1 div.sk-toggleable__content pre {margin: 0.2em;color: black;border-radius: 0.25em;background-color: #f0f8ff;}#sk-container-id-1 input.sk-toggleable__control:checked~div.sk-toggleable__content {max-height: 200px;max-width: 100%;overflow: auto;}#sk-container-id-1 input.sk-toggleable__control:checked~label.sk-toggleable__label-arrow:before {content: \"▾\";}#sk-container-id-1 div.sk-estimator input.sk-toggleable__control:checked~label.sk-toggleable__label {background-color: #d4ebff;}#sk-container-id-1 div.sk-label input.sk-toggleable__control:checked~label.sk-toggleable__label {background-color: #d4ebff;}#sk-container-id-1 input.sk-hidden--visually {border: 0;clip: rect(1px 1px 1px 1px);clip: rect(1px, 1px, 1px, 1px);height: 1px;margin: -1px;overflow: hidden;padding: 0;position: absolute;width: 1px;}#sk-container-id-1 div.sk-estimator {font-family: monospace;background-color: #f0f8ff;border: 1px dotted black;border-radius: 0.25em;box-sizing: border-box;margin-bottom: 0.5em;}#sk-container-id-1 div.sk-estimator:hover {background-color: #d4ebff;}#sk-container-id-1 div.sk-parallel-item::after {content: \"\";width: 100%;border-bottom: 1px solid gray;flex-grow: 1;}#sk-container-id-1 div.sk-label:hover label.sk-toggleable__label {background-color: #d4ebff;}#sk-container-id-1 div.sk-serial::before {content: \"\";position: absolute;border-left: 1px solid gray;box-sizing: border-box;top: 0;bottom: 0;left: 50%;z-index: 0;}#sk-container-id-1 div.sk-serial {display: flex;flex-direction: column;align-items: center;background-color: white;padding-right: 0.2em;padding-left: 0.2em;position: relative;}#sk-container-id-1 div.sk-item {position: relative;z-index: 1;}#sk-container-id-1 div.sk-parallel {display: flex;align-items: stretch;justify-content: center;background-color: white;position: relative;}#sk-container-id-1 div.sk-item::before, #sk-container-id-1 div.sk-parallel-item::before {content: \"\";position: absolute;border-left: 1px solid gray;box-sizing: border-box;top: 0;bottom: 0;left: 50%;z-index: -1;}#sk-container-id-1 div.sk-parallel-item {display: flex;flex-direction: column;z-index: 1;position: relative;background-color: white;}#sk-container-id-1 div.sk-parallel-item:first-child::after {align-self: flex-end;width: 50%;}#sk-container-id-1 div.sk-parallel-item:last-child::after {align-self: flex-start;width: 50%;}#sk-container-id-1 div.sk-parallel-item:only-child::after {width: 0;}#sk-container-id-1 div.sk-dashed-wrapped {border: 1px dashed gray;margin: 0 0.4em 0.5em 0.4em;box-sizing: border-box;padding-bottom: 0.4em;background-color: white;}#sk-container-id-1 div.sk-label label {font-family: monospace;font-weight: bold;display: inline-block;line-height: 1.2em;}#sk-container-id-1 div.sk-label-container {text-align: center;}#sk-container-id-1 div.sk-container {/* jupyter's `normalize.less` sets `[hidden] { display: none; }` but bootstrap.min.css set `[hidden] { display: none !important; }` so we also need the `!important` here to be able to override the default hidden behavior on the sphinx rendered scikit-learn.org. See: https://github.com/scikit-learn/scikit-learn/issues/21755 */display: inline-block !important;position: relative;}#sk-container-id-1 div.sk-text-repr-fallback {display: none;}</style><div id=\"sk-container-id-1\" class=\"sk-top-container\"><div class=\"sk-text-repr-fallback\"><pre>DecisionTreeClassifier()</pre><b>In a Jupyter environment, please rerun this cell to show the HTML representation or trust the notebook. <br />On GitHub, the HTML representation is unable to render, please try loading this page with nbviewer.org.</b></div><div class=\"sk-container\" hidden><div class=\"sk-item\"><div class=\"sk-estimator sk-toggleable\"><input class=\"sk-toggleable__control sk-hidden--visually\" id=\"sk-estimator-id-1\" type=\"checkbox\" checked><label for=\"sk-estimator-id-1\" class=\"sk-toggleable__label sk-toggleable__label-arrow\">DecisionTreeClassifier</label><div class=\"sk-toggleable__content\"><pre>DecisionTreeClassifier()</pre></div></div></div></div></div>"
            ]
          },
          "metadata": {},
          "execution_count": 6
        }
      ]
    },
    {
      "cell_type": "markdown",
      "source": [
        "### 2.4 Make prediction\n",
        "Let's use something thats not in the data\n",
        "\n",
        "Let's use the male of age 21 and female of age 22!"
      ],
      "metadata": {
        "id": "VjG9rAWcqrh4"
      }
    },
    {
      "cell_type": "code",
      "source": [
        "predictions = model.predict([[21, 1], [22, 0]])\n",
        "predictions"
      ],
      "metadata": {
        "colab": {
          "base_uri": "https://localhost:8080/"
        },
        "id": "LUHCaGsXq77v",
        "outputId": "42cdffa0-7a4e-4190-f046-6d15e39750da"
      },
      "execution_count": 7,
      "outputs": [
        {
          "output_type": "execute_result",
          "data": {
            "text/plain": [
              "array(['HipHop', 'Dance'], dtype=object)"
            ]
          },
          "metadata": {},
          "execution_count": 7
        }
      ]
    },
    {
      "cell_type": "code",
      "source": [
        "predictions = model.predict([[35, 1], [22, 0], [27, 1], [33, 0]])\n",
        "predictions"
      ],
      "metadata": {
        "colab": {
          "base_uri": "https://localhost:8080/"
        },
        "id": "GaE8A6t6rcCX",
        "outputId": "089fa5cf-2928-4c55-88fc-4931ad6c8061"
      },
      "execution_count": 8,
      "outputs": [
        {
          "output_type": "execute_result",
          "data": {
            "text/plain": [
              "array(['Classical', 'Dance', 'Jazz', 'Classical'], dtype=object)"
            ]
          },
          "metadata": {},
          "execution_count": 8
        }
      ]
    },
    {
      "cell_type": "markdown",
      "source": [
        "## 3 Test the model accuracy"
      ],
      "metadata": {
        "id": "WKHPT3EOrtDA"
      }
    },
    {
      "cell_type": "markdown",
      "source": [
        "### 3.1 Split data into testing and training data"
      ],
      "metadata": {
        "id": "491PwJZssWW6"
      }
    },
    {
      "cell_type": "code",
      "source": [
        "X_train, X_test, y_train, y_test = train_test_split(X, y, test_size=0.2)"
      ],
      "metadata": {
        "id": "n3vXmNvSsoyu"
      },
      "execution_count": 9,
      "outputs": []
    },
    {
      "cell_type": "code",
      "source": [
        "X_train"
      ],
      "metadata": {
        "colab": {
          "base_uri": "https://localhost:8080/"
        },
        "id": "G6wZclCxs3iC",
        "outputId": "71a85e93-e8c1-4e5b-e3e3-f27b28b8b0ea"
      },
      "execution_count": 10,
      "outputs": [
        {
          "output_type": "execute_result",
          "data": {
            "text/plain": [
              "array([[37,  1],\n",
              "       [25,  0],\n",
              "       [27,  0],\n",
              "       [29,  1],\n",
              "       [20,  1],\n",
              "       [21,  0],\n",
              "       [20,  0],\n",
              "       [23,  1],\n",
              "       [30,  1],\n",
              "       [31,  0],\n",
              "       [26,  1],\n",
              "       [26,  0],\n",
              "       [34,  0],\n",
              "       [25,  1]])"
            ]
          },
          "metadata": {},
          "execution_count": 10
        }
      ]
    },
    {
      "cell_type": "code",
      "source": [
        "X_test"
      ],
      "metadata": {
        "colab": {
          "base_uri": "https://localhost:8080/"
        },
        "id": "gxNY7mOps59Y",
        "outputId": "d2883dbf-32fe-4bf5-b2de-39f97b6e6520"
      },
      "execution_count": 11,
      "outputs": [
        {
          "output_type": "execute_result",
          "data": {
            "text/plain": [
              "array([[35,  0],\n",
              "       [31,  1],\n",
              "       [30,  0],\n",
              "       [33,  1]])"
            ]
          },
          "metadata": {},
          "execution_count": 11
        }
      ]
    },
    {
      "cell_type": "code",
      "source": [
        "y"
      ],
      "metadata": {
        "colab": {
          "base_uri": "https://localhost:8080/"
        },
        "id": "FWuYECGNs8ih",
        "outputId": "b47e9be4-c950-43f7-f712-b6437fd8ef85"
      },
      "execution_count": 12,
      "outputs": [
        {
          "output_type": "execute_result",
          "data": {
            "text/plain": [
              "array(['HipHop', 'HipHop', 'HipHop', 'Jazz', 'Jazz', 'Jazz', 'Classical',\n",
              "       'Classical', 'Classical', 'Dance', 'Dance', 'Dance', 'Acoustic',\n",
              "       'Acoustic', 'Acoustic', 'Classical', 'Classical', 'Classical'],\n",
              "      dtype=object)"
            ]
          },
          "metadata": {},
          "execution_count": 12
        }
      ]
    },
    {
      "cell_type": "code",
      "source": [
        "y_train"
      ],
      "metadata": {
        "colab": {
          "base_uri": "https://localhost:8080/"
        },
        "id": "hO007tyctF1C",
        "outputId": "355b9c0c-b072-43a8-8a27-d8e49abc9d34"
      },
      "execution_count": 13,
      "outputs": [
        {
          "output_type": "execute_result",
          "data": {
            "text/plain": [
              "array(['Classical', 'Dance', 'Acoustic', 'Jazz', 'HipHop', 'Dance',\n",
              "       'Dance', 'HipHop', 'Jazz', 'Classical', 'Jazz', 'Acoustic',\n",
              "       'Classical', 'HipHop'], dtype=object)"
            ]
          },
          "metadata": {},
          "execution_count": 13
        }
      ]
    },
    {
      "cell_type": "code",
      "source": [
        "y_test"
      ],
      "metadata": {
        "colab": {
          "base_uri": "https://localhost:8080/"
        },
        "id": "5lH_C_i9tI6q",
        "outputId": "0f5382b6-1285-49c6-ad66-52ee9361e233"
      },
      "execution_count": 14,
      "outputs": [
        {
          "output_type": "execute_result",
          "data": {
            "text/plain": [
              "array(['Classical', 'Classical', 'Acoustic', 'Classical'], dtype=object)"
            ]
          },
          "metadata": {},
          "execution_count": 14
        }
      ]
    },
    {
      "cell_type": "markdown",
      "source": [
        "### 3.2 Fit a new model with split datasets"
      ],
      "metadata": {
        "id": "eP0cU4SVtKsQ"
      }
    },
    {
      "cell_type": "code",
      "source": [
        "model.fit(X_train, y_train)"
      ],
      "metadata": {
        "colab": {
          "base_uri": "https://localhost:8080/",
          "height": 75
        },
        "id": "KHYeaGuctVQK",
        "outputId": "e2cd3876-636c-4718-cc3a-b586639f9c18"
      },
      "execution_count": 15,
      "outputs": [
        {
          "output_type": "execute_result",
          "data": {
            "text/plain": [
              "DecisionTreeClassifier()"
            ],
            "text/html": [
              "<style>#sk-container-id-2 {color: black;background-color: white;}#sk-container-id-2 pre{padding: 0;}#sk-container-id-2 div.sk-toggleable {background-color: white;}#sk-container-id-2 label.sk-toggleable__label {cursor: pointer;display: block;width: 100%;margin-bottom: 0;padding: 0.3em;box-sizing: border-box;text-align: center;}#sk-container-id-2 label.sk-toggleable__label-arrow:before {content: \"▸\";float: left;margin-right: 0.25em;color: #696969;}#sk-container-id-2 label.sk-toggleable__label-arrow:hover:before {color: black;}#sk-container-id-2 div.sk-estimator:hover label.sk-toggleable__label-arrow:before {color: black;}#sk-container-id-2 div.sk-toggleable__content {max-height: 0;max-width: 0;overflow: hidden;text-align: left;background-color: #f0f8ff;}#sk-container-id-2 div.sk-toggleable__content pre {margin: 0.2em;color: black;border-radius: 0.25em;background-color: #f0f8ff;}#sk-container-id-2 input.sk-toggleable__control:checked~div.sk-toggleable__content {max-height: 200px;max-width: 100%;overflow: auto;}#sk-container-id-2 input.sk-toggleable__control:checked~label.sk-toggleable__label-arrow:before {content: \"▾\";}#sk-container-id-2 div.sk-estimator input.sk-toggleable__control:checked~label.sk-toggleable__label {background-color: #d4ebff;}#sk-container-id-2 div.sk-label input.sk-toggleable__control:checked~label.sk-toggleable__label {background-color: #d4ebff;}#sk-container-id-2 input.sk-hidden--visually {border: 0;clip: rect(1px 1px 1px 1px);clip: rect(1px, 1px, 1px, 1px);height: 1px;margin: -1px;overflow: hidden;padding: 0;position: absolute;width: 1px;}#sk-container-id-2 div.sk-estimator {font-family: monospace;background-color: #f0f8ff;border: 1px dotted black;border-radius: 0.25em;box-sizing: border-box;margin-bottom: 0.5em;}#sk-container-id-2 div.sk-estimator:hover {background-color: #d4ebff;}#sk-container-id-2 div.sk-parallel-item::after {content: \"\";width: 100%;border-bottom: 1px solid gray;flex-grow: 1;}#sk-container-id-2 div.sk-label:hover label.sk-toggleable__label {background-color: #d4ebff;}#sk-container-id-2 div.sk-serial::before {content: \"\";position: absolute;border-left: 1px solid gray;box-sizing: border-box;top: 0;bottom: 0;left: 50%;z-index: 0;}#sk-container-id-2 div.sk-serial {display: flex;flex-direction: column;align-items: center;background-color: white;padding-right: 0.2em;padding-left: 0.2em;position: relative;}#sk-container-id-2 div.sk-item {position: relative;z-index: 1;}#sk-container-id-2 div.sk-parallel {display: flex;align-items: stretch;justify-content: center;background-color: white;position: relative;}#sk-container-id-2 div.sk-item::before, #sk-container-id-2 div.sk-parallel-item::before {content: \"\";position: absolute;border-left: 1px solid gray;box-sizing: border-box;top: 0;bottom: 0;left: 50%;z-index: -1;}#sk-container-id-2 div.sk-parallel-item {display: flex;flex-direction: column;z-index: 1;position: relative;background-color: white;}#sk-container-id-2 div.sk-parallel-item:first-child::after {align-self: flex-end;width: 50%;}#sk-container-id-2 div.sk-parallel-item:last-child::after {align-self: flex-start;width: 50%;}#sk-container-id-2 div.sk-parallel-item:only-child::after {width: 0;}#sk-container-id-2 div.sk-dashed-wrapped {border: 1px dashed gray;margin: 0 0.4em 0.5em 0.4em;box-sizing: border-box;padding-bottom: 0.4em;background-color: white;}#sk-container-id-2 div.sk-label label {font-family: monospace;font-weight: bold;display: inline-block;line-height: 1.2em;}#sk-container-id-2 div.sk-label-container {text-align: center;}#sk-container-id-2 div.sk-container {/* jupyter's `normalize.less` sets `[hidden] { display: none; }` but bootstrap.min.css set `[hidden] { display: none !important; }` so we also need the `!important` here to be able to override the default hidden behavior on the sphinx rendered scikit-learn.org. See: https://github.com/scikit-learn/scikit-learn/issues/21755 */display: inline-block !important;position: relative;}#sk-container-id-2 div.sk-text-repr-fallback {display: none;}</style><div id=\"sk-container-id-2\" class=\"sk-top-container\"><div class=\"sk-text-repr-fallback\"><pre>DecisionTreeClassifier()</pre><b>In a Jupyter environment, please rerun this cell to show the HTML representation or trust the notebook. <br />On GitHub, the HTML representation is unable to render, please try loading this page with nbviewer.org.</b></div><div class=\"sk-container\" hidden><div class=\"sk-item\"><div class=\"sk-estimator sk-toggleable\"><input class=\"sk-toggleable__control sk-hidden--visually\" id=\"sk-estimator-id-2\" type=\"checkbox\" checked><label for=\"sk-estimator-id-2\" class=\"sk-toggleable__label sk-toggleable__label-arrow\">DecisionTreeClassifier</label><div class=\"sk-toggleable__content\"><pre>DecisionTreeClassifier()</pre></div></div></div></div></div>"
            ]
          },
          "metadata": {},
          "execution_count": 15
        }
      ]
    },
    {
      "cell_type": "markdown",
      "source": [
        "### 3.3 Make new predictions and check accuracy"
      ],
      "metadata": {
        "id": "Qli1ny52taPs"
      }
    },
    {
      "cell_type": "code",
      "source": [
        "predictions2 = model.predict(X_test)\n",
        "predictions2"
      ],
      "metadata": {
        "colab": {
          "base_uri": "https://localhost:8080/"
        },
        "id": "JyUHoNK_tjl8",
        "outputId": "cf426cb9-e1b5-45d6-8937-eb7da904479e"
      },
      "execution_count": 16,
      "outputs": [
        {
          "output_type": "execute_result",
          "data": {
            "text/plain": [
              "array(['Classical', 'Classical', 'Acoustic', 'Classical'], dtype=object)"
            ]
          },
          "metadata": {},
          "execution_count": 16
        }
      ]
    },
    {
      "cell_type": "code",
      "source": [
        "score = accuracy_score(y_test, predictions2)\n",
        "score"
      ],
      "metadata": {
        "colab": {
          "base_uri": "https://localhost:8080/"
        },
        "id": "RZw6FCNbt32S",
        "outputId": "20565ec8-a62c-46b3-cc0f-f6160c9ff6fb"
      },
      "execution_count": 17,
      "outputs": [
        {
          "output_type": "execute_result",
          "data": {
            "text/plain": [
              "1.0"
            ]
          },
          "metadata": {},
          "execution_count": 17
        }
      ]
    },
    {
      "cell_type": "code",
      "source": [
        "scores = []\n",
        "\n",
        "for i in range(20):\n",
        "  X_train, X_test, y_train, y_test = train_test_split(X, y, test_size=0.2)\n",
        "  model.fit(X_train, y_train)\n",
        "  pred = model.predict(X_test)\n",
        "  scores.append(accuracy_score(y_test, pred))\n",
        "  print(scores[i])\n",
        "\n",
        "print(f\"\\naverage score: {np.mean(scores)}\")"
      ],
      "metadata": {
        "colab": {
          "base_uri": "https://localhost:8080/"
        },
        "id": "ZEW4ZfuAuu2S",
        "outputId": "a6f0dfab-c31a-4458-ea3d-8de281f1d324"
      },
      "execution_count": 18,
      "outputs": [
        {
          "output_type": "stream",
          "name": "stdout",
          "text": [
            "0.75\n",
            "0.75\n",
            "0.75\n",
            "0.75\n",
            "1.0\n",
            "0.75\n",
            "1.0\n",
            "1.0\n",
            "0.25\n",
            "0.5\n",
            "0.75\n",
            "1.0\n",
            "1.0\n",
            "0.5\n",
            "0.75\n",
            "0.5\n",
            "1.0\n",
            "1.0\n",
            "1.0\n",
            "1.0\n",
            "\n",
            "average score: 0.8\n"
          ]
        }
      ]
    },
    {
      "cell_type": "markdown",
      "source": [
        "## 4 Visualise the decision tree"
      ],
      "metadata": {
        "id": "7FfmPblbv_-n"
      }
    },
    {
      "cell_type": "code",
      "source": [
        "import graphviz\n",
        "\n",
        "from sklearn import tree "
      ],
      "metadata": {
        "id": "5eUwK8ycwdDE"
      },
      "execution_count": 19,
      "outputs": []
    },
    {
      "cell_type": "code",
      "source": [
        "dot_data = tree.export_graphviz(model, \n",
        "                                out_file = None,\n",
        "                                feature_names = [\"age\", \"gender\"],\n",
        "                                class_names = sorted(np.unique(y).tolist()),\n",
        "                                filled = True,\n",
        "                                rounded = True,\n",
        "                                special_characters = True)"
      ],
      "metadata": {
        "id": "q3BJDHg1wor4"
      },
      "execution_count": 20,
      "outputs": []
    },
    {
      "cell_type": "code",
      "source": [
        "graph = graphviz.Source(dot_data)\n",
        "graph"
      ],
      "metadata": {
        "colab": {
          "base_uri": "https://localhost:8080/",
          "height": 599
        },
        "id": "MSKjhhsyxyWJ",
        "outputId": "2f4e00d7-be7a-41a7-f4b4-928ffe194086"
      },
      "execution_count": 21,
      "outputs": [
        {
          "output_type": "execute_result",
          "data": {
            "image/svg+xml": "<?xml version=\"1.0\" encoding=\"UTF-8\" standalone=\"no\"?>\n<!DOCTYPE svg PUBLIC \"-//W3C//DTD SVG 1.1//EN\"\n \"http://www.w3.org/Graphics/SVG/1.1/DTD/svg11.dtd\">\n<!-- Generated by graphviz version 2.43.0 (0)\n -->\n<!-- Title: Tree Pages: 1 -->\n<svg width=\"622pt\" height=\"433pt\"\n viewBox=\"0.00 0.00 622.00 433.00\" xmlns=\"http://www.w3.org/2000/svg\" xmlns:xlink=\"http://www.w3.org/1999/xlink\">\n<g id=\"graph0\" class=\"graph\" transform=\"scale(1 1) rotate(0) translate(4 429)\">\n<title>Tree</title>\n<polygon fill=\"white\" stroke=\"transparent\" points=\"-4,4 -4,-429 618,-429 618,4 -4,4\"/>\n<!-- 0 -->\n<g id=\"node1\" class=\"node\">\n<title>0</title>\n<path fill=\"#f3fded\" stroke=\"black\" d=\"M444,-425C444,-425 328,-425 328,-425 322,-425 316,-419 316,-413 316,-413 316,-354 316,-354 316,-348 322,-342 328,-342 328,-342 444,-342 444,-342 450,-342 456,-348 456,-354 456,-354 456,-413 456,-413 456,-419 450,-425 444,-425\"/>\n<text text-anchor=\"start\" x=\"354\" y=\"-409.8\" font-family=\"Helvetica,sans-Serif\" font-size=\"14.00\">age ≤ 30.5</text>\n<text text-anchor=\"start\" x=\"350.5\" y=\"-394.8\" font-family=\"Helvetica,sans-Serif\" font-size=\"14.00\">gini = 0.786</text>\n<text text-anchor=\"start\" x=\"345\" y=\"-379.8\" font-family=\"Helvetica,sans-Serif\" font-size=\"14.00\">samples = 14</text>\n<text text-anchor=\"start\" x=\"324\" y=\"-364.8\" font-family=\"Helvetica,sans-Serif\" font-size=\"14.00\">value = [3, 4, 2, 2, 3]</text>\n<text text-anchor=\"start\" x=\"335.5\" y=\"-349.8\" font-family=\"Helvetica,sans-Serif\" font-size=\"14.00\">class = Classical</text>\n</g>\n<!-- 1 -->\n<g id=\"node2\" class=\"node\">\n<title>1</title>\n<path fill=\"#ffffff\" stroke=\"black\" d=\"M365,-306C365,-306 249,-306 249,-306 243,-306 237,-300 237,-294 237,-294 237,-235 237,-235 237,-229 243,-223 249,-223 249,-223 365,-223 365,-223 371,-223 377,-229 377,-235 377,-235 377,-294 377,-294 377,-300 371,-306 365,-306\"/>\n<text text-anchor=\"start\" x=\"269\" y=\"-290.8\" font-family=\"Helvetica,sans-Serif\" font-size=\"14.00\">gender ≤ 0.5</text>\n<text text-anchor=\"start\" x=\"275\" y=\"-275.8\" font-family=\"Helvetica,sans-Serif\" font-size=\"14.00\">gini = 0.74</text>\n<text text-anchor=\"start\" x=\"266\" y=\"-260.8\" font-family=\"Helvetica,sans-Serif\" font-size=\"14.00\">samples = 10</text>\n<text text-anchor=\"start\" x=\"245\" y=\"-245.8\" font-family=\"Helvetica,sans-Serif\" font-size=\"14.00\">value = [3, 0, 2, 2, 3]</text>\n<text text-anchor=\"start\" x=\"258.5\" y=\"-230.8\" font-family=\"Helvetica,sans-Serif\" font-size=\"14.00\">class = Acoustic</text>\n</g>\n<!-- 0&#45;&gt;1 -->\n<g id=\"edge1\" class=\"edge\">\n<title>0&#45;&gt;1</title>\n<path fill=\"none\" stroke=\"black\" d=\"M358.59,-341.91C352.59,-333.01 346.17,-323.51 339.97,-314.33\"/>\n<polygon fill=\"black\" stroke=\"black\" points=\"342.86,-312.35 334.36,-306.02 337.06,-316.27 342.86,-312.35\"/>\n<text text-anchor=\"middle\" x=\"329.6\" y=\"-326.86\" font-family=\"Helvetica,sans-Serif\" font-size=\"14.00\">True</text>\n</g>\n<!-- 8 -->\n<g id=\"node9\" class=\"node\">\n<title>8</title>\n<path fill=\"#7be539\" stroke=\"black\" d=\"M523,-298.5C523,-298.5 407,-298.5 407,-298.5 401,-298.5 395,-292.5 395,-286.5 395,-286.5 395,-242.5 395,-242.5 395,-236.5 401,-230.5 407,-230.5 407,-230.5 523,-230.5 523,-230.5 529,-230.5 535,-236.5 535,-242.5 535,-242.5 535,-286.5 535,-286.5 535,-292.5 529,-298.5 523,-298.5\"/>\n<text text-anchor=\"start\" x=\"437\" y=\"-283.3\" font-family=\"Helvetica,sans-Serif\" font-size=\"14.00\">gini = 0.0</text>\n<text text-anchor=\"start\" x=\"427.5\" y=\"-268.3\" font-family=\"Helvetica,sans-Serif\" font-size=\"14.00\">samples = 4</text>\n<text text-anchor=\"start\" x=\"403\" y=\"-253.3\" font-family=\"Helvetica,sans-Serif\" font-size=\"14.00\">value = [0, 4, 0, 0, 0]</text>\n<text text-anchor=\"start\" x=\"414.5\" y=\"-238.3\" font-family=\"Helvetica,sans-Serif\" font-size=\"14.00\">class = Classical</text>\n</g>\n<!-- 0&#45;&gt;8 -->\n<g id=\"edge8\" class=\"edge\">\n<title>0&#45;&gt;8</title>\n<path fill=\"none\" stroke=\"black\" d=\"M413.41,-341.91C421.01,-330.65 429.27,-318.42 436.91,-307.11\"/>\n<polygon fill=\"black\" stroke=\"black\" points=\"439.91,-308.91 442.61,-298.67 434.11,-305 439.91,-308.91\"/>\n<text text-anchor=\"middle\" x=\"447.36\" y=\"-319.51\" font-family=\"Helvetica,sans-Serif\" font-size=\"14.00\">False</text>\n</g>\n<!-- 2 -->\n<g id=\"node3\" class=\"node\">\n<title>2</title>\n<path fill=\"#f6d5bd\" stroke=\"black\" d=\"M286,-187C286,-187 170,-187 170,-187 164,-187 158,-181 158,-175 158,-175 158,-116 158,-116 158,-110 164,-104 170,-104 170,-104 286,-104 286,-104 292,-104 298,-110 298,-116 298,-116 298,-175 298,-175 298,-181 292,-187 286,-187\"/>\n<text text-anchor=\"start\" x=\"196\" y=\"-171.8\" font-family=\"Helvetica,sans-Serif\" font-size=\"14.00\">age ≤ 25.5</text>\n<text text-anchor=\"start\" x=\"196\" y=\"-156.8\" font-family=\"Helvetica,sans-Serif\" font-size=\"14.00\">gini = 0.48</text>\n<text text-anchor=\"start\" x=\"190.5\" y=\"-141.8\" font-family=\"Helvetica,sans-Serif\" font-size=\"14.00\">samples = 5</text>\n<text text-anchor=\"start\" x=\"166\" y=\"-126.8\" font-family=\"Helvetica,sans-Serif\" font-size=\"14.00\">value = [3, 0, 2, 0, 0]</text>\n<text text-anchor=\"start\" x=\"179.5\" y=\"-111.8\" font-family=\"Helvetica,sans-Serif\" font-size=\"14.00\">class = Acoustic</text>\n</g>\n<!-- 1&#45;&gt;2 -->\n<g id=\"edge2\" class=\"edge\">\n<title>1&#45;&gt;2</title>\n<path fill=\"none\" stroke=\"black\" d=\"M279.59,-222.91C273.59,-214.01 267.17,-204.51 260.97,-195.33\"/>\n<polygon fill=\"black\" stroke=\"black\" points=\"263.86,-193.35 255.36,-187.02 258.06,-197.27 263.86,-193.35\"/>\n</g>\n<!-- 5 -->\n<g id=\"node6\" class=\"node\">\n<title>5</title>\n<path fill=\"#f6bdea\" stroke=\"black\" d=\"M444,-187C444,-187 328,-187 328,-187 322,-187 316,-181 316,-175 316,-175 316,-116 316,-116 316,-110 322,-104 328,-104 328,-104 444,-104 444,-104 450,-104 456,-110 456,-116 456,-116 456,-175 456,-175 456,-181 450,-187 444,-187\"/>\n<text text-anchor=\"start\" x=\"354\" y=\"-171.8\" font-family=\"Helvetica,sans-Serif\" font-size=\"14.00\">age ≤ 25.5</text>\n<text text-anchor=\"start\" x=\"354\" y=\"-156.8\" font-family=\"Helvetica,sans-Serif\" font-size=\"14.00\">gini = 0.48</text>\n<text text-anchor=\"start\" x=\"348.5\" y=\"-141.8\" font-family=\"Helvetica,sans-Serif\" font-size=\"14.00\">samples = 5</text>\n<text text-anchor=\"start\" x=\"324\" y=\"-126.8\" font-family=\"Helvetica,sans-Serif\" font-size=\"14.00\">value = [0, 0, 0, 2, 3]</text>\n<text text-anchor=\"start\" x=\"348.5\" y=\"-111.8\" font-family=\"Helvetica,sans-Serif\" font-size=\"14.00\">class = Jazz</text>\n</g>\n<!-- 1&#45;&gt;5 -->\n<g id=\"edge5\" class=\"edge\">\n<title>1&#45;&gt;5</title>\n<path fill=\"none\" stroke=\"black\" d=\"M334.41,-222.91C340.41,-214.01 346.83,-204.51 353.03,-195.33\"/>\n<polygon fill=\"black\" stroke=\"black\" points=\"355.94,-197.27 358.64,-187.02 350.14,-193.35 355.94,-197.27\"/>\n</g>\n<!-- 3 -->\n<g id=\"node4\" class=\"node\">\n<title>3</title>\n<path fill=\"#39e5c5\" stroke=\"black\" d=\"M128,-68C128,-68 12,-68 12,-68 6,-68 0,-62 0,-56 0,-56 0,-12 0,-12 0,-6 6,0 12,0 12,0 128,0 128,0 134,0 140,-6 140,-12 140,-12 140,-56 140,-56 140,-62 134,-68 128,-68\"/>\n<text text-anchor=\"start\" x=\"42\" y=\"-52.8\" font-family=\"Helvetica,sans-Serif\" font-size=\"14.00\">gini = 0.0</text>\n<text text-anchor=\"start\" x=\"32.5\" y=\"-37.8\" font-family=\"Helvetica,sans-Serif\" font-size=\"14.00\">samples = 2</text>\n<text text-anchor=\"start\" x=\"8\" y=\"-22.8\" font-family=\"Helvetica,sans-Serif\" font-size=\"14.00\">value = [0, 0, 2, 0, 0]</text>\n<text text-anchor=\"start\" x=\"27\" y=\"-7.8\" font-family=\"Helvetica,sans-Serif\" font-size=\"14.00\">class = Dance</text>\n</g>\n<!-- 2&#45;&gt;3 -->\n<g id=\"edge3\" class=\"edge\">\n<title>2&#45;&gt;3</title>\n<path fill=\"none\" stroke=\"black\" d=\"M169.17,-103.73C155.14,-94.01 140.21,-83.66 126.31,-74.02\"/>\n<polygon fill=\"black\" stroke=\"black\" points=\"128.01,-70.94 117.8,-68.13 124.02,-76.7 128.01,-70.94\"/>\n</g>\n<!-- 4 -->\n<g id=\"node5\" class=\"node\">\n<title>4</title>\n<path fill=\"#e58139\" stroke=\"black\" d=\"M286,-68C286,-68 170,-68 170,-68 164,-68 158,-62 158,-56 158,-56 158,-12 158,-12 158,-6 164,0 170,0 170,0 286,0 286,0 292,0 298,-6 298,-12 298,-12 298,-56 298,-56 298,-62 292,-68 286,-68\"/>\n<text text-anchor=\"start\" x=\"200\" y=\"-52.8\" font-family=\"Helvetica,sans-Serif\" font-size=\"14.00\">gini = 0.0</text>\n<text text-anchor=\"start\" x=\"190.5\" y=\"-37.8\" font-family=\"Helvetica,sans-Serif\" font-size=\"14.00\">samples = 3</text>\n<text text-anchor=\"start\" x=\"166\" y=\"-22.8\" font-family=\"Helvetica,sans-Serif\" font-size=\"14.00\">value = [3, 0, 0, 0, 0]</text>\n<text text-anchor=\"start\" x=\"179.5\" y=\"-7.8\" font-family=\"Helvetica,sans-Serif\" font-size=\"14.00\">class = Acoustic</text>\n</g>\n<!-- 2&#45;&gt;4 -->\n<g id=\"edge4\" class=\"edge\">\n<title>2&#45;&gt;4</title>\n<path fill=\"none\" stroke=\"black\" d=\"M228,-103.73C228,-95.52 228,-86.86 228,-78.56\"/>\n<polygon fill=\"black\" stroke=\"black\" points=\"231.5,-78.3 228,-68.3 224.5,-78.3 231.5,-78.3\"/>\n</g>\n<!-- 6 -->\n<g id=\"node7\" class=\"node\">\n<title>6</title>\n<path fill=\"#3c39e5\" stroke=\"black\" d=\"M444,-68C444,-68 328,-68 328,-68 322,-68 316,-62 316,-56 316,-56 316,-12 316,-12 316,-6 322,0 328,0 328,0 444,0 444,0 450,0 456,-6 456,-12 456,-12 456,-56 456,-56 456,-62 450,-68 444,-68\"/>\n<text text-anchor=\"start\" x=\"358\" y=\"-52.8\" font-family=\"Helvetica,sans-Serif\" font-size=\"14.00\">gini = 0.0</text>\n<text text-anchor=\"start\" x=\"348.5\" y=\"-37.8\" font-family=\"Helvetica,sans-Serif\" font-size=\"14.00\">samples = 2</text>\n<text text-anchor=\"start\" x=\"324\" y=\"-22.8\" font-family=\"Helvetica,sans-Serif\" font-size=\"14.00\">value = [0, 0, 0, 2, 0]</text>\n<text text-anchor=\"start\" x=\"340\" y=\"-7.8\" font-family=\"Helvetica,sans-Serif\" font-size=\"14.00\">class = HipHop</text>\n</g>\n<!-- 5&#45;&gt;6 -->\n<g id=\"edge6\" class=\"edge\">\n<title>5&#45;&gt;6</title>\n<path fill=\"none\" stroke=\"black\" d=\"M386,-103.73C386,-95.52 386,-86.86 386,-78.56\"/>\n<polygon fill=\"black\" stroke=\"black\" points=\"389.5,-78.3 386,-68.3 382.5,-78.3 389.5,-78.3\"/>\n</g>\n<!-- 7 -->\n<g id=\"node8\" class=\"node\">\n<title>7</title>\n<path fill=\"#e539c0\" stroke=\"black\" d=\"M602,-68C602,-68 486,-68 486,-68 480,-68 474,-62 474,-56 474,-56 474,-12 474,-12 474,-6 480,0 486,0 486,0 602,0 602,0 608,0 614,-6 614,-12 614,-12 614,-56 614,-56 614,-62 608,-68 602,-68\"/>\n<text text-anchor=\"start\" x=\"516\" y=\"-52.8\" font-family=\"Helvetica,sans-Serif\" font-size=\"14.00\">gini = 0.0</text>\n<text text-anchor=\"start\" x=\"506.5\" y=\"-37.8\" font-family=\"Helvetica,sans-Serif\" font-size=\"14.00\">samples = 3</text>\n<text text-anchor=\"start\" x=\"482\" y=\"-22.8\" font-family=\"Helvetica,sans-Serif\" font-size=\"14.00\">value = [0, 0, 0, 0, 3]</text>\n<text text-anchor=\"start\" x=\"506.5\" y=\"-7.8\" font-family=\"Helvetica,sans-Serif\" font-size=\"14.00\">class = Jazz</text>\n</g>\n<!-- 5&#45;&gt;7 -->\n<g id=\"edge7\" class=\"edge\">\n<title>5&#45;&gt;7</title>\n<path fill=\"none\" stroke=\"black\" d=\"M444.83,-103.73C458.86,-94.01 473.79,-83.66 487.69,-74.02\"/>\n<polygon fill=\"black\" stroke=\"black\" points=\"489.98,-76.7 496.2,-68.13 485.99,-70.94 489.98,-76.7\"/>\n</g>\n</g>\n</svg>\n",
            "text/plain": [
              "<graphviz.sources.Source at 0x7fe54d0836d0>"
            ]
          },
          "metadata": {},
          "execution_count": 21
        }
      ]
    },
    {
      "cell_type": "markdown",
      "source": [
        "## 5 Save a trained model to reuse it\n",
        "Python has the `joblib`package that can be used to make python objects persistent and save them to some storage place. The package itself is a lightweight pipelining tool."
      ],
      "metadata": {
        "id": "BiyRhfZx0CEt"
      }
    },
    {
      "cell_type": "markdown",
      "source": [
        "### 5.1 The complete saving a model example\n",
        "Here is the complete code to save a model. The workflow is:\n",
        "1. Reading the data\n",
        "2. Create the feature and label the tensors\n",
        "3. define the model\n",
        "4. Fit the model to the data (here all, usually train and test)\n",
        "5. Save the model object to disk "
      ],
      "metadata": {
        "id": "axIgvd77Cbiu"
      }
    },
    {
      "cell_type": "code",
      "source": [
        "import pandas as pd\n",
        "import numpy as np\n",
        "from sklearn.tree import DecisionTreeClassifier\n",
        "import joblib\n",
        "\n",
        "df = pd.read_csv(\"data/music.csv\")\n",
        "X = df.drop(columns=[\"genre\"]).values\n",
        "y = df[\"genre\"].values\n",
        "\n",
        "model = DecisionTreeClassifier()\n",
        "model.fit(X,y)\n",
        "\n",
        "joblib.dump(model, \"music-recommender.joblib\")"
      ],
      "metadata": {
        "colab": {
          "base_uri": "https://localhost:8080/"
        },
        "id": "GSacRuplDCvH",
        "outputId": "7827194c-f674-4e5c-ef3c-803db577172d"
      },
      "execution_count": 22,
      "outputs": [
        {
          "output_type": "execute_result",
          "data": {
            "text/plain": [
              "['music-recommender.joblib']"
            ]
          },
          "metadata": {},
          "execution_count": 22
        }
      ]
    },
    {
      "cell_type": "markdown",
      "source": [
        "## 6 Load a saved model"
      ],
      "metadata": {
        "id": "uRN4xXnPDycN"
      }
    },
    {
      "cell_type": "markdown",
      "source": [
        "### 6.1 The complete code for loading a model and make predictions\n",
        "The complete code is shown, the workflow is:\n",
        "1. Reading the model\n",
        "2. Making predictions"
      ],
      "metadata": {
        "id": "ziNizZzeD4YB"
      }
    },
    {
      "cell_type": "code",
      "source": [
        "import pandas as pd\n",
        "import numpy as np\n",
        "from sklearn.tree import DecisionTreeClassifier\n",
        "import joblib\n",
        "\n",
        "model = joblib.load(\"music-recommender.joblib\")\n",
        "\n",
        "predictions = model.predict([[27,1], [22, 0]])\n",
        "predictions"
      ],
      "metadata": {
        "colab": {
          "base_uri": "https://localhost:8080/"
        },
        "id": "AmgVsimeEJaM",
        "outputId": "2a6cbfe8-46a3-448f-9719-fcced8fd6a1b"
      },
      "execution_count": 23,
      "outputs": [
        {
          "output_type": "execute_result",
          "data": {
            "text/plain": [
              "array(['Jazz', 'Dance'], dtype=object)"
            ]
          },
          "metadata": {},
          "execution_count": 23
        }
      ]
    },
    {
      "cell_type": "code",
      "source": [],
      "metadata": {
        "id": "NYYGWMkpEouA"
      },
      "execution_count": null,
      "outputs": []
    }
  ]
}