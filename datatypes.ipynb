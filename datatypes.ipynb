{
  "nbformat": 4,
  "nbformat_minor": 0,
  "metadata": {
    "colab": {
      "provenance": [],
      "toc_visible": true,
      "authorship_tag": "ABX9TyMLAo6SAGn1JSaX2E+WXLrz",
      "include_colab_link": true
    },
    "kernelspec": {
      "name": "python3",
      "display_name": "Python 3"
    },
    "language_info": {
      "name": "python"
    }
  },
  "cells": [
    {
      "cell_type": "markdown",
      "metadata": {
        "id": "view-in-github",
        "colab_type": "text"
      },
      "source": [
        "<a href=\"https://colab.research.google.com/github/anujthapamagar/FEDS/blob/main/datatypes.ipynb\" target=\"_parent\"><img src=\"https://colab.research.google.com/assets/colab-badge.svg\" alt=\"Open In Colab\"/></a>"
      ]
    },
    {
      "cell_type": "markdown",
      "source": [
        "# 2 New datatypes\n",
        "1. Lists\n",
        "2. Dictionary"
      ],
      "metadata": {
        "id": "Xz5D1vWCLfWq"
      }
    },
    {
      "cell_type": "code",
      "source": [
        "# List with int numbers\n",
        "\n",
        "list_1 = [10,20,30,40]\n",
        "list_1"
      ],
      "metadata": {
        "colab": {
          "base_uri": "https://localhost:8080/"
        },
        "id": "p-Zl1ct2MDrC",
        "outputId": "d096ce71-9349-4b66-945c-515cfc9292f1"
      },
      "execution_count": 1,
      "outputs": [
        {
          "output_type": "execute_result",
          "data": {
            "text/plain": [
              "[10, 20, 30, 40]"
            ]
          },
          "metadata": {},
          "execution_count": 1
        }
      ]
    },
    {
      "cell_type": "markdown",
      "source": [
        "# 2.1 Access to list elements"
      ],
      "metadata": {
        "id": "8uhAZrndMX6F"
      }
    },
    {
      "cell_type": "code",
      "source": [
        "# try to access first element in the list\n",
        "list_1[0]"
      ],
      "metadata": {
        "colab": {
          "base_uri": "https://localhost:8080/"
        },
        "id": "zniFfHAiMs70",
        "outputId": "a18f024a-e98c-498b-aa68-d0628cf6770f"
      },
      "execution_count": 2,
      "outputs": [
        {
          "output_type": "execute_result",
          "data": {
            "text/plain": [
              "10"
            ]
          },
          "metadata": {},
          "execution_count": 2
        }
      ]
    },
    {
      "cell_type": "code",
      "source": [
        "list_1[1]"
      ],
      "metadata": {
        "colab": {
          "base_uri": "https://localhost:8080/"
        },
        "id": "soycj4qFM2mY",
        "outputId": "c6da4a4b-e439-46ed-ea35-a6b35d435f64"
      },
      "execution_count": 3,
      "outputs": [
        {
          "output_type": "execute_result",
          "data": {
            "text/plain": [
              "20"
            ]
          },
          "metadata": {},
          "execution_count": 3
        }
      ]
    },
    {
      "cell_type": "markdown",
      "source": [
        "In python the counting of elements starts from zero '0'"
      ],
      "metadata": {
        "id": "tqogb2EEM51H"
      }
    },
    {
      "cell_type": "code",
      "source": [
        "list_1[3]"
      ],
      "metadata": {
        "colab": {
          "base_uri": "https://localhost:8080/"
        },
        "id": "ZUBMYZQoNWHl",
        "outputId": "130f7cba-2f87-41e7-b6a7-7f142235441b"
      },
      "execution_count": 4,
      "outputs": [
        {
          "output_type": "execute_result",
          "data": {
            "text/plain": [
              "40"
            ]
          },
          "metadata": {},
          "execution_count": 4
        }
      ]
    },
    {
      "cell_type": "code",
      "source": [
        "list_1[-1]"
      ],
      "metadata": {
        "colab": {
          "base_uri": "https://localhost:8080/"
        },
        "id": "NgMAfXTkNYyc",
        "outputId": "cd6f6271-9581-494d-9a3b-12c7e6692850"
      },
      "execution_count": 5,
      "outputs": [
        {
          "output_type": "execute_result",
          "data": {
            "text/plain": [
              "40"
            ]
          },
          "metadata": {},
          "execution_count": 5
        }
      ]
    },
    {
      "cell_type": "code",
      "source": [
        "list_1[-4]"
      ],
      "metadata": {
        "colab": {
          "base_uri": "https://localhost:8080/"
        },
        "id": "6rGO92oDNjG_",
        "outputId": "91c21f37-5c86-47dc-bc8c-63e973f2639b"
      },
      "execution_count": 6,
      "outputs": [
        {
          "output_type": "execute_result",
          "data": {
            "text/plain": [
              "10"
            ]
          },
          "metadata": {},
          "execution_count": 6
        }
      ]
    },
    {
      "cell_type": "code",
      "source": [
        "data1 = []\n",
        "\n",
        "for i in range(100):  # repeat 100 times\n",
        "    data1.append(i)\n",
        "\n",
        "data1"
      ],
      "metadata": {
        "colab": {
          "base_uri": "https://localhost:8080/"
        },
        "id": "iTsg56uwNpEV",
        "outputId": "bb8045b1-b42a-44dd-8eba-22dc8b1e236a"
      },
      "execution_count": 7,
      "outputs": [
        {
          "output_type": "execute_result",
          "data": {
            "text/plain": [
              "[0,\n",
              " 1,\n",
              " 2,\n",
              " 3,\n",
              " 4,\n",
              " 5,\n",
              " 6,\n",
              " 7,\n",
              " 8,\n",
              " 9,\n",
              " 10,\n",
              " 11,\n",
              " 12,\n",
              " 13,\n",
              " 14,\n",
              " 15,\n",
              " 16,\n",
              " 17,\n",
              " 18,\n",
              " 19,\n",
              " 20,\n",
              " 21,\n",
              " 22,\n",
              " 23,\n",
              " 24,\n",
              " 25,\n",
              " 26,\n",
              " 27,\n",
              " 28,\n",
              " 29,\n",
              " 30,\n",
              " 31,\n",
              " 32,\n",
              " 33,\n",
              " 34,\n",
              " 35,\n",
              " 36,\n",
              " 37,\n",
              " 38,\n",
              " 39,\n",
              " 40,\n",
              " 41,\n",
              " 42,\n",
              " 43,\n",
              " 44,\n",
              " 45,\n",
              " 46,\n",
              " 47,\n",
              " 48,\n",
              " 49,\n",
              " 50,\n",
              " 51,\n",
              " 52,\n",
              " 53,\n",
              " 54,\n",
              " 55,\n",
              " 56,\n",
              " 57,\n",
              " 58,\n",
              " 59,\n",
              " 60,\n",
              " 61,\n",
              " 62,\n",
              " 63,\n",
              " 64,\n",
              " 65,\n",
              " 66,\n",
              " 67,\n",
              " 68,\n",
              " 69,\n",
              " 70,\n",
              " 71,\n",
              " 72,\n",
              " 73,\n",
              " 74,\n",
              " 75,\n",
              " 76,\n",
              " 77,\n",
              " 78,\n",
              " 79,\n",
              " 80,\n",
              " 81,\n",
              " 82,\n",
              " 83,\n",
              " 84,\n",
              " 85,\n",
              " 86,\n",
              " 87,\n",
              " 88,\n",
              " 89,\n",
              " 90,\n",
              " 91,\n",
              " 92,\n",
              " 93,\n",
              " 94,\n",
              " 95,\n",
              " 96,\n",
              " 97,\n",
              " 98,\n",
              " 99]"
            ]
          },
          "metadata": {},
          "execution_count": 7
        }
      ]
    },
    {
      "cell_type": "code",
      "source": [
        "data1[-1]"
      ],
      "metadata": {
        "colab": {
          "base_uri": "https://localhost:8080/"
        },
        "id": "pSiBbUpyOEM3",
        "outputId": "371f4288-4ebd-43fa-cc36-606f8ee29641"
      },
      "execution_count": 8,
      "outputs": [
        {
          "output_type": "execute_result",
          "data": {
            "text/plain": [
              "99"
            ]
          },
          "metadata": {},
          "execution_count": 8
        }
      ]
    },
    {
      "cell_type": "code",
      "source": [
        "data1[20]"
      ],
      "metadata": {
        "colab": {
          "base_uri": "https://localhost:8080/"
        },
        "id": "2lFZhTvBOvbI",
        "outputId": "2c6ee59b-c712-48e0-f4d5-f587dc94354e"
      },
      "execution_count": 9,
      "outputs": [
        {
          "output_type": "execute_result",
          "data": {
            "text/plain": [
              "20"
            ]
          },
          "metadata": {},
          "execution_count": 9
        }
      ]
    },
    {
      "cell_type": "code",
      "source": [
        "import math"
      ],
      "metadata": {
        "id": "zXszSZNyRM2G"
      },
      "execution_count": 10,
      "outputs": []
    },
    {
      "cell_type": "code",
      "source": [
        "data1 = []\n",
        "\n",
        "for i in range(100):  # repeat 100 times\n",
        "  data1.append(i)\n",
        "\n"
      ],
      "metadata": {
        "id": "ocjSR_eAOy23"
      },
      "execution_count": 11,
      "outputs": []
    },
    {
      "cell_type": "code",
      "source": [
        "import numpy as np"
      ],
      "metadata": {
        "id": "ZiqPCCKxQryq"
      },
      "execution_count": 12,
      "outputs": []
    },
    {
      "cell_type": "code",
      "source": [
        "# Multiply long list of elements\n",
        "\n",
        "result = np.multiply(data1, data1)\n",
        "result"
      ],
      "metadata": {
        "colab": {
          "base_uri": "https://localhost:8080/"
        },
        "id": "t7K1-w8YRd-1",
        "outputId": "eccebcf5-8aca-4dd6-e982-6bedd4d4aacd"
      },
      "execution_count": 13,
      "outputs": [
        {
          "output_type": "execute_result",
          "data": {
            "text/plain": [
              "array([   0,    1,    4,    9,   16,   25,   36,   49,   64,   81,  100,\n",
              "        121,  144,  169,  196,  225,  256,  289,  324,  361,  400,  441,\n",
              "        484,  529,  576,  625,  676,  729,  784,  841,  900,  961, 1024,\n",
              "       1089, 1156, 1225, 1296, 1369, 1444, 1521, 1600, 1681, 1764, 1849,\n",
              "       1936, 2025, 2116, 2209, 2304, 2401, 2500, 2601, 2704, 2809, 2916,\n",
              "       3025, 3136, 3249, 3364, 3481, 3600, 3721, 3844, 3969, 4096, 4225,\n",
              "       4356, 4489, 4624, 4761, 4900, 5041, 5184, 5329, 5476, 5625, 5776,\n",
              "       5929, 6084, 6241, 6400, 6561, 6724, 6889, 7056, 7225, 7396, 7569,\n",
              "       7744, 7921, 8100, 8281, 8464, 8649, 8836, 9025, 9216, 9409, 9604,\n",
              "       9801])"
            ]
          },
          "metadata": {},
          "execution_count": 13
        }
      ]
    },
    {
      "cell_type": "code",
      "source": [
        "type(result)"
      ],
      "metadata": {
        "colab": {
          "base_uri": "https://localhost:8080/"
        },
        "id": "Yirf9QktSEAR",
        "outputId": "a7e0e2c1-8855-418d-f8be-7a41229bd3ed"
      },
      "execution_count": 14,
      "outputs": [
        {
          "output_type": "execute_result",
          "data": {
            "text/plain": [
              "numpy.ndarray"
            ]
          },
          "metadata": {},
          "execution_count": 14
        }
      ]
    },
    {
      "cell_type": "code",
      "source": [
        "[1, 3.4, \"hello\"]"
      ],
      "metadata": {
        "colab": {
          "base_uri": "https://localhost:8080/"
        },
        "id": "NnbrsKrDSPkc",
        "outputId": "cf919da4-a0c8-4a73-f56e-9fb073ecd355"
      },
      "execution_count": 15,
      "outputs": [
        {
          "output_type": "execute_result",
          "data": {
            "text/plain": [
              "[1, 3.4, 'hello']"
            ]
          },
          "metadata": {},
          "execution_count": 15
        }
      ]
    },
    {
      "cell_type": "code",
      "source": [
        "result.shape"
      ],
      "metadata": {
        "colab": {
          "base_uri": "https://localhost:8080/"
        },
        "id": "Q5jbBSDgSjAs",
        "outputId": "dece3d75-d943-4371-f7f0-4ab5cf62895c"
      },
      "execution_count": 16,
      "outputs": [
        {
          "output_type": "execute_result",
          "data": {
            "text/plain": [
              "(100,)"
            ]
          },
          "metadata": {},
          "execution_count": 16
        }
      ]
    },
    {
      "cell_type": "code",
      "source": [
        "result.size"
      ],
      "metadata": {
        "colab": {
          "base_uri": "https://localhost:8080/"
        },
        "id": "Z_nsdxOkSvzr",
        "outputId": "04fff2af-62ff-4958-a93b-cbaa0b190d49"
      },
      "execution_count": 17,
      "outputs": [
        {
          "output_type": "execute_result",
          "data": {
            "text/plain": [
              "100"
            ]
          },
          "metadata": {},
          "execution_count": 17
        }
      ]
    },
    {
      "cell_type": "code",
      "source": [
        "result.ndim"
      ],
      "metadata": {
        "colab": {
          "base_uri": "https://localhost:8080/"
        },
        "id": "dMpYkbquSxiq",
        "outputId": "58cd3867-3b8c-43af-cfe9-8ec8d4cee616"
      },
      "execution_count": 18,
      "outputs": [
        {
          "output_type": "execute_result",
          "data": {
            "text/plain": [
              "1"
            ]
          },
          "metadata": {},
          "execution_count": 18
        }
      ]
    },
    {
      "cell_type": "code",
      "source": [
        "import matplotlib.pyplot as plt"
      ],
      "metadata": {
        "id": "BcSANDKiSzZ5"
      },
      "execution_count": 19,
      "outputs": []
    },
    {
      "cell_type": "code",
      "source": [
        "plt.scatter(data1, result)"
      ],
      "metadata": {
        "colab": {
          "base_uri": "https://localhost:8080/",
          "height": 283
        },
        "id": "984TAJxBWSUc",
        "outputId": "baf404b6-552c-4957-ba9f-49ef1dfe9889"
      },
      "execution_count": 20,
      "outputs": [
        {
          "output_type": "execute_result",
          "data": {
            "text/plain": [
              "<matplotlib.collections.PathCollection at 0x7f984539cd60>"
            ]
          },
          "metadata": {},
          "execution_count": 20
        },
        {
          "output_type": "display_data",
          "data": {
            "text/plain": [
              "<Figure size 432x288 with 1 Axes>"
            ],
            "image/png": "[encoded data removed]"
          },
          "metadata": {
            "needs_background": "light"
          }
        }
      ]
    },
    {
      "cell_type": "code",
      "source": [
        "result"
      ],
      "metadata": {
        "colab": {
          "base_uri": "https://localhost:8080/"
        },
        "id": "Jz-nG8TjWfXv",
        "outputId": "9b304dea-f0b1-4c99-dbad-59cdc55a637b"
      },
      "execution_count": 21,
      "outputs": [
        {
          "output_type": "execute_result",
          "data": {
            "text/plain": [
              "array([   0,    1,    4,    9,   16,   25,   36,   49,   64,   81,  100,\n",
              "        121,  144,  169,  196,  225,  256,  289,  324,  361,  400,  441,\n",
              "        484,  529,  576,  625,  676,  729,  784,  841,  900,  961, 1024,\n",
              "       1089, 1156, 1225, 1296, 1369, 1444, 1521, 1600, 1681, 1764, 1849,\n",
              "       1936, 2025, 2116, 2209, 2304, 2401, 2500, 2601, 2704, 2809, 2916,\n",
              "       3025, 3136, 3249, 3364, 3481, 3600, 3721, 3844, 3969, 4096, 4225,\n",
              "       4356, 4489, 4624, 4761, 4900, 5041, 5184, 5329, 5476, 5625, 5776,\n",
              "       5929, 6084, 6241, 6400, 6561, 6724, 6889, 7056, 7225, 7396, 7569,\n",
              "       7744, 7921, 8100, 8281, 8464, 8649, 8836, 9025, 9216, 9409, 9604,\n",
              "       9801])"
            ]
          },
          "metadata": {},
          "execution_count": 21
        }
      ]
    },
    {
      "cell_type": "code",
      "source": [
        "plt.hist(result)"
      ],
      "metadata": {
        "colab": {
          "base_uri": "https://localhost:8080/",
          "height": 339
        },
        "id": "rUaEnP-9WvgC",
        "outputId": "b1de865b-0b71-4e06-80dd-25c180184393"
      },
      "execution_count": 22,
      "outputs": [
        {
          "output_type": "execute_result",
          "data": {
            "text/plain": [
              "(array([32., 13., 10.,  8.,  8.,  6.,  6.,  6.,  5.,  6.]),\n",
              " array([   0. ,  980.1, 1960.2, 2940.3, 3920.4, 4900.5, 5880.6, 6860.7,\n",
              "        7840.8, 8820.9, 9801. ]),\n",
              " <BarContainer object of 10 artists>)"
            ]
          },
          "metadata": {},
          "execution_count": 22
        },
        {
          "output_type": "display_data",
          "data": {
            "text/plain": [
              "<Figure size 432x288 with 1 Axes>"
            ],
            "image/png": "[encoded data removed]"
          },
          "metadata": {
            "needs_background": "light"
          }
        }
      ]
    },
    {
      "cell_type": "code",
      "source": [
        "plt.plot(result)"
      ],
      "metadata": {
        "colab": {
          "base_uri": "https://localhost:8080/",
          "height": 283
        },
        "id": "3YEEI8cGW_9R",
        "outputId": "95a341f0-ff8b-41fb-8d57-2e6a35632887"
      },
      "execution_count": 23,
      "outputs": [
        {
          "output_type": "execute_result",
          "data": {
            "text/plain": [
              "[<matplotlib.lines.Line2D at 0x7f9844415a90>]"
            ]
          },
          "metadata": {},
          "execution_count": 23
        },
        {
          "output_type": "display_data",
          "data": {
            "text/plain": [
              "<Figure size 432x288 with 1 Axes>"
            ],
            "image/png": "[encoded data removed]"
          },
          "metadata": {
            "needs_background": "light"
          }
        }
      ]
    },
    {
      "cell_type": "code",
      "source": [
        "plt.plot(data1)"
      ],
      "metadata": {
        "colab": {
          "base_uri": "https://localhost:8080/",
          "height": 283
        },
        "id": "_rI81c4qXe92",
        "outputId": "8bfffa0d-150b-4a78-9702-678f2ff5382d"
      },
      "execution_count": 24,
      "outputs": [
        {
          "output_type": "execute_result",
          "data": {
            "text/plain": [
              "[<matplotlib.lines.Line2D at 0x7f9844399400>]"
            ]
          },
          "metadata": {},
          "execution_count": 24
        },
        {
          "output_type": "display_data",
          "data": {
            "text/plain": [
              "<Figure size 432x288 with 1 Axes>"
            ],
            "image/png": "[encoded data removed]"
          },
          "metadata": {
            "needs_background": "light"
          }
        }
      ]
    },
    {
      "cell_type": "code",
      "source": [
        "plt.scatter(result, data1)"
      ],
      "metadata": {
        "colab": {
          "base_uri": "https://localhost:8080/",
          "height": 283
        },
        "id": "mdhwIXVoXvPL",
        "outputId": "2b13067e-1263-4764-8249-1efa61b78175"
      },
      "execution_count": 25,
      "outputs": [
        {
          "output_type": "execute_result",
          "data": {
            "text/plain": [
              "<matplotlib.collections.PathCollection at 0x7f98443122e0>"
            ]
          },
          "metadata": {},
          "execution_count": 25
        },
        {
          "output_type": "display_data",
          "data": {
            "text/plain": [
              "<Figure size 432x288 with 1 Axes>"
            ],
            "image/png": "[encoded data removed]"
          },
          "metadata": {
            "needs_background": "light"
          }
        }
      ]
    },
    {
      "cell_type": "markdown",
      "source": [
        "## Converting list to array using ```nparray```"
      ],
      "metadata": {
        "id": "xdrQFiHBZbw6"
      }
    },
    {
      "cell_type": "code",
      "source": [
        "data2 = np.array(data1)\n",
        "\n",
        "data2\n",
        "\n"
      ],
      "metadata": {
        "id": "IGRihuShYBMA",
        "colab": {
          "base_uri": "https://localhost:8080/"
        },
        "outputId": "d39ad645-bf95-461d-eb3d-31f943c36152"
      },
      "execution_count": 27,
      "outputs": [
        {
          "output_type": "execute_result",
          "data": {
            "text/plain": [
              "array([ 0,  1,  2,  3,  4,  5,  6,  7,  8,  9, 10, 11, 12, 13, 14, 15, 16,\n",
              "       17, 18, 19, 20, 21, 22, 23, 24, 25, 26, 27, 28, 29, 30, 31, 32, 33,\n",
              "       34, 35, 36, 37, 38, 39, 40, 41, 42, 43, 44, 45, 46, 47, 48, 49, 50,\n",
              "       51, 52, 53, 54, 55, 56, 57, 58, 59, 60, 61, 62, 63, 64, 65, 66, 67,\n",
              "       68, 69, 70, 71, 72, 73, 74, 75, 76, 77, 78, 79, 80, 81, 82, 83, 84,\n",
              "       85, 86, 87, 88, 89, 90, 91, 92, 93, 94, 95, 96, 97, 98, 99])"
            ]
          },
          "metadata": {},
          "execution_count": 27
        }
      ]
    },
    {
      "cell_type": "code",
      "source": [
        "data2 * data2"
      ],
      "metadata": {
        "colab": {
          "base_uri": "https://localhost:8080/"
        },
        "id": "p0QrPRzTWf4J",
        "outputId": "aa9c31ee-cf9a-4c5b-a0e3-822685e05c6f"
      },
      "execution_count": 28,
      "outputs": [
        {
          "output_type": "execute_result",
          "data": {
            "text/plain": [
              "array([   0,    1,    4,    9,   16,   25,   36,   49,   64,   81,  100,\n",
              "        121,  144,  169,  196,  225,  256,  289,  324,  361,  400,  441,\n",
              "        484,  529,  576,  625,  676,  729,  784,  841,  900,  961, 1024,\n",
              "       1089, 1156, 1225, 1296, 1369, 1444, 1521, 1600, 1681, 1764, 1849,\n",
              "       1936, 2025, 2116, 2209, 2304, 2401, 2500, 2601, 2704, 2809, 2916,\n",
              "       3025, 3136, 3249, 3364, 3481, 3600, 3721, 3844, 3969, 4096, 4225,\n",
              "       4356, 4489, 4624, 4761, 4900, 5041, 5184, 5329, 5476, 5625, 5776,\n",
              "       5929, 6084, 6241, 6400, 6561, 6724, 6889, 7056, 7225, 7396, 7569,\n",
              "       7744, 7921, 8100, 8281, 8464, 8649, 8836, 9025, 9216, 9409, 9604,\n",
              "       9801])"
            ]
          },
          "metadata": {},
          "execution_count": 28
        }
      ]
    },
    {
      "cell_type": "code",
      "source": [
        "data2 / data2"
      ],
      "metadata": {
        "colab": {
          "base_uri": "https://localhost:8080/"
        },
        "id": "O6ziqkSKWpx4",
        "outputId": "b83680b3-beff-412f-cc2f-97c36d6cce27"
      },
      "execution_count": 29,
      "outputs": [
        {
          "output_type": "stream",
          "name": "stderr",
          "text": [
            "<ipython-input-29-13c6b15496c3>:1: RuntimeWarning: invalid value encountered in true_divide\n",
            "  data2 / data2\n"
          ]
        },
        {
          "output_type": "execute_result",
          "data": {
            "text/plain": [
              "array([nan,  1.,  1.,  1.,  1.,  1.,  1.,  1.,  1.,  1.,  1.,  1.,  1.,\n",
              "        1.,  1.,  1.,  1.,  1.,  1.,  1.,  1.,  1.,  1.,  1.,  1.,  1.,\n",
              "        1.,  1.,  1.,  1.,  1.,  1.,  1.,  1.,  1.,  1.,  1.,  1.,  1.,\n",
              "        1.,  1.,  1.,  1.,  1.,  1.,  1.,  1.,  1.,  1.,  1.,  1.,  1.,\n",
              "        1.,  1.,  1.,  1.,  1.,  1.,  1.,  1.,  1.,  1.,  1.,  1.,  1.,\n",
              "        1.,  1.,  1.,  1.,  1.,  1.,  1.,  1.,  1.,  1.,  1.,  1.,  1.,\n",
              "        1.,  1.,  1.,  1.,  1.,  1.,  1.,  1.,  1.,  1.,  1.,  1.,  1.,\n",
              "        1.,  1.,  1.,  1.,  1.,  1.,  1.,  1.,  1.])"
            ]
          },
          "metadata": {},
          "execution_count": 29
        }
      ]
    },
    {
      "cell_type": "code",
      "source": [
        "data_neg = []\n",
        "\n",
        "for i in range (-50,50,1):\n",
        "  data_neg.append(i)\n",
        "\n",
        "data2 = np.array(data_neg)\n",
        "data2"
      ],
      "metadata": {
        "colab": {
          "base_uri": "https://localhost:8080/"
        },
        "id": "9Tkh_xQfW56D",
        "outputId": "7f977379-88c0-4c9c-cfb8-c93db375f8f8"
      },
      "execution_count": 32,
      "outputs": [
        {
          "output_type": "execute_result",
          "data": {
            "text/plain": [
              "array([-50, -49, -48, -47, -46, -45, -44, -43, -42, -41, -40, -39, -38,\n",
              "       -37, -36, -35, -34, -33, -32, -31, -30, -29, -28, -27, -26, -25,\n",
              "       -24, -23, -22, -21, -20, -19, -18, -17, -16, -15, -14, -13, -12,\n",
              "       -11, -10,  -9,  -8,  -7,  -6,  -5,  -4,  -3,  -2,  -1,   0,   1,\n",
              "         2,   3,   4,   5,   6,   7,   8,   9,  10,  11,  12,  13,  14,\n",
              "        15,  16,  17,  18,  19,  20,  21,  22,  23,  24,  25,  26,  27,\n",
              "        28,  29,  30,  31,  32,  33,  34,  35,  36,  37,  38,  39,  40,\n",
              "        41,  42,  43,  44,  45,  46,  47,  48,  49])"
            ]
          },
          "metadata": {},
          "execution_count": 32
        }
      ]
    },
    {
      "cell_type": "code",
      "source": [
        "result = np.multiply(data_neg, data_neg)"
      ],
      "metadata": {
        "id": "81X1BiBtXQDJ"
      },
      "execution_count": 34,
      "outputs": []
    },
    {
      "cell_type": "code",
      "source": [
        "result"
      ],
      "metadata": {
        "colab": {
          "base_uri": "https://localhost:8080/"
        },
        "id": "AAFXPE9KYDsQ",
        "outputId": "b0c860c7-7f85-48d3-9830-baa8e44b95ce"
      },
      "execution_count": 35,
      "outputs": [
        {
          "output_type": "execute_result",
          "data": {
            "text/plain": [
              "array([2500, 2401, 2304, 2209, 2116, 2025, 1936, 1849, 1764, 1681, 1600,\n",
              "       1521, 1444, 1369, 1296, 1225, 1156, 1089, 1024,  961,  900,  841,\n",
              "        784,  729,  676,  625,  576,  529,  484,  441,  400,  361,  324,\n",
              "        289,  256,  225,  196,  169,  144,  121,  100,   81,   64,   49,\n",
              "         36,   25,   16,    9,    4,    1,    0,    1,    4,    9,   16,\n",
              "         25,   36,   49,   64,   81,  100,  121,  144,  169,  196,  225,\n",
              "        256,  289,  324,  361,  400,  441,  484,  529,  576,  625,  676,\n",
              "        729,  784,  841,  900,  961, 1024, 1089, 1156, 1225, 1296, 1369,\n",
              "       1444, 1521, 1600, 1681, 1764, 1849, 1936, 2025, 2116, 2209, 2304,\n",
              "       2401])"
            ]
          },
          "metadata": {},
          "execution_count": 35
        }
      ]
    },
    {
      "cell_type": "code",
      "source": [
        "plt.scatter(data_neg, result)"
      ],
      "metadata": {
        "colab": {
          "base_uri": "https://localhost:8080/",
          "height": 283
        },
        "id": "Gh6svpQVYN2q",
        "outputId": "0a88e78f-477a-4214-9ffd-9e6681de4d8c"
      },
      "execution_count": 36,
      "outputs": [
        {
          "output_type": "execute_result",
          "data": {
            "text/plain": [
              "<matplotlib.collections.PathCollection at 0x7f9815ab7280>"
            ]
          },
          "metadata": {},
          "execution_count": 36
        },
        {
          "output_type": "display_data",
          "data": {
            "text/plain": [
              "<Figure size 432x288 with 1 Axes>"
            ],
            "image/png": "[encoded data removed]"
          },
          "metadata": {
            "needs_background": "light"
          }
        }
      ]
    },
    {
      "cell_type": "code",
      "source": [
        "result2 = result * data_neg\n",
        "\n",
        "result2"
      ],
      "metadata": {
        "colab": {
          "base_uri": "https://localhost:8080/"
        },
        "id": "0dx9ZI1QYTfw",
        "outputId": "dd41e834-3bec-46d6-82b4-6f73800e35ef"
      },
      "execution_count": 37,
      "outputs": [
        {
          "output_type": "execute_result",
          "data": {
            "text/plain": [
              "array([-125000, -117649, -110592, -103823,  -97336,  -91125,  -85184,\n",
              "        -79507,  -74088,  -68921,  -64000,  -59319,  -54872,  -50653,\n",
              "        -46656,  -42875,  -39304,  -35937,  -32768,  -29791,  -27000,\n",
              "        -24389,  -21952,  -19683,  -17576,  -15625,  -13824,  -12167,\n",
              "        -10648,   -9261,   -8000,   -6859,   -5832,   -4913,   -4096,\n",
              "         -3375,   -2744,   -2197,   -1728,   -1331,   -1000,    -729,\n",
              "          -512,    -343,    -216,    -125,     -64,     -27,      -8,\n",
              "            -1,       0,       1,       8,      27,      64,     125,\n",
              "           216,     343,     512,     729,    1000,    1331,    1728,\n",
              "          2197,    2744,    3375,    4096,    4913,    5832,    6859,\n",
              "          8000,    9261,   10648,   12167,   13824,   15625,   17576,\n",
              "         19683,   21952,   24389,   27000,   29791,   32768,   35937,\n",
              "         39304,   42875,   46656,   50653,   54872,   59319,   64000,\n",
              "         68921,   74088,   79507,   85184,   91125,   97336,  103823,\n",
              "        110592,  117649])"
            ]
          },
          "metadata": {},
          "execution_count": 37
        }
      ]
    },
    {
      "cell_type": "code",
      "source": [
        "plt.scatter(data_neg, result2)"
      ],
      "metadata": {
        "colab": {
          "base_uri": "https://localhost:8080/",
          "height": 283
        },
        "id": "W7EMh339YkMV",
        "outputId": "508d1cd4-d1d2-48ec-86da-6fad3ff07737"
      },
      "execution_count": 38,
      "outputs": [
        {
          "output_type": "execute_result",
          "data": {
            "text/plain": [
              "<matplotlib.collections.PathCollection at 0x7f9815e8c1c0>"
            ]
          },
          "metadata": {},
          "execution_count": 38
        },
        {
          "output_type": "display_data",
          "data": {
            "text/plain": [
              "<Figure size 432x288 with 1 Axes>"
            ],
            "image/png": "[encoded data removed]"
          },
          "metadata": {
            "needs_background": "light"
          }
        }
      ]
    },
    {
      "cell_type": "code",
      "source": [
        "result3 = result2 * data_neg\n",
        "result3"
      ],
      "metadata": {
        "colab": {
          "base_uri": "https://localhost:8080/"
        },
        "id": "22a-BPwvYpYM",
        "outputId": "d26e1325-fb7d-46f1-b7f8-d547368d87d0"
      },
      "execution_count": 39,
      "outputs": [
        {
          "output_type": "execute_result",
          "data": {
            "text/plain": [
              "array([6250000, 5764801, 5308416, 4879681, 4477456, 4100625, 3748096,\n",
              "       3418801, 3111696, 2825761, 2560000, 2313441, 2085136, 1874161,\n",
              "       1679616, 1500625, 1336336, 1185921, 1048576,  923521,  810000,\n",
              "        707281,  614656,  531441,  456976,  390625,  331776,  279841,\n",
              "        234256,  194481,  160000,  130321,  104976,   83521,   65536,\n",
              "         50625,   38416,   28561,   20736,   14641,   10000,    6561,\n",
              "          4096,    2401,    1296,     625,     256,      81,      16,\n",
              "             1,       0,       1,      16,      81,     256,     625,\n",
              "          1296,    2401,    4096,    6561,   10000,   14641,   20736,\n",
              "         28561,   38416,   50625,   65536,   83521,  104976,  130321,\n",
              "        160000,  194481,  234256,  279841,  331776,  390625,  456976,\n",
              "        531441,  614656,  707281,  810000,  923521, 1048576, 1185921,\n",
              "       1336336, 1500625, 1679616, 1874161, 2085136, 2313441, 2560000,\n",
              "       2825761, 3111696, 3418801, 3748096, 4100625, 4477456, 4879681,\n",
              "       5308416, 5764801])"
            ]
          },
          "metadata": {},
          "execution_count": 39
        }
      ]
    },
    {
      "cell_type": "code",
      "source": [
        "plt.scatter(data_neg, result3)"
      ],
      "metadata": {
        "colab": {
          "base_uri": "https://localhost:8080/",
          "height": 294
        },
        "id": "0GPaI0afYylq",
        "outputId": "ae7f6761-a67a-48ff-da5a-ae4e86359562"
      },
      "execution_count": 40,
      "outputs": [
        {
          "output_type": "execute_result",
          "data": {
            "text/plain": [
              "<matplotlib.collections.PathCollection at 0x7f9815d79700>"
            ]
          },
          "metadata": {},
          "execution_count": 40
        },
        {
          "output_type": "display_data",
          "data": {
            "text/plain": [
              "<Figure size 432x288 with 1 Axes>"
            ],
            "image/png": "[encoded data removed]"
          },
          "metadata": {
            "needs_background": "light"
          }
        }
      ]
    },
    {
      "cell_type": "code",
      "source": [
        "plt.scatter(data_neg, result)\n",
        "plt.scatter(data_neg, result2)"
      ],
      "metadata": {
        "colab": {
          "base_uri": "https://localhost:8080/",
          "height": 283
        },
        "id": "xY1NksPrY3cI",
        "outputId": "116b16f8-8d4b-427c-9442-136d90e86100"
      },
      "execution_count": 41,
      "outputs": [
        {
          "output_type": "execute_result",
          "data": {
            "text/plain": [
              "<matplotlib.collections.PathCollection at 0x7f9815ce6eb0>"
            ]
          },
          "metadata": {},
          "execution_count": 41
        },
        {
          "output_type": "display_data",
          "data": {
            "text/plain": [
              "<Figure size 432x288 with 1 Axes>"
            ],
            "image/png": "[encoded data removed]"
          },
          "metadata": {
            "needs_background": "light"
          }
        }
      ]
    },
    {
      "cell_type": "code",
      "source": [
        "data_sqrt = np.sqrt(data1)"
      ],
      "metadata": {
        "id": "KYTQp-uaZCG2"
      },
      "execution_count": 42,
      "outputs": []
    },
    {
      "cell_type": "code",
      "source": [
        "data_sqrt"
      ],
      "metadata": {
        "colab": {
          "base_uri": "https://localhost:8080/"
        },
        "id": "_35Yy5kwaBd1",
        "outputId": "bd3a22e1-3cca-4b8f-c303-7ca6822e5596"
      },
      "execution_count": 43,
      "outputs": [
        {
          "output_type": "execute_result",
          "data": {
            "text/plain": [
              "array([0.        , 1.        , 1.41421356, 1.73205081, 2.        ,\n",
              "       2.23606798, 2.44948974, 2.64575131, 2.82842712, 3.        ,\n",
              "       3.16227766, 3.31662479, 3.46410162, 3.60555128, 3.74165739,\n",
              "       3.87298335, 4.        , 4.12310563, 4.24264069, 4.35889894,\n",
              "       4.47213595, 4.58257569, 4.69041576, 4.79583152, 4.89897949,\n",
              "       5.        , 5.09901951, 5.19615242, 5.29150262, 5.38516481,\n",
              "       5.47722558, 5.56776436, 5.65685425, 5.74456265, 5.83095189,\n",
              "       5.91607978, 6.        , 6.08276253, 6.164414  , 6.244998  ,\n",
              "       6.32455532, 6.40312424, 6.4807407 , 6.55743852, 6.63324958,\n",
              "       6.70820393, 6.78232998, 6.8556546 , 6.92820323, 7.        ,\n",
              "       7.07106781, 7.14142843, 7.21110255, 7.28010989, 7.34846923,\n",
              "       7.41619849, 7.48331477, 7.54983444, 7.61577311, 7.68114575,\n",
              "       7.74596669, 7.81024968, 7.87400787, 7.93725393, 8.        ,\n",
              "       8.06225775, 8.1240384 , 8.18535277, 8.24621125, 8.30662386,\n",
              "       8.36660027, 8.42614977, 8.48528137, 8.54400375, 8.60232527,\n",
              "       8.66025404, 8.71779789, 8.77496439, 8.83176087, 8.88819442,\n",
              "       8.94427191, 9.        , 9.05538514, 9.11043358, 9.16515139,\n",
              "       9.21954446, 9.2736185 , 9.32737905, 9.38083152, 9.43398113,\n",
              "       9.48683298, 9.53939201, 9.59166305, 9.64365076, 9.69535971,\n",
              "       9.74679434, 9.79795897, 9.8488578 , 9.89949494, 9.94987437])"
            ]
          },
          "metadata": {},
          "execution_count": 43
        }
      ]
    },
    {
      "cell_type": "code",
      "source": [
        "data_b = np.array(data_sqrt)\n",
        "data_b"
      ],
      "metadata": {
        "colab": {
          "base_uri": "https://localhost:8080/"
        },
        "id": "s8nAJo21aDWk",
        "outputId": "2de1bcaa-4ee2-49c3-aa2f-92904ac325dc"
      },
      "execution_count": 44,
      "outputs": [
        {
          "output_type": "execute_result",
          "data": {
            "text/plain": [
              "array([0.        , 1.        , 1.41421356, 1.73205081, 2.        ,\n",
              "       2.23606798, 2.44948974, 2.64575131, 2.82842712, 3.        ,\n",
              "       3.16227766, 3.31662479, 3.46410162, 3.60555128, 3.74165739,\n",
              "       3.87298335, 4.        , 4.12310563, 4.24264069, 4.35889894,\n",
              "       4.47213595, 4.58257569, 4.69041576, 4.79583152, 4.89897949,\n",
              "       5.        , 5.09901951, 5.19615242, 5.29150262, 5.38516481,\n",
              "       5.47722558, 5.56776436, 5.65685425, 5.74456265, 5.83095189,\n",
              "       5.91607978, 6.        , 6.08276253, 6.164414  , 6.244998  ,\n",
              "       6.32455532, 6.40312424, 6.4807407 , 6.55743852, 6.63324958,\n",
              "       6.70820393, 6.78232998, 6.8556546 , 6.92820323, 7.        ,\n",
              "       7.07106781, 7.14142843, 7.21110255, 7.28010989, 7.34846923,\n",
              "       7.41619849, 7.48331477, 7.54983444, 7.61577311, 7.68114575,\n",
              "       7.74596669, 7.81024968, 7.87400787, 7.93725393, 8.        ,\n",
              "       8.06225775, 8.1240384 , 8.18535277, 8.24621125, 8.30662386,\n",
              "       8.36660027, 8.42614977, 8.48528137, 8.54400375, 8.60232527,\n",
              "       8.66025404, 8.71779789, 8.77496439, 8.83176087, 8.88819442,\n",
              "       8.94427191, 9.        , 9.05538514, 9.11043358, 9.16515139,\n",
              "       9.21954446, 9.2736185 , 9.32737905, 9.38083152, 9.43398113,\n",
              "       9.48683298, 9.53939201, 9.59166305, 9.64365076, 9.69535971,\n",
              "       9.74679434, 9.79795897, 9.8488578 , 9.89949494, 9.94987437])"
            ]
          },
          "metadata": {},
          "execution_count": 44
        }
      ]
    },
    {
      "cell_type": "code",
      "source": [
        "plt.scatter(data1, data_b)"
      ],
      "metadata": {
        "colab": {
          "base_uri": "https://localhost:8080/",
          "height": 283
        },
        "id": "P5HXVTnCaOsh",
        "outputId": "c3f3fe1d-75ec-47ff-cacb-3ae2882c8d43"
      },
      "execution_count": 45,
      "outputs": [
        {
          "output_type": "execute_result",
          "data": {
            "text/plain": [
              "<matplotlib.collections.PathCollection at 0x7f9815b6c640>"
            ]
          },
          "metadata": {},
          "execution_count": 45
        },
        {
          "output_type": "display_data",
          "data": {
            "text/plain": [
              "<Figure size 432x288 with 1 Axes>"
            ],
            "image/png": "[encoded data removed]"
          },
          "metadata": {
            "needs_background": "light"
          }
        }
      ]
    },
    {
      "cell_type": "code",
      "source": [],
      "metadata": {
        "id": "7ISJGhC2aX9W"
      },
      "execution_count": null,
      "outputs": []
    }
  ]
}