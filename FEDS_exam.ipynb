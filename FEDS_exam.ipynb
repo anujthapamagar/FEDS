{
  "nbformat": 4,
  "nbformat_minor": 0,
  "metadata": {
    "colab": {
      "provenance": [],
      "authorship_tag": "ABX9TyP6AGTF5pKrjzHKEf59WkWZ",
      "include_colab_link": true
    },
    "kernelspec": {
      "name": "python3",
      "display_name": "Python 3"
    },
    "language_info": {
      "name": "python"
    }
  },
  "cells": [
    {
      "cell_type": "markdown",
      "metadata": {
        "id": "view-in-github",
        "colab_type": "text"
      },
      "source": [
        "<a href=\"https://colab.research.google.com/github/anujthapamagar/FEDS/blob/main/FEDS_exam.ipynb\" target=\"_parent\"><img src=\"https://colab.research.google.com/assets/colab-badge.svg\" alt=\"Open In Colab\"/></a>"
      ]
    },
    {
      "cell_type": "markdown",
      "source": [
        "# 1. Import necessary modules"
      ],
      "metadata": {
        "id": "Eu1EdYAFy1Iw"
      }
    },
    {
      "cell_type": "code",
      "source": [
        "import numpy as np\n",
        "import pandas as pd\n",
        "import matplotlib.pyplot as plt"
      ],
      "metadata": {
        "id": "70iyG0AzzDDF"
      },
      "execution_count": 1,
      "outputs": []
    },
    {
      "cell_type": "markdown",
      "source": [
        "## 2. Here i show a simple function to check if the word or a given string is a palindrome or not."
      ],
      "metadata": {
        "id": "OIksGZiO8TkR"
      }
    },
    {
      "cell_type": "code",
      "source": [
        "def isPalindrome(str):\n",
        "\n",
        "  # Run loop from 0 to len/2\n",
        "  for i in range(0, int(len(str)/2)):\n",
        "      if str[i] != str[len(str)-i-1]:\n",
        "        return print(f\"The word is not a palindrome.\")\n",
        "  return print(f\"The word is a palindrome.\")\n",
        "\n"
      ],
      "metadata": {
        "id": "4FSlL26hzLBz"
      },
      "execution_count": 32,
      "outputs": []
    },
    {
      "cell_type": "code",
      "source": [
        "isPalindrome(\"hannah\")"
      ],
      "metadata": {
        "colab": {
          "base_uri": "https://localhost:8080/"
        },
        "id": "BoS0jWMo0Cel",
        "outputId": "99768f32-d737-42d0-d63e-039bcbafe366"
      },
      "execution_count": 33,
      "outputs": [
        {
          "output_type": "stream",
          "name": "stdout",
          "text": [
            "The word is a palindrome.\n"
          ]
        }
      ]
    },
    {
      "cell_type": "code",
      "source": [
        "isPalindrome(\"1234321\")"
      ],
      "metadata": {
        "colab": {
          "base_uri": "https://localhost:8080/"
        },
        "id": "OkqCHbVM10aO",
        "outputId": "120808a3-f549-4662-bb08-2cb8adf2147b"
      },
      "execution_count": 34,
      "outputs": [
        {
          "output_type": "stream",
          "name": "stdout",
          "text": [
            "The word is a palindrome.\n"
          ]
        }
      ]
    },
    {
      "cell_type": "code",
      "source": [
        "isPalindrome(\"ahfhnvvhshsh\")"
      ],
      "metadata": {
        "colab": {
          "base_uri": "https://localhost:8080/"
        },
        "id": "vxFnpoQb7utU",
        "outputId": "ec99776b-3e66-4a02-82c3-031d35a61056"
      },
      "execution_count": 35,
      "outputs": [
        {
          "output_type": "stream",
          "name": "stdout",
          "text": [
            "The word is not a palindrome.\n"
          ]
        }
      ]
    },
    {
      "cell_type": "code",
      "source": [],
      "metadata": {
        "id": "rVZ_CUtY7zzU"
      },
      "execution_count": null,
      "outputs": []
    }
  ]
}