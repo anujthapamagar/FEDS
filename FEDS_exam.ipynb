{
  "nbformat": 4,
  "nbformat_minor": 0,
  "metadata": {
    "colab": {
      "provenance": [],
      "authorship_tag": "ABX9TyOXCXoQWZrsmgmzac1Zbk8d",
      "include_colab_link": true
    },
    "kernelspec": {
      "name": "python3",
      "display_name": "Python 3"
    },
    "language_info": {
      "name": "python"
    }
  },
  "cells": [
    {
      "cell_type": "markdown",
      "metadata": {
        "id": "view-in-github",
        "colab_type": "text"
      },
      "source": [
        "<a href=\"https://colab.research.google.com/github/anujthapamagar/FEDS/blob/main/FEDS_exam.ipynb\" target=\"_parent\"><img src=\"https://colab.research.google.com/assets/colab-badge.svg\" alt=\"Open In Colab\"/></a>"
      ]
    },
    {
      "cell_type": "markdown",
      "source": [
        "# 1. Import necessary modules"
      ],
      "metadata": {
        "id": "Eu1EdYAFy1Iw"
      }
    },
    {
      "cell_type": "code",
      "source": [
        "import numpy as np\n",
        "import pandas as pd\n",
        "import matplotlib.pyplot as plt"
      ],
      "metadata": {
        "id": "70iyG0AzzDDF"
      },
      "execution_count": 1,
      "outputs": []
    },
    {
      "cell_type": "markdown",
      "source": [
        "## 2. Here i show a simple function to check if the word or a given string is a palindrome or not."
      ],
      "metadata": {
        "id": "OIksGZiO8TkR"
      }
    },
    {
      "cell_type": "code",
      "source": [
        "def isPalindrome(str):\n",
        "\n",
        "  # Run loop from 0 to len/2\n",
        "  for i in range(0, int(len(str)/2)):\n",
        "      if str[i] != str[len(str)-i-1]:\n",
        "        return print(f\"The word is not a palindrome.\")\n",
        "  return print(f\"The word is a palindrome.\")\n",
        "\n"
      ],
      "metadata": {
        "id": "4FSlL26hzLBz"
      },
      "execution_count": 32,
      "outputs": []
    },
    {
      "cell_type": "code",
      "source": [
        "isPalindrome(\"hannah\")"
      ],
      "metadata": {
        "colab": {
          "base_uri": "https://localhost:8080/"
        },
        "id": "BoS0jWMo0Cel",
        "outputId": "99768f32-d737-42d0-d63e-039bcbafe366"
      },
      "execution_count": 33,
      "outputs": [
        {
          "output_type": "stream",
          "name": "stdout",
          "text": [
            "The word is a palindrome.\n"
          ]
        }
      ]
    },
    {
      "cell_type": "code",
      "source": [
        "isPalindrome(\"1234321\")"
      ],
      "metadata": {
        "colab": {
          "base_uri": "https://localhost:8080/"
        },
        "id": "OkqCHbVM10aO",
        "outputId": "120808a3-f549-4662-bb08-2cb8adf2147b"
      },
      "execution_count": 34,
      "outputs": [
        {
          "output_type": "stream",
          "name": "stdout",
          "text": [
            "The word is a palindrome.\n"
          ]
        }
      ]
    },
    {
      "cell_type": "code",
      "source": [
        "isPalindrome(\"ahfhnvvhshsh\")"
      ],
      "metadata": {
        "colab": {
          "base_uri": "https://localhost:8080/"
        },
        "id": "vxFnpoQb7utU",
        "outputId": "ec99776b-3e66-4a02-82c3-031d35a61056"
      },
      "execution_count": 35,
      "outputs": [
        {
          "output_type": "stream",
          "name": "stdout",
          "text": [
            "The word is not a palindrome.\n"
          ]
        }
      ]
    },
    {
      "cell_type": "markdown",
      "source": [
        "## 3. I am using `urlretrieve` to access the data from github. We can also download the data from the web and upload it maniually to our Colab notebook."
      ],
      "metadata": {
        "id": "rVZ_CUtY7zzU"
      }
    },
    {
      "cell_type": "code",
      "source": [
        "from urllib.request import urlretrieve"
      ],
      "metadata": {
        "id": "YlaTEUgqAOM2"
      },
      "execution_count": 36,
      "outputs": []
    },
    {
      "cell_type": "code",
      "source": [
        "URL = 'https://raw.githubusercontent.com/stenoe/FEDS/main/data/NEE_data.csv'"
      ],
      "metadata": {
        "id": "akJNXdnqASpM"
      },
      "execution_count": 37,
      "outputs": []
    },
    {
      "cell_type": "code",
      "source": [
        "urlretrieve(URL, 'NEE_data.csv')"
      ],
      "metadata": {
        "colab": {
          "base_uri": "https://localhost:8080/"
        },
        "id": "LylhHL7wAc6T",
        "outputId": "7d237d43-142a-4d4e-e2e9-816ec2a54634"
      },
      "execution_count": 38,
      "outputs": [
        {
          "output_type": "execute_result",
          "data": {
            "text/plain": [
              "('NEE_data.csv', <http.client.HTTPMessage at 0x7f25e7a25db0>)"
            ]
          },
          "metadata": {},
          "execution_count": 38
        }
      ]
    },
    {
      "cell_type": "code",
      "source": [
        "df = pd.read_csv(\"NEE_data.csv\")\n",
        "df"
      ],
      "metadata": {
        "colab": {
          "base_uri": "https://localhost:8080/",
          "height": 424
        },
        "id": "OFmgTWFrAmKB",
        "outputId": "644307b1-6f80-4193-d3ce-bdc3b055fffb"
      },
      "execution_count": 39,
      "outputs": [
        {
          "output_type": "execute_result",
          "data": {
            "text/plain": [
              "                 timestamp  Year  Month  Day  Hour  DoY  Tair_f    NEE_f  \\\n",
              "0      2020-01-01 00:00:00  2020      1    1   0.0    1  -1.823  0.93385   \n",
              "1      2020-01-01 00:30:00  2020      1    1   0.5    1  -2.031  0.73878   \n",
              "2      2020-01-01 01:00:00  2020      1    1   1.0    1  -2.285  1.05920   \n",
              "3      2020-01-01 01:30:00  2020      1    1   1.5    1  -2.342  0.58402   \n",
              "4      2020-01-01 02:00:00  2020      1    1   2.0    1  -2.487  0.56388   \n",
              "...                    ...   ...    ...  ...   ...  ...     ...      ...   \n",
              "17563  2020-12-31 21:30:00  2020     12   31  21.5  366   0.726  0.89976   \n",
              "17564  2020-12-31 22:00:00  2020     12   31  22.0  366   0.725  0.89810   \n",
              "17565  2020-12-31 22:30:00  2020     12   31  22.5  366   0.653  0.89912   \n",
              "17566  2020-12-31 23:00:00  2020     12   31  23.0  366   0.515  0.89774   \n",
              "17567  2020-12-31 23:30:00  2020     12   31  23.5  366   0.447  0.89774   \n",
              "\n",
              "          GPP_f      Reco  \n",
              "0      0.037139  0.970984  \n",
              "1      0.217870  0.956651  \n",
              "2     -0.119840  0.939356  \n",
              "3      0.351130  0.935153  \n",
              "4      0.361290  0.925168  \n",
              "...         ...       ...  \n",
              "17563  0.176740  1.076507  \n",
              "17564  0.178560  1.076666  \n",
              "17565  0.172990  1.072117  \n",
              "17566  0.165460  1.063205  \n",
              "17567  0.161190  1.058934  \n",
              "\n",
              "[17568 rows x 10 columns]"
            ],
            "text/html": [
              "\n",
              "  <div id=\"df-c14b0ac9-b048-4537-ae84-ce44be972db8\">\n",
              "    <div class=\"colab-df-container\">\n",
              "      <div>\n",
              "<style scoped>\n",
              "    .dataframe tbody tr th:only-of-type {\n",
              "        vertical-align: middle;\n",
              "    }\n",
              "\n",
              "    .dataframe tbody tr th {\n",
              "        vertical-align: top;\n",
              "    }\n",
              "\n",
              "    .dataframe thead th {\n",
              "        text-align: right;\n",
              "    }\n",
              "</style>\n",
              "<table border=\"1\" class=\"dataframe\">\n",
              "  <thead>\n",
              "    <tr style=\"text-align: right;\">\n",
              "      <th></th>\n",
              "      <th>timestamp</th>\n",
              "      <th>Year</th>\n",
              "      <th>Month</th>\n",
              "      <th>Day</th>\n",
              "      <th>Hour</th>\n",
              "      <th>DoY</th>\n",
              "      <th>Tair_f</th>\n",
              "      <th>NEE_f</th>\n",
              "      <th>GPP_f</th>\n",
              "      <th>Reco</th>\n",
              "    </tr>\n",
              "  </thead>\n",
              "  <tbody>\n",
              "    <tr>\n",
              "      <th>0</th>\n",
              "      <td>2020-01-01 00:00:00</td>\n",
              "      <td>2020</td>\n",
              "      <td>1</td>\n",
              "      <td>1</td>\n",
              "      <td>0.0</td>\n",
              "      <td>1</td>\n",
              "      <td>-1.823</td>\n",
              "      <td>0.93385</td>\n",
              "      <td>0.037139</td>\n",
              "      <td>0.970984</td>\n",
              "    </tr>\n",
              "    <tr>\n",
              "      <th>1</th>\n",
              "      <td>2020-01-01 00:30:00</td>\n",
              "      <td>2020</td>\n",
              "      <td>1</td>\n",
              "      <td>1</td>\n",
              "      <td>0.5</td>\n",
              "      <td>1</td>\n",
              "      <td>-2.031</td>\n",
              "      <td>0.73878</td>\n",
              "      <td>0.217870</td>\n",
              "      <td>0.956651</td>\n",
              "    </tr>\n",
              "    <tr>\n",
              "      <th>2</th>\n",
              "      <td>2020-01-01 01:00:00</td>\n",
              "      <td>2020</td>\n",
              "      <td>1</td>\n",
              "      <td>1</td>\n",
              "      <td>1.0</td>\n",
              "      <td>1</td>\n",
              "      <td>-2.285</td>\n",
              "      <td>1.05920</td>\n",
              "      <td>-0.119840</td>\n",
              "      <td>0.939356</td>\n",
              "    </tr>\n",
              "    <tr>\n",
              "      <th>3</th>\n",
              "      <td>2020-01-01 01:30:00</td>\n",
              "      <td>2020</td>\n",
              "      <td>1</td>\n",
              "      <td>1</td>\n",
              "      <td>1.5</td>\n",
              "      <td>1</td>\n",
              "      <td>-2.342</td>\n",
              "      <td>0.58402</td>\n",
              "      <td>0.351130</td>\n",
              "      <td>0.935153</td>\n",
              "    </tr>\n",
              "    <tr>\n",
              "      <th>4</th>\n",
              "      <td>2020-01-01 02:00:00</td>\n",
              "      <td>2020</td>\n",
              "      <td>1</td>\n",
              "      <td>1</td>\n",
              "      <td>2.0</td>\n",
              "      <td>1</td>\n",
              "      <td>-2.487</td>\n",
              "      <td>0.56388</td>\n",
              "      <td>0.361290</td>\n",
              "      <td>0.925168</td>\n",
              "    </tr>\n",
              "    <tr>\n",
              "      <th>...</th>\n",
              "      <td>...</td>\n",
              "      <td>...</td>\n",
              "      <td>...</td>\n",
              "      <td>...</td>\n",
              "      <td>...</td>\n",
              "      <td>...</td>\n",
              "      <td>...</td>\n",
              "      <td>...</td>\n",
              "      <td>...</td>\n",
              "      <td>...</td>\n",
              "    </tr>\n",
              "    <tr>\n",
              "      <th>17563</th>\n",
              "      <td>2020-12-31 21:30:00</td>\n",
              "      <td>2020</td>\n",
              "      <td>12</td>\n",
              "      <td>31</td>\n",
              "      <td>21.5</td>\n",
              "      <td>366</td>\n",
              "      <td>0.726</td>\n",
              "      <td>0.89976</td>\n",
              "      <td>0.176740</td>\n",
              "      <td>1.076507</td>\n",
              "    </tr>\n",
              "    <tr>\n",
              "      <th>17564</th>\n",
              "      <td>2020-12-31 22:00:00</td>\n",
              "      <td>2020</td>\n",
              "      <td>12</td>\n",
              "      <td>31</td>\n",
              "      <td>22.0</td>\n",
              "      <td>366</td>\n",
              "      <td>0.725</td>\n",
              "      <td>0.89810</td>\n",
              "      <td>0.178560</td>\n",
              "      <td>1.076666</td>\n",
              "    </tr>\n",
              "    <tr>\n",
              "      <th>17565</th>\n",
              "      <td>2020-12-31 22:30:00</td>\n",
              "      <td>2020</td>\n",
              "      <td>12</td>\n",
              "      <td>31</td>\n",
              "      <td>22.5</td>\n",
              "      <td>366</td>\n",
              "      <td>0.653</td>\n",
              "      <td>0.89912</td>\n",
              "      <td>0.172990</td>\n",
              "      <td>1.072117</td>\n",
              "    </tr>\n",
              "    <tr>\n",
              "      <th>17566</th>\n",
              "      <td>2020-12-31 23:00:00</td>\n",
              "      <td>2020</td>\n",
              "      <td>12</td>\n",
              "      <td>31</td>\n",
              "      <td>23.0</td>\n",
              "      <td>366</td>\n",
              "      <td>0.515</td>\n",
              "      <td>0.89774</td>\n",
              "      <td>0.165460</td>\n",
              "      <td>1.063205</td>\n",
              "    </tr>\n",
              "    <tr>\n",
              "      <th>17567</th>\n",
              "      <td>2020-12-31 23:30:00</td>\n",
              "      <td>2020</td>\n",
              "      <td>12</td>\n",
              "      <td>31</td>\n",
              "      <td>23.5</td>\n",
              "      <td>366</td>\n",
              "      <td>0.447</td>\n",
              "      <td>0.89774</td>\n",
              "      <td>0.161190</td>\n",
              "      <td>1.058934</td>\n",
              "    </tr>\n",
              "  </tbody>\n",
              "</table>\n",
              "<p>17568 rows × 10 columns</p>\n",
              "</div>\n",
              "      <button class=\"colab-df-convert\" onclick=\"convertToInteractive('df-c14b0ac9-b048-4537-ae84-ce44be972db8')\"\n",
              "              title=\"Convert this dataframe to an interactive table.\"\n",
              "              style=\"display:none;\">\n",
              "        \n",
              "  <svg xmlns=\"http://www.w3.org/2000/svg\" height=\"24px\"viewBox=\"0 0 24 24\"\n",
              "       width=\"24px\">\n",
              "    <path d=\"M0 0h24v24H0V0z\" fill=\"none\"/>\n",
              "    <path d=\"M18.56 5.44l.94 2.06.94-2.06 2.06-.94-2.06-.94-.94-2.06-.94 2.06-2.06.94zm-11 1L8.5 8.5l.94-2.06 2.06-.94-2.06-.94L8.5 2.5l-.94 2.06-2.06.94zm10 10l.94 2.06.94-2.06 2.06-.94-2.06-.94-.94-2.06-.94 2.06-2.06.94z\"/><path d=\"M17.41 7.96l-1.37-1.37c-.4-.4-.92-.59-1.43-.59-.52 0-1.04.2-1.43.59L10.3 9.45l-7.72 7.72c-.78.78-.78 2.05 0 2.83L4 21.41c.39.39.9.59 1.41.59.51 0 1.02-.2 1.41-.59l7.78-7.78 2.81-2.81c.8-.78.8-2.07 0-2.86zM5.41 20L4 18.59l7.72-7.72 1.47 1.35L5.41 20z\"/>\n",
              "  </svg>\n",
              "      </button>\n",
              "      \n",
              "  <style>\n",
              "    .colab-df-container {\n",
              "      display:flex;\n",
              "      flex-wrap:wrap;\n",
              "      gap: 12px;\n",
              "    }\n",
              "\n",
              "    .colab-df-convert {\n",
              "      background-color: #E8F0FE;\n",
              "      border: none;\n",
              "      border-radius: 50%;\n",
              "      cursor: pointer;\n",
              "      display: none;\n",
              "      fill: #1967D2;\n",
              "      height: 32px;\n",
              "      padding: 0 0 0 0;\n",
              "      width: 32px;\n",
              "    }\n",
              "\n",
              "    .colab-df-convert:hover {\n",
              "      background-color: #E2EBFA;\n",
              "      box-shadow: 0px 1px 2px rgba(60, 64, 67, 0.3), 0px 1px 3px 1px rgba(60, 64, 67, 0.15);\n",
              "      fill: #174EA6;\n",
              "    }\n",
              "\n",
              "    [theme=dark] .colab-df-convert {\n",
              "      background-color: #3B4455;\n",
              "      fill: #D2E3FC;\n",
              "    }\n",
              "\n",
              "    [theme=dark] .colab-df-convert:hover {\n",
              "      background-color: #434B5C;\n",
              "      box-shadow: 0px 1px 3px 1px rgba(0, 0, 0, 0.15);\n",
              "      filter: drop-shadow(0px 1px 2px rgba(0, 0, 0, 0.3));\n",
              "      fill: #FFFFFF;\n",
              "    }\n",
              "  </style>\n",
              "\n",
              "      <script>\n",
              "        const buttonEl =\n",
              "          document.querySelector('#df-c14b0ac9-b048-4537-ae84-ce44be972db8 button.colab-df-convert');\n",
              "        buttonEl.style.display =\n",
              "          google.colab.kernel.accessAllowed ? 'block' : 'none';\n",
              "\n",
              "        async function convertToInteractive(key) {\n",
              "          const element = document.querySelector('#df-c14b0ac9-b048-4537-ae84-ce44be972db8');\n",
              "          const dataTable =\n",
              "            await google.colab.kernel.invokeFunction('convertToInteractive',\n",
              "                                                     [key], {});\n",
              "          if (!dataTable) return;\n",
              "\n",
              "          const docLinkHtml = 'Like what you see? Visit the ' +\n",
              "            '<a target=\"_blank\" href=https://colab.research.google.com/notebooks/data_table.ipynb>data table notebook</a>'\n",
              "            + ' to learn more about interactive tables.';\n",
              "          element.innerHTML = '';\n",
              "          dataTable['output_type'] = 'display_data';\n",
              "          await google.colab.output.renderOutput(dataTable, element);\n",
              "          const docLink = document.createElement('div');\n",
              "          docLink.innerHTML = docLinkHtml;\n",
              "          element.appendChild(docLink);\n",
              "        }\n",
              "      </script>\n",
              "    </div>\n",
              "  </div>\n",
              "  "
            ]
          },
          "metadata": {},
          "execution_count": 39
        }
      ]
    },
    {
      "cell_type": "code",
      "source": [],
      "metadata": {
        "id": "N9VmoWVaAuh7"
      },
      "execution_count": null,
      "outputs": []
    }
  ]
}