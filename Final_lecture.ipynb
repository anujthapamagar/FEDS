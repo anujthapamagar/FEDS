{
  "nbformat": 4,
  "nbformat_minor": 0,
  "metadata": {
    "colab": {
      "provenance": [],
      "gpuType": "T4",
      "authorship_tag": "ABX9TyMGWXUItLylt59QaY7rLyHq",
      "include_colab_link": true
    },
    "kernelspec": {
      "name": "python3",
      "display_name": "Python 3"
    },
    "language_info": {
      "name": "python"
    },
    "accelerator": "GPU"
  },
  "cells": [
    {
      "cell_type": "markdown",
      "metadata": {
        "id": "view-in-github",
        "colab_type": "text"
      },
      "source": [
        "<a href=\"https://colab.research.google.com/github/anujthapamagar/FEDS/blob/main/Final_lecture.ipynb\" target=\"_parent\"><img src=\"https://colab.research.google.com/assets/colab-badge.svg\" alt=\"Open In Colab\"/></a>"
      ]
    },
    {
      "cell_type": "markdown",
      "source": [
        "# Machine Learning\n",
        "Use a simple (Deep) Neural network for regression task\n",
        "The Task is to estimate the daily dynamics of the net ecosystem exchange (NEE)"
      ],
      "metadata": {
        "id": "38Sk_4yOmtOR"
      }
    },
    {
      "cell_type": "markdown",
      "source": [
        "# Download the data"
      ],
      "metadata": {
        "id": "9xg9fFr_mocn"
      }
    },
    {
      "cell_type": "code",
      "execution_count": 12,
      "metadata": {
        "colab": {
          "base_uri": "https://localhost:8080/"
        },
        "id": "Sg8L67t1hjC7",
        "outputId": "5ca1e85a-620a-4db1-a853-b7b5eddb9dca"
      },
      "outputs": [
        {
          "output_type": "stream",
          "name": "stdout",
          "text": [
            "data directory already exists... skipping creation\n",
            "Downloading data...\n"
          ]
        }
      ],
      "source": [
        "import requests\n",
        "from pathlib import Path\n",
        "\n",
        "# Setup path to a data folder\n",
        "data_path = Path(\"data/\")\n",
        "\n",
        "# If the data folder doesn't exist, download it and prepare it...\n",
        "if data_path.is_dir():\n",
        "  print(f\"{data_path} directory already exists... skipping creation\")\n",
        "else: \n",
        "  print(f\"{data_path} does not exist, creating one...\")\n",
        "  data_path.mkdir(parents=True, exist_ok=True)\n",
        "\n",
        "# Download data\n",
        "with open(data_path / \"NEE_data.csv\", \"wb\") as f:\n",
        "  request = requests.get(\"https://raw.githubusercontent.com/stenoe/FEDS/main/data/NEE_data.csv\")\n",
        "  print(\"Downloading data...\")\n",
        "  f.write(request.content)"
      ]
    },
    {
      "cell_type": "code",
      "source": [
        "import pandas as pd\n",
        "import numpy as np\n",
        "import matplotlib.pyplot as plt\n"
      ],
      "metadata": {
        "id": "Af1bebu4oX-d"
      },
      "execution_count": 13,
      "outputs": []
    },
    {
      "cell_type": "code",
      "source": [
        "df = pd.read_csv(data_path / \"NEE_data.csv\")\n",
        "df.head()"
      ],
      "metadata": {
        "colab": {
          "base_uri": "https://localhost:8080/",
          "height": 206
        },
        "id": "ZkKqVhHMoeBY",
        "outputId": "b5881f8b-a927-4f99-d0ea-89f0ec0fb486"
      },
      "execution_count": 14,
      "outputs": [
        {
          "output_type": "execute_result",
          "data": {
            "text/plain": [
              "             timestamp  Year  Month  Day  Hour  DoY  Tair_f    NEE_f  \\\n",
              "0  2020-01-01 00:00:00  2020      1    1   0.0    1  -1.823  0.93385   \n",
              "1  2020-01-01 00:30:00  2020      1    1   0.5    1  -2.031  0.73878   \n",
              "2  2020-01-01 01:00:00  2020      1    1   1.0    1  -2.285  1.05920   \n",
              "3  2020-01-01 01:30:00  2020      1    1   1.5    1  -2.342  0.58402   \n",
              "4  2020-01-01 02:00:00  2020      1    1   2.0    1  -2.487  0.56388   \n",
              "\n",
              "      GPP_f      Reco  \n",
              "0  0.037139  0.970984  \n",
              "1  0.217870  0.956651  \n",
              "2 -0.119840  0.939356  \n",
              "3  0.351130  0.935153  \n",
              "4  0.361290  0.925168  "
            ],
            "text/html": [
              "\n",
              "  <div id=\"df-4b953e22-0d11-4891-b91c-76338849e6dd\">\n",
              "    <div class=\"colab-df-container\">\n",
              "      <div>\n",
              "<style scoped>\n",
              "    .dataframe tbody tr th:only-of-type {\n",
              "        vertical-align: middle;\n",
              "    }\n",
              "\n",
              "    .dataframe tbody tr th {\n",
              "        vertical-align: top;\n",
              "    }\n",
              "\n",
              "    .dataframe thead th {\n",
              "        text-align: right;\n",
              "    }\n",
              "</style>\n",
              "<table border=\"1\" class=\"dataframe\">\n",
              "  <thead>\n",
              "    <tr style=\"text-align: right;\">\n",
              "      <th></th>\n",
              "      <th>timestamp</th>\n",
              "      <th>Year</th>\n",
              "      <th>Month</th>\n",
              "      <th>Day</th>\n",
              "      <th>Hour</th>\n",
              "      <th>DoY</th>\n",
              "      <th>Tair_f</th>\n",
              "      <th>NEE_f</th>\n",
              "      <th>GPP_f</th>\n",
              "      <th>Reco</th>\n",
              "    </tr>\n",
              "  </thead>\n",
              "  <tbody>\n",
              "    <tr>\n",
              "      <th>0</th>\n",
              "      <td>2020-01-01 00:00:00</td>\n",
              "      <td>2020</td>\n",
              "      <td>1</td>\n",
              "      <td>1</td>\n",
              "      <td>0.0</td>\n",
              "      <td>1</td>\n",
              "      <td>-1.823</td>\n",
              "      <td>0.93385</td>\n",
              "      <td>0.037139</td>\n",
              "      <td>0.970984</td>\n",
              "    </tr>\n",
              "    <tr>\n",
              "      <th>1</th>\n",
              "      <td>2020-01-01 00:30:00</td>\n",
              "      <td>2020</td>\n",
              "      <td>1</td>\n",
              "      <td>1</td>\n",
              "      <td>0.5</td>\n",
              "      <td>1</td>\n",
              "      <td>-2.031</td>\n",
              "      <td>0.73878</td>\n",
              "      <td>0.217870</td>\n",
              "      <td>0.956651</td>\n",
              "    </tr>\n",
              "    <tr>\n",
              "      <th>2</th>\n",
              "      <td>2020-01-01 01:00:00</td>\n",
              "      <td>2020</td>\n",
              "      <td>1</td>\n",
              "      <td>1</td>\n",
              "      <td>1.0</td>\n",
              "      <td>1</td>\n",
              "      <td>-2.285</td>\n",
              "      <td>1.05920</td>\n",
              "      <td>-0.119840</td>\n",
              "      <td>0.939356</td>\n",
              "    </tr>\n",
              "    <tr>\n",
              "      <th>3</th>\n",
              "      <td>2020-01-01 01:30:00</td>\n",
              "      <td>2020</td>\n",
              "      <td>1</td>\n",
              "      <td>1</td>\n",
              "      <td>1.5</td>\n",
              "      <td>1</td>\n",
              "      <td>-2.342</td>\n",
              "      <td>0.58402</td>\n",
              "      <td>0.351130</td>\n",
              "      <td>0.935153</td>\n",
              "    </tr>\n",
              "    <tr>\n",
              "      <th>4</th>\n",
              "      <td>2020-01-01 02:00:00</td>\n",
              "      <td>2020</td>\n",
              "      <td>1</td>\n",
              "      <td>1</td>\n",
              "      <td>2.0</td>\n",
              "      <td>1</td>\n",
              "      <td>-2.487</td>\n",
              "      <td>0.56388</td>\n",
              "      <td>0.361290</td>\n",
              "      <td>0.925168</td>\n",
              "    </tr>\n",
              "  </tbody>\n",
              "</table>\n",
              "</div>\n",
              "      <button class=\"colab-df-convert\" onclick=\"convertToInteractive('df-4b953e22-0d11-4891-b91c-76338849e6dd')\"\n",
              "              title=\"Convert this dataframe to an interactive table.\"\n",
              "              style=\"display:none;\">\n",
              "        \n",
              "  <svg xmlns=\"http://www.w3.org/2000/svg\" height=\"24px\"viewBox=\"0 0 24 24\"\n",
              "       width=\"24px\">\n",
              "    <path d=\"M0 0h24v24H0V0z\" fill=\"none\"/>\n",
              "    <path d=\"M18.56 5.44l.94 2.06.94-2.06 2.06-.94-2.06-.94-.94-2.06-.94 2.06-2.06.94zm-11 1L8.5 8.5l.94-2.06 2.06-.94-2.06-.94L8.5 2.5l-.94 2.06-2.06.94zm10 10l.94 2.06.94-2.06 2.06-.94-2.06-.94-.94-2.06-.94 2.06-2.06.94z\"/><path d=\"M17.41 7.96l-1.37-1.37c-.4-.4-.92-.59-1.43-.59-.52 0-1.04.2-1.43.59L10.3 9.45l-7.72 7.72c-.78.78-.78 2.05 0 2.83L4 21.41c.39.39.9.59 1.41.59.51 0 1.02-.2 1.41-.59l7.78-7.78 2.81-2.81c.8-.78.8-2.07 0-2.86zM5.41 20L4 18.59l7.72-7.72 1.47 1.35L5.41 20z\"/>\n",
              "  </svg>\n",
              "      </button>\n",
              "      \n",
              "  <style>\n",
              "    .colab-df-container {\n",
              "      display:flex;\n",
              "      flex-wrap:wrap;\n",
              "      gap: 12px;\n",
              "    }\n",
              "\n",
              "    .colab-df-convert {\n",
              "      background-color: #E8F0FE;\n",
              "      border: none;\n",
              "      border-radius: 50%;\n",
              "      cursor: pointer;\n",
              "      display: none;\n",
              "      fill: #1967D2;\n",
              "      height: 32px;\n",
              "      padding: 0 0 0 0;\n",
              "      width: 32px;\n",
              "    }\n",
              "\n",
              "    .colab-df-convert:hover {\n",
              "      background-color: #E2EBFA;\n",
              "      box-shadow: 0px 1px 2px rgba(60, 64, 67, 0.3), 0px 1px 3px 1px rgba(60, 64, 67, 0.15);\n",
              "      fill: #174EA6;\n",
              "    }\n",
              "\n",
              "    [theme=dark] .colab-df-convert {\n",
              "      background-color: #3B4455;\n",
              "      fill: #D2E3FC;\n",
              "    }\n",
              "\n",
              "    [theme=dark] .colab-df-convert:hover {\n",
              "      background-color: #434B5C;\n",
              "      box-shadow: 0px 1px 3px 1px rgba(0, 0, 0, 0.15);\n",
              "      filter: drop-shadow(0px 1px 2px rgba(0, 0, 0, 0.3));\n",
              "      fill: #FFFFFF;\n",
              "    }\n",
              "  </style>\n",
              "\n",
              "      <script>\n",
              "        const buttonEl =\n",
              "          document.querySelector('#df-4b953e22-0d11-4891-b91c-76338849e6dd button.colab-df-convert');\n",
              "        buttonEl.style.display =\n",
              "          google.colab.kernel.accessAllowed ? 'block' : 'none';\n",
              "\n",
              "        async function convertToInteractive(key) {\n",
              "          const element = document.querySelector('#df-4b953e22-0d11-4891-b91c-76338849e6dd');\n",
              "          const dataTable =\n",
              "            await google.colab.kernel.invokeFunction('convertToInteractive',\n",
              "                                                     [key], {});\n",
              "          if (!dataTable) return;\n",
              "\n",
              "          const docLinkHtml = 'Like what you see? Visit the ' +\n",
              "            '<a target=\"_blank\" href=https://colab.research.google.com/notebooks/data_table.ipynb>data table notebook</a>'\n",
              "            + ' to learn more about interactive tables.';\n",
              "          element.innerHTML = '';\n",
              "          dataTable['output_type'] = 'display_data';\n",
              "          await google.colab.output.renderOutput(dataTable, element);\n",
              "          const docLink = document.createElement('div');\n",
              "          docLink.innerHTML = docLinkHtml;\n",
              "          element.appendChild(docLink);\n",
              "        }\n",
              "      </script>\n",
              "    </div>\n",
              "  </div>\n",
              "  "
            ]
          },
          "metadata": {},
          "execution_count": 14
        }
      ]
    },
    {
      "cell_type": "markdown",
      "source": [
        "# Import pytorch"
      ],
      "metadata": {
        "id": "PdspChdrpqYw"
      }
    },
    {
      "cell_type": "code",
      "source": [],
      "metadata": {
        "id": "1DYgRgkSphm4"
      },
      "execution_count": 3,
      "outputs": []
    },
    {
      "cell_type": "code",
      "source": [
        "import torch\n",
        "from torch import nn\n",
        "\n",
        "from sklearn.model_selection import train_test_split\n",
        "\n",
        "torch.__version__"
      ],
      "metadata": {
        "colab": {
          "base_uri": "https://localhost:8080/",
          "height": 35
        },
        "id": "5LQcOsVhouvG",
        "outputId": "42e18a85-79d0-4580-d621-b93ebba1273c"
      },
      "execution_count": 15,
      "outputs": [
        {
          "output_type": "execute_result",
          "data": {
            "text/plain": [
              "'2.0.1+cu118'"
            ],
            "application/vnd.google.colaboratory.intrinsic+json": {
              "type": "string"
            }
          },
          "metadata": {},
          "execution_count": 15
        }
      ]
    },
    {
      "cell_type": "markdown",
      "source": [
        "### 3.1 Lets write device agnostic code\n"
      ],
      "metadata": {
        "id": "aXAzAl_gp2E7"
      }
    },
    {
      "cell_type": "code",
      "source": [
        "device = \"cuda\" if torch.cuda.is_available() else \"mps\" if torch.backends.mps_is_available() else \"cpu\"\n",
        "print(f\"Using device: {device}\")"
      ],
      "metadata": {
        "colab": {
          "base_uri": "https://localhost:8080/"
        },
        "id": "8BW1z99ZqBBT",
        "outputId": "cfc85c84-587f-4010-b793-5e4e766a6033"
      },
      "execution_count": 16,
      "outputs": [
        {
          "output_type": "stream",
          "name": "stdout",
          "text": [
            "Using device: cuda\n"
          ]
        }
      ]
    },
    {
      "cell_type": "markdown",
      "source": [
        "## 4. Prepare the data for the use with PyTorch neural network"
      ],
      "metadata": {
        "id": "JbLuigZsqdTw"
      }
    },
    {
      "cell_type": "code",
      "source": [
        "RANDOM_SEED = 42\n",
        "\n",
        "X = torch.tensor(df[df.Month==6].Hour.to_numpy()).type(torch.float).unsqueeze(dim=1)\n",
        "y = torch.tensor(df[df.Month==6].NEE_f.to_numpy()).type(torch.float).unsqueeze(dim=1)\n",
        "\n",
        "# split into training and test dataset\n",
        "X_train, X_test, y_train, y_test = train_test_split(\n",
        "X,\n",
        "y,\n",
        "test_size = 0.2,\n",
        "random_state = RANDOM_SEED\n",
        ")\n",
        "\n",
        "X_train[:5], y_train[:5]"
      ],
      "metadata": {
        "colab": {
          "base_uri": "https://localhost:8080/"
        },
        "id": "IjScNoibqvQM",
        "outputId": "cb9407d2-76bc-47b6-d866-b8b2b0953e60"
      },
      "execution_count": 17,
      "outputs": [
        {
          "output_type": "execute_result",
          "data": {
            "text/plain": [
              "(tensor([[22.0000],\n",
              "         [ 2.5000],\n",
              "         [14.5000],\n",
              "         [ 8.5000],\n",
              "         [14.5000]]),\n",
              " tensor([[  5.4943],\n",
              "         [  4.9038],\n",
              "         [-13.6170],\n",
              "         [ -8.8606],\n",
              "         [ -8.7023]]))"
            ]
          },
          "metadata": {},
          "execution_count": 17
        }
      ]
    },
    {
      "cell_type": "code",
      "source": [
        "# Lets see how the data look like\n",
        "plt.scatter(X_train, y_train, label = \"Training data\")\n",
        "plt.scatter(X_test, y_test, label = \"Testing data\")\n",
        "plt.xlabel(\"Hour\")\n",
        "plt.ylabel(\"NEE\")\n",
        "plt.legend(loc=\"upper left\")"
      ],
      "metadata": {
        "colab": {
          "base_uri": "https://localhost:8080/",
          "height": 466
        },
        "id": "_r4OcKSjrJcH",
        "outputId": "1079faee-53d0-4288-aa58-1ad3004c989a"
      },
      "execution_count": 18,
      "outputs": [
        {
          "output_type": "execute_result",
          "data": {
            "text/plain": [
              "<matplotlib.legend.Legend at 0x7fc83b053430>"
            ]
          },
          "metadata": {},
          "execution_count": 18
        },
        {
          "output_type": "display_data",
          "data": {
            "text/plain": [
              "<Figure size 640x480 with 1 Axes>"
            ],
            "image/png": "[encoded data removed]"
          },
          "metadata": {}
        }
      ]
    },
    {
      "cell_type": "markdown",
      "source": [
        "# 5. Set up the neural network"
      ],
      "metadata": {
        "id": "mOitvLaatEjx"
      }
    },
    {
      "cell_type": "code",
      "source": [
        "class DeepNormalNetwork(nn.Module):\n",
        "  # need init constructor\n",
        "  def __init__(self, n_inputs: int = 1, n_hidden: int = 10):\n",
        "    super().__init__()\n",
        "    self.hidden = torch.nn.Linear(n_inputs, n_hidden)\n",
        "    self.mean_linear = torch.nn.Linear(n_hidden, 1)    \n",
        "\n",
        "    # need to implement a forward step method\n",
        "    def forward(self, x):\n",
        "      outputs = self.hidden(x)\n",
        "      outputs = torch.sigmoid(outputs)\n",
        "\n",
        "      mean = self.mean_linear(outputs)\n",
        "      return mean\n",
        "\n",
        "model_0 = DeepNormalNetwork().to(device)\n",
        "\n"
      ],
      "metadata": {
        "id": "-t24W2B0tOSd"
      },
      "execution_count": 19,
      "outputs": []
    },
    {
      "cell_type": "code",
      "source": [
        "model_0"
      ],
      "metadata": {
        "colab": {
          "base_uri": "https://localhost:8080/"
        },
        "id": "VHlZPycoyrI6",
        "outputId": "325f5263-5fac-48ab-eb3a-ec857c6ded0a"
      },
      "execution_count": 20,
      "outputs": [
        {
          "output_type": "execute_result",
          "data": {
            "text/plain": [
              "DeepNormalNetwork(\n",
              "  (hidden): Linear(in_features=1, out_features=10, bias=True)\n",
              "  (mean_linear): Linear(in_features=10, out_features=1, bias=True)\n",
              ")"
            ]
          },
          "metadata": {},
          "execution_count": 20
        }
      ]
    },
    {
      "cell_type": "code",
      "source": [
        "# Define the loss function\n",
        "\n",
        "loss_fn = nn.L1Loss()\n",
        "\n",
        "# set an optimiser, use a ADAM (special gradient descent)\n",
        "optimiser = torch.optim.Adam(params=model_0.parameters(), lr=0.05)\n"
      ],
      "metadata": {
        "id": "-5s1VTkHw0hK"
      },
      "execution_count": 21,
      "outputs": []
    },
    {
      "cell_type": "markdown",
      "source": [
        "## 5.2 The heart of the learning algorithm - the training loop\n",
        "\n",
        "1. switch to training mode\n",
        "2. copy data to the GPU\n",
        "3. calculate the forward pass/step and store this\n",
        "4. calculate the loss\n",
        "5. reset the gradients\n",
        "6. make backward propagation\n",
        "7. perform the optomiser step\n",
        "\n",
        "To get some output on the progress:\n",
        "\n",
        "1. switch to evaluation / inference mode\n",
        "2. make a prediction with test data\n",
        "3. calculate the loss of it\n",
        "4. print results"
      ],
      "metadata": {
        "id": "U_X59nsLypAW"
      }
    },
    {
      "cell_type": "code",
      "source": [
        "# Training loop\n",
        "torch.manual_seed(RANDOM_SEED)\n",
        "\n",
        "epochs = 300\n",
        "\n",
        "for epoch in range(epochs):\n",
        "  # 1. switch to training mode\n",
        "  model_0.train()\n",
        "\n",
        "  # 2. copy data to GPU\n",
        "  X_train = X_train.to(device)\n",
        "  y_train = y_train.to(device)\n",
        "\n",
        "  # 3. calculate the forward pass\n",
        "  y_pred = model_0(X_train)\n",
        "\n",
        "  # 4. calculate the loss\n",
        "  loss = loss_fn(y_pred, y_train)\n",
        "\n",
        "  # 5. set the optimiser grads to zero\n",
        "  optimiser.zero_grad()\n",
        "\n",
        "  # 6. Make backpropagation\n",
        "  loss.backward()\n",
        "\n",
        "  # 7. Make optimiser step\n",
        "  optimiser.step()\n",
        "\n",
        "  ## testing and see how the algorithm is performing\n",
        "  if epoch % 20 == 0: # run every 20th time \n",
        "    # 1. switch to evaluation mode\n",
        "    model_0.eval()\n",
        "\n",
        "    with torch.inference_mode():\n",
        "      X_test = X_test.to(device)\n",
        "      y_test = y_test.to(device)\n",
        "\n",
        "      test_pred = model_0(X_test)\n",
        "      test_loss = loss_fn(test_pred, y_test)\n",
        "\n",
        "    # print what happens\n",
        "    print(f\"Model 0 - Epoch: {epoch} | Loss: {loss} | Test loss : {test_loss}\")\n",
        "\n"
      ],
      "metadata": {
        "colab": {
          "base_uri": "https://localhost:8080/",
          "height": 381
        },
        "id": "0oSud1Nwzd1B",
        "outputId": "1a746c61-59bc-4b2e-b4cc-4907100048bd"
      },
      "execution_count": 22,
      "outputs": [
        {
          "output_type": "error",
          "ename": "NotImplementedError",
          "evalue": "ignored",
          "traceback": [
            "\u001b[0;31m---------------------------------------------------------------------------\u001b[0m",
            "\u001b[0;31mNotImplementedError\u001b[0m                       Traceback (most recent call last)",
            "\u001b[0;32m<ipython-input-22-43da478f533c>\u001b[0m in \u001b[0;36m<cell line: 6>\u001b[0;34m()\u001b[0m\n\u001b[1;32m     13\u001b[0m \u001b[0;34m\u001b[0m\u001b[0m\n\u001b[1;32m     14\u001b[0m   \u001b[0;31m# 3. calculate the forward pass\u001b[0m\u001b[0;34m\u001b[0m\u001b[0;34m\u001b[0m\u001b[0m\n\u001b[0;32m---> 15\u001b[0;31m   \u001b[0my_pred\u001b[0m \u001b[0;34m=\u001b[0m \u001b[0mmodel_0\u001b[0m\u001b[0;34m(\u001b[0m\u001b[0mX_train\u001b[0m\u001b[0;34m)\u001b[0m\u001b[0;34m\u001b[0m\u001b[0;34m\u001b[0m\u001b[0m\n\u001b[0m\u001b[1;32m     16\u001b[0m \u001b[0;34m\u001b[0m\u001b[0m\n\u001b[1;32m     17\u001b[0m   \u001b[0;31m# 4. calculate the loss\u001b[0m\u001b[0;34m\u001b[0m\u001b[0;34m\u001b[0m\u001b[0m\n",
            "\u001b[0;32m/usr/local/lib/python3.10/dist-packages/torch/nn/modules/module.py\u001b[0m in \u001b[0;36m_call_impl\u001b[0;34m(self, *args, **kwargs)\u001b[0m\n\u001b[1;32m   1499\u001b[0m                 \u001b[0;32mor\u001b[0m \u001b[0m_global_backward_pre_hooks\u001b[0m \u001b[0;32mor\u001b[0m \u001b[0m_global_backward_hooks\u001b[0m\u001b[0;34m\u001b[0m\u001b[0;34m\u001b[0m\u001b[0m\n\u001b[1;32m   1500\u001b[0m                 or _global_forward_hooks or _global_forward_pre_hooks):\n\u001b[0;32m-> 1501\u001b[0;31m             \u001b[0;32mreturn\u001b[0m \u001b[0mforward_call\u001b[0m\u001b[0;34m(\u001b[0m\u001b[0;34m*\u001b[0m\u001b[0margs\u001b[0m\u001b[0;34m,\u001b[0m \u001b[0;34m**\u001b[0m\u001b[0mkwargs\u001b[0m\u001b[0;34m)\u001b[0m\u001b[0;34m\u001b[0m\u001b[0;34m\u001b[0m\u001b[0m\n\u001b[0m\u001b[1;32m   1502\u001b[0m         \u001b[0;31m# Do not call functions when jit is used\u001b[0m\u001b[0;34m\u001b[0m\u001b[0;34m\u001b[0m\u001b[0m\n\u001b[1;32m   1503\u001b[0m         \u001b[0mfull_backward_hooks\u001b[0m\u001b[0;34m,\u001b[0m \u001b[0mnon_full_backward_hooks\u001b[0m \u001b[0;34m=\u001b[0m \u001b[0;34m[\u001b[0m\u001b[0;34m]\u001b[0m\u001b[0;34m,\u001b[0m \u001b[0;34m[\u001b[0m\u001b[0;34m]\u001b[0m\u001b[0;34m\u001b[0m\u001b[0;34m\u001b[0m\u001b[0m\n",
            "\u001b[0;32m/usr/local/lib/python3.10/dist-packages/torch/nn/modules/module.py\u001b[0m in \u001b[0;36m_forward_unimplemented\u001b[0;34m(self, *input)\u001b[0m\n\u001b[1;32m    361\u001b[0m         \u001b[0mregistered\u001b[0m \u001b[0mhooks\u001b[0m \u001b[0;32mwhile\u001b[0m \u001b[0mthe\u001b[0m \u001b[0mlatter\u001b[0m \u001b[0msilently\u001b[0m \u001b[0mignores\u001b[0m \u001b[0mthem\u001b[0m\u001b[0;34m.\u001b[0m\u001b[0;34m\u001b[0m\u001b[0;34m\u001b[0m\u001b[0m\n\u001b[1;32m    362\u001b[0m     \"\"\"\n\u001b[0;32m--> 363\u001b[0;31m     \u001b[0;32mraise\u001b[0m \u001b[0mNotImplementedError\u001b[0m\u001b[0;34m(\u001b[0m\u001b[0;34mf\"Module [{type(self).__name__}] is missing the required \\\"forward\\\" function\"\u001b[0m\u001b[0;34m)\u001b[0m\u001b[0;34m\u001b[0m\u001b[0;34m\u001b[0m\u001b[0m\n\u001b[0m\u001b[1;32m    364\u001b[0m \u001b[0;34m\u001b[0m\u001b[0m\n\u001b[1;32m    365\u001b[0m \u001b[0;34m\u001b[0m\u001b[0m\n",
            "\u001b[0;31mNotImplementedError\u001b[0m: Module [DeepNormalNetwork] is missing the required \"forward\" function"
          ]
        }
      ]
    },
    {
      "cell_type": "markdown",
      "source": [
        "## Evaluate with testing data"
      ],
      "metadata": {
        "id": "05yBLDac2X2C"
      }
    },
    {
      "cell_type": "code",
      "source": [
        "model_0.eval()\n",
        "\n",
        "with torch.inference_mode():\n",
        "  y_pred = model_0(X_test)"
      ],
      "metadata": {
        "id": "7guD1g0l2mnV"
      },
      "execution_count": null,
      "outputs": []
    },
    {
      "cell_type": "code",
      "source": [
        "def plot_prediction(train_data = X_train,\n",
        "                    train_labels=y_train,\n",
        "                    test_data=X_test,\n",
        "                    test_labels=y_test,\n",
        "                    prdictions=None,\n",
        "                    ):\n",
        "  plt.scatter(figsize=(10,7))\n",
        "\n",
        "  # plot scatter of training data\n",
        "\n",
        "  plt.scatter(train_data.cpu(), train_labels.cpu(), c=\"b\", alpha = 0,5, label =\"Training data\")\n",
        "\n",
        "  \n",
        "  plt.scatter(test_data.cpu(), test_labels.cpu(), c=\"b\", alpha = 0.5, label =\"Testing data\")\n",
        "\n",
        "  # do we have predictions?\n",
        "\n",
        "  if predictions is not None:\n",
        "    px = pd.DataFrame({\n",
        "        \"x\" = np.ndarray.flatten(test_data.cpu().numpy(),\n",
        "        \"y\" = np.ndarray.flatten(predictions.cpu().numpy()})\n",
        "    px.sort_values(by=\"x\", inplace = True)\n",
        "    plt.plot(px.x,px.y, c=\"r\", linewidth=3.0, label =\"prediction\")\n",
        "\n",
        "  plt.legend();\n",
        "  plt.xlabel(\"Hour\")\n",
        "  plt.ylabel(\"NEE\")"
      ],
      "metadata": {
        "id": "4Jy8ZUFe3HVK"
      },
      "execution_count": null,
      "outputs": []
    },
    {
      "cell_type": "code",
      "source": [],
      "metadata": {
        "id": "vnVnumFj5eGy"
      },
      "execution_count": null,
      "outputs": []
    }
  ]
}